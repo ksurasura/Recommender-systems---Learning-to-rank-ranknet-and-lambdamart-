{
 "cells": [
  {
   "cell_type": "code",
   "execution_count": 1,
   "metadata": {},
   "outputs": [],
   "source": [
    "import pandas as pd"
   ]
  },
  {
   "cell_type": "code",
   "execution_count": 2,
   "metadata": {},
   "outputs": [],
   "source": [
    "data = pd.read_csv(\"potential-talents - Aspiring human resources - seeking human resources.csv\")"
   ]
  },
  {
   "cell_type": "code",
   "execution_count": 3,
   "metadata": {},
   "outputs": [
    {
     "data": {
      "text/plain": [
       "(104, 5)"
      ]
     },
     "execution_count": 3,
     "metadata": {},
     "output_type": "execute_result"
    }
   ],
   "source": [
    "data.shape"
   ]
  },
  {
   "cell_type": "code",
   "execution_count": 4,
   "metadata": {},
   "outputs": [
    {
     "data": {
      "text/html": [
       "<div>\n",
       "<style scoped>\n",
       "    .dataframe tbody tr th:only-of-type {\n",
       "        vertical-align: middle;\n",
       "    }\n",
       "\n",
       "    .dataframe tbody tr th {\n",
       "        vertical-align: top;\n",
       "    }\n",
       "\n",
       "    .dataframe thead th {\n",
       "        text-align: right;\n",
       "    }\n",
       "</style>\n",
       "<table border=\"1\" class=\"dataframe\">\n",
       "  <thead>\n",
       "    <tr style=\"text-align: right;\">\n",
       "      <th></th>\n",
       "      <th>id</th>\n",
       "      <th>job_title</th>\n",
       "      <th>location</th>\n",
       "      <th>connection</th>\n",
       "      <th>fit</th>\n",
       "    </tr>\n",
       "  </thead>\n",
       "  <tbody>\n",
       "    <tr>\n",
       "      <th>0</th>\n",
       "      <td>1</td>\n",
       "      <td>2019 C.T. Bauer College of Business Graduate (...</td>\n",
       "      <td>Houston, Texas</td>\n",
       "      <td>85</td>\n",
       "      <td>NaN</td>\n",
       "    </tr>\n",
       "    <tr>\n",
       "      <th>1</th>\n",
       "      <td>2</td>\n",
       "      <td>Native English Teacher at EPIK (English Progra...</td>\n",
       "      <td>Kanada</td>\n",
       "      <td>500+</td>\n",
       "      <td>NaN</td>\n",
       "    </tr>\n",
       "    <tr>\n",
       "      <th>2</th>\n",
       "      <td>3</td>\n",
       "      <td>Aspiring Human Resources Professional</td>\n",
       "      <td>Raleigh-Durham, North Carolina Area</td>\n",
       "      <td>44</td>\n",
       "      <td>NaN</td>\n",
       "    </tr>\n",
       "    <tr>\n",
       "      <th>3</th>\n",
       "      <td>4</td>\n",
       "      <td>People Development Coordinator at Ryan</td>\n",
       "      <td>Denton, Texas</td>\n",
       "      <td>500+</td>\n",
       "      <td>NaN</td>\n",
       "    </tr>\n",
       "    <tr>\n",
       "      <th>4</th>\n",
       "      <td>5</td>\n",
       "      <td>Advisory Board Member at Celal Bayar University</td>\n",
       "      <td>İzmir, Türkiye</td>\n",
       "      <td>500+</td>\n",
       "      <td>NaN</td>\n",
       "    </tr>\n",
       "  </tbody>\n",
       "</table>\n",
       "</div>"
      ],
      "text/plain": [
       "   id                                          job_title  \\\n",
       "0   1  2019 C.T. Bauer College of Business Graduate (...   \n",
       "1   2  Native English Teacher at EPIK (English Progra...   \n",
       "2   3              Aspiring Human Resources Professional   \n",
       "3   4             People Development Coordinator at Ryan   \n",
       "4   5    Advisory Board Member at Celal Bayar University   \n",
       "\n",
       "                              location connection  fit  \n",
       "0                       Houston, Texas         85  NaN  \n",
       "1                               Kanada      500+   NaN  \n",
       "2  Raleigh-Durham, North Carolina Area         44  NaN  \n",
       "3                        Denton, Texas      500+   NaN  \n",
       "4                       İzmir, Türkiye      500+   NaN  "
      ]
     },
     "execution_count": 4,
     "metadata": {},
     "output_type": "execute_result"
    }
   ],
   "source": [
    "data.head()"
   ]
  },
  {
   "cell_type": "code",
   "execution_count": 5,
   "metadata": {},
   "outputs": [
    {
     "data": {
      "text/html": [
       "<div>\n",
       "<style scoped>\n",
       "    .dataframe tbody tr th:only-of-type {\n",
       "        vertical-align: middle;\n",
       "    }\n",
       "\n",
       "    .dataframe tbody tr th {\n",
       "        vertical-align: top;\n",
       "    }\n",
       "\n",
       "    .dataframe thead th {\n",
       "        text-align: right;\n",
       "    }\n",
       "</style>\n",
       "<table border=\"1\" class=\"dataframe\">\n",
       "  <thead>\n",
       "    <tr style=\"text-align: right;\">\n",
       "      <th></th>\n",
       "      <th>id</th>\n",
       "      <th>fit</th>\n",
       "    </tr>\n",
       "  </thead>\n",
       "  <tbody>\n",
       "    <tr>\n",
       "      <th>count</th>\n",
       "      <td>104.000000</td>\n",
       "      <td>0.0</td>\n",
       "    </tr>\n",
       "    <tr>\n",
       "      <th>mean</th>\n",
       "      <td>52.500000</td>\n",
       "      <td>NaN</td>\n",
       "    </tr>\n",
       "    <tr>\n",
       "      <th>std</th>\n",
       "      <td>30.166206</td>\n",
       "      <td>NaN</td>\n",
       "    </tr>\n",
       "    <tr>\n",
       "      <th>min</th>\n",
       "      <td>1.000000</td>\n",
       "      <td>NaN</td>\n",
       "    </tr>\n",
       "    <tr>\n",
       "      <th>25%</th>\n",
       "      <td>26.750000</td>\n",
       "      <td>NaN</td>\n",
       "    </tr>\n",
       "    <tr>\n",
       "      <th>50%</th>\n",
       "      <td>52.500000</td>\n",
       "      <td>NaN</td>\n",
       "    </tr>\n",
       "    <tr>\n",
       "      <th>75%</th>\n",
       "      <td>78.250000</td>\n",
       "      <td>NaN</td>\n",
       "    </tr>\n",
       "    <tr>\n",
       "      <th>max</th>\n",
       "      <td>104.000000</td>\n",
       "      <td>NaN</td>\n",
       "    </tr>\n",
       "  </tbody>\n",
       "</table>\n",
       "</div>"
      ],
      "text/plain": [
       "               id  fit\n",
       "count  104.000000  0.0\n",
       "mean    52.500000  NaN\n",
       "std     30.166206  NaN\n",
       "min      1.000000  NaN\n",
       "25%     26.750000  NaN\n",
       "50%     52.500000  NaN\n",
       "75%     78.250000  NaN\n",
       "max    104.000000  NaN"
      ]
     },
     "execution_count": 5,
     "metadata": {},
     "output_type": "execute_result"
    }
   ],
   "source": [
    "data.describe()"
   ]
  },
  {
   "cell_type": "code",
   "execution_count": 6,
   "metadata": {},
   "outputs": [
    {
     "name": "stdout",
     "output_type": "stream",
     "text": [
      "<class 'pandas.core.frame.DataFrame'>\n",
      "RangeIndex: 104 entries, 0 to 103\n",
      "Data columns (total 5 columns):\n",
      " #   Column      Non-Null Count  Dtype  \n",
      "---  ------      --------------  -----  \n",
      " 0   id          104 non-null    int64  \n",
      " 1   job_title   104 non-null    object \n",
      " 2   location    104 non-null    object \n",
      " 3   connection  104 non-null    object \n",
      " 4   fit         0 non-null      float64\n",
      "dtypes: float64(1), int64(1), object(3)\n",
      "memory usage: 4.2+ KB\n"
     ]
    }
   ],
   "source": [
    "data.info()"
   ]
  },
  {
   "cell_type": "code",
   "execution_count": 7,
   "metadata": {},
   "outputs": [],
   "source": [
    "#replacing '500+ ' with 500\n",
    "data.connection.replace({'500+ ':500}, inplace=True)"
   ]
  },
  {
   "cell_type": "code",
   "execution_count": null,
   "metadata": {},
   "outputs": [],
   "source": []
  },
  {
   "cell_type": "code",
   "execution_count": null,
   "metadata": {},
   "outputs": [],
   "source": []
  },
  {
   "cell_type": "code",
   "execution_count": 8,
   "metadata": {},
   "outputs": [],
   "source": [
    "from sklearn.feature_extraction.text import TfidfVectorizer\n",
    "tfidf = TfidfVectorizer(stop_words='english')"
   ]
  },
  {
   "cell_type": "code",
   "execution_count": 9,
   "metadata": {},
   "outputs": [],
   "source": [
    "tfidf_jobtitle_matrix = tfidf.fit_transform((data['job_title']))"
   ]
  },
  {
   "cell_type": "code",
   "execution_count": 10,
   "metadata": {},
   "outputs": [
    {
     "data": {
      "text/plain": [
       "(104, 181)"
      ]
     },
     "execution_count": 10,
     "metadata": {},
     "output_type": "execute_result"
    }
   ],
   "source": [
    "tfidf_jobtitle_matrix.shape"
   ]
  },
  {
   "cell_type": "code",
   "execution_count": 11,
   "metadata": {},
   "outputs": [
    {
     "name": "stdout",
     "output_type": "stream",
     "text": [
      "Enter job keywords: Aspiring human resources\n"
     ]
    }
   ],
   "source": [
    "search_keyword = input(\"Enter job keywords: \")"
   ]
  },
  {
   "cell_type": "code",
   "execution_count": 12,
   "metadata": {},
   "outputs": [],
   "source": [
    "keyword_list = [search_keyword]\n",
    "user_keyword = pd.DataFrame(keyword_list, columns = ['job_keyword'])"
   ]
  },
  {
   "cell_type": "code",
   "execution_count": 13,
   "metadata": {},
   "outputs": [
    {
     "data": {
      "text/html": [
       "<div>\n",
       "<style scoped>\n",
       "    .dataframe tbody tr th:only-of-type {\n",
       "        vertical-align: middle;\n",
       "    }\n",
       "\n",
       "    .dataframe tbody tr th {\n",
       "        vertical-align: top;\n",
       "    }\n",
       "\n",
       "    .dataframe thead th {\n",
       "        text-align: right;\n",
       "    }\n",
       "</style>\n",
       "<table border=\"1\" class=\"dataframe\">\n",
       "  <thead>\n",
       "    <tr style=\"text-align: right;\">\n",
       "      <th></th>\n",
       "      <th>job_keyword</th>\n",
       "    </tr>\n",
       "  </thead>\n",
       "  <tbody>\n",
       "    <tr>\n",
       "      <th>0</th>\n",
       "      <td>Aspiring human resources</td>\n",
       "    </tr>\n",
       "  </tbody>\n",
       "</table>\n",
       "</div>"
      ],
      "text/plain": [
       "                job_keyword\n",
       "0  Aspiring human resources"
      ]
     },
     "execution_count": 13,
     "metadata": {},
     "output_type": "execute_result"
    }
   ],
   "source": [
    "user_keyword.head()"
   ]
  },
  {
   "cell_type": "code",
   "execution_count": 14,
   "metadata": {},
   "outputs": [
    {
     "data": {
      "text/plain": [
       "(1, 1)"
      ]
     },
     "execution_count": 14,
     "metadata": {},
     "output_type": "execute_result"
    }
   ],
   "source": [
    "user_keyword.shape"
   ]
  },
  {
   "cell_type": "code",
   "execution_count": 15,
   "metadata": {},
   "outputs": [],
   "source": [
    "user_keyword_tfidf = tfidf.transform(user_keyword['job_keyword'])"
   ]
  },
  {
   "cell_type": "code",
   "execution_count": 16,
   "metadata": {},
   "outputs": [
    {
     "data": {
      "text/plain": [
       "scipy.sparse.csr.csr_matrix"
      ]
     },
     "execution_count": 16,
     "metadata": {},
     "output_type": "execute_result"
    }
   ],
   "source": [
    "type(user_keyword_tfidf)"
   ]
  },
  {
   "cell_type": "code",
   "execution_count": 17,
   "metadata": {},
   "outputs": [
    {
     "data": {
      "text/plain": [
       "(1, 181)"
      ]
     },
     "execution_count": 17,
     "metadata": {},
     "output_type": "execute_result"
    }
   ],
   "source": [
    "user_keyword_tfidf.shape"
   ]
  },
  {
   "cell_type": "code",
   "execution_count": 18,
   "metadata": {},
   "outputs": [
    {
     "data": {
      "text/plain": [
       "<1x181 sparse matrix of type '<class 'numpy.float64'>'\n",
       "\twith 3 stored elements in Compressed Sparse Row format>"
      ]
     },
     "execution_count": 18,
     "metadata": {},
     "output_type": "execute_result"
    }
   ],
   "source": [
    "user_keyword_tfidf"
   ]
  },
  {
   "cell_type": "code",
   "execution_count": 19,
   "metadata": {},
   "outputs": [],
   "source": [
    "from sklearn.metrics.pairwise import cosine_similarity\n",
    "cos_similarity_tfidf = map(lambda x: cosine_similarity(user_keyword_tfidf, x), tfidf_jobtitle_matrix)\n",
    "#result = list(cos_similarity_tfidf)"
   ]
  },
  {
   "cell_type": "code",
   "execution_count": 20,
   "metadata": {},
   "outputs": [
    {
     "data": {
      "text/plain": [
       "map"
      ]
     },
     "execution_count": 20,
     "metadata": {},
     "output_type": "execute_result"
    }
   ],
   "source": [
    "type(cos_similarity_tfidf)"
   ]
  },
  {
   "cell_type": "code",
   "execution_count": 21,
   "metadata": {},
   "outputs": [],
   "source": [
    "result = list(cos_similarity_tfidf)"
   ]
  },
  {
   "cell_type": "code",
   "execution_count": 22,
   "metadata": {},
   "outputs": [
    {
     "data": {
      "text/plain": [
       "[array([[0.28375909]]),\n",
       " array([[0.]]),\n",
       " array([[0.753591]]),\n",
       " array([[0.]]),\n",
       " array([[0.]]),\n",
       " array([[0.69567872]]),\n",
       " array([[0.4361722]]),\n",
       " array([[0.]]),\n",
       " array([[0.4361722]]),\n",
       " array([[0.21138856]]),\n",
       " array([[0.]]),\n",
       " array([[0.]]),\n",
       " array([[0.19430422]]),\n",
       " array([[0.28375909]]),\n",
       " array([[0.28375909]]),\n",
       " array([[0.]]),\n",
       " array([[0.753591]]),\n",
       " array([[0.]]),\n",
       " array([[0.28375909]]),\n",
       " array([[0.]]),\n",
       " array([[0.753591]]),\n",
       " array([[0.]]),\n",
       " array([[0.]]),\n",
       " array([[0.69567872]]),\n",
       " array([[0.4361722]]),\n",
       " array([[0.]]),\n",
       " array([[0.39564317]]),\n",
       " array([[0.2878165]]),\n",
       " array([[0.39564317]]),\n",
       " array([[0.2878165]]),\n",
       " array([[0.28375909]]),\n",
       " array([[0.]]),\n",
       " array([[0.753591]]),\n",
       " array([[0.]]),\n",
       " array([[0.]]),\n",
       " array([[0.69567872]]),\n",
       " array([[0.4361722]]),\n",
       " array([[0.]]),\n",
       " array([[0.4361722]]),\n",
       " array([[0.21138856]]),\n",
       " array([[0.]]),\n",
       " array([[0.]]),\n",
       " array([[0.19430422]]),\n",
       " array([[0.28375909]]),\n",
       " array([[0.]]),\n",
       " array([[0.753591]]),\n",
       " array([[0.]]),\n",
       " array([[0.]]),\n",
       " array([[0.69567872]]),\n",
       " array([[0.4361722]]),\n",
       " array([[0.]]),\n",
       " array([[0.4361722]]),\n",
       " array([[0.21138856]]),\n",
       " array([[0.]]),\n",
       " array([[0.]]),\n",
       " array([[0.19430422]]),\n",
       " array([[0.28375909]]),\n",
       " array([[0.753591]]),\n",
       " array([[0.]]),\n",
       " array([[0.69567872]]),\n",
       " array([[0.]]),\n",
       " array([[0.21138856]]),\n",
       " array([[0.]]),\n",
       " array([[0.]]),\n",
       " array([[0.19430422]]),\n",
       " array([[0.34799962]]),\n",
       " array([[0.20673821]]),\n",
       " array([[0.25016373]]),\n",
       " array([[0.14622958]]),\n",
       " array([[0.11259174]]),\n",
       " array([[0.25299409]]),\n",
       " array([[0.37472449]]),\n",
       " array([[0.57679398]]),\n",
       " array([[0.46015863]]),\n",
       " array([[0.10859318]]),\n",
       " array([[0.21816311]]),\n",
       " array([[0.10824288]]),\n",
       " array([[0.25299409]]),\n",
       " array([[0.29767933]]),\n",
       " array([[0.]]),\n",
       " array([[0.15410443]]),\n",
       " array([[0.2847913]]),\n",
       " array([[0.]]),\n",
       " array([[0.15134215]]),\n",
       " array([[0.]]),\n",
       " array([[0.]]),\n",
       " array([[0.]]),\n",
       " array([[0.25753129]]),\n",
       " array([[0.22617284]]),\n",
       " array([[0.]]),\n",
       " array([[0.]]),\n",
       " array([[0.]]),\n",
       " array([[0.]]),\n",
       " array([[0.15345474]]),\n",
       " array([[0.]]),\n",
       " array([[0.]]),\n",
       " array([[0.753591]]),\n",
       " array([[0.]]),\n",
       " array([[0.27912389]]),\n",
       " array([[0.31406807]]),\n",
       " array([[0.25299409]]),\n",
       " array([[0.]]),\n",
       " array([[0.]]),\n",
       " array([[0.]])]"
      ]
     },
     "execution_count": 22,
     "metadata": {},
     "output_type": "execute_result"
    }
   ],
   "source": [
    "result"
   ]
  },
  {
   "cell_type": "code",
   "execution_count": 23,
   "metadata": {},
   "outputs": [
    {
     "data": {
      "text/plain": [
       "0.28375909395128085"
      ]
     },
     "execution_count": 23,
     "metadata": {},
     "output_type": "execute_result"
    }
   ],
   "source": [
    "result[0][0][0]"
   ]
  },
  {
   "cell_type": "code",
   "execution_count": 24,
   "metadata": {},
   "outputs": [
    {
     "data": {
      "text/plain": [
       "0.7535909978974564"
      ]
     },
     "execution_count": 24,
     "metadata": {},
     "output_type": "execute_result"
    }
   ],
   "source": [
    "result[2][0][0]"
   ]
  },
  {
   "cell_type": "code",
   "execution_count": 25,
   "metadata": {},
   "outputs": [
    {
     "name": "stderr",
     "output_type": "stream",
     "text": [
      "/opt/anaconda3/lib/python3.7/site-packages/ipykernel_launcher.py:2: SettingWithCopyWarning: \n",
      "A value is trying to be set on a copy of a slice from a DataFrame\n",
      "\n",
      "See the caveats in the documentation: https://pandas.pydata.org/pandas-docs/stable/user_guide/indexing.html#returning-a-view-versus-a-copy\n",
      "  \n"
     ]
    }
   ],
   "source": [
    "for i in range(len(result)):\n",
    "    data['fit'][i] = result[i][0][0]\n"
   ]
  },
  {
   "cell_type": "code",
   "execution_count": 26,
   "metadata": {},
   "outputs": [],
   "source": [
    "#data.drop(columns='result', inplace=True)"
   ]
  },
  {
   "cell_type": "code",
   "execution_count": 27,
   "metadata": {},
   "outputs": [],
   "source": [
    "#data.head()"
   ]
  },
  {
   "cell_type": "code",
   "execution_count": 28,
   "metadata": {},
   "outputs": [
    {
     "data": {
      "text/html": [
       "<div>\n",
       "<style scoped>\n",
       "    .dataframe tbody tr th:only-of-type {\n",
       "        vertical-align: middle;\n",
       "    }\n",
       "\n",
       "    .dataframe tbody tr th {\n",
       "        vertical-align: top;\n",
       "    }\n",
       "\n",
       "    .dataframe thead th {\n",
       "        text-align: right;\n",
       "    }\n",
       "</style>\n",
       "<table border=\"1\" class=\"dataframe\">\n",
       "  <thead>\n",
       "    <tr style=\"text-align: right;\">\n",
       "      <th></th>\n",
       "      <th>id</th>\n",
       "      <th>job_title</th>\n",
       "      <th>location</th>\n",
       "      <th>connection</th>\n",
       "      <th>fit</th>\n",
       "    </tr>\n",
       "  </thead>\n",
       "  <tbody>\n",
       "    <tr>\n",
       "      <th>2</th>\n",
       "      <td>3</td>\n",
       "      <td>Aspiring Human Resources Professional</td>\n",
       "      <td>Raleigh-Durham, North Carolina Area</td>\n",
       "      <td>44</td>\n",
       "      <td>0.753591</td>\n",
       "    </tr>\n",
       "    <tr>\n",
       "      <th>20</th>\n",
       "      <td>21</td>\n",
       "      <td>Aspiring Human Resources Professional</td>\n",
       "      <td>Raleigh-Durham, North Carolina Area</td>\n",
       "      <td>44</td>\n",
       "      <td>0.753591</td>\n",
       "    </tr>\n",
       "    <tr>\n",
       "      <th>57</th>\n",
       "      <td>58</td>\n",
       "      <td>Aspiring Human Resources Professional</td>\n",
       "      <td>Raleigh-Durham, North Carolina Area</td>\n",
       "      <td>44</td>\n",
       "      <td>0.753591</td>\n",
       "    </tr>\n",
       "    <tr>\n",
       "      <th>45</th>\n",
       "      <td>46</td>\n",
       "      <td>Aspiring Human Resources Professional</td>\n",
       "      <td>Raleigh-Durham, North Carolina Area</td>\n",
       "      <td>44</td>\n",
       "      <td>0.753591</td>\n",
       "    </tr>\n",
       "    <tr>\n",
       "      <th>32</th>\n",
       "      <td>33</td>\n",
       "      <td>Aspiring Human Resources Professional</td>\n",
       "      <td>Raleigh-Durham, North Carolina Area</td>\n",
       "      <td>44</td>\n",
       "      <td>0.753591</td>\n",
       "    </tr>\n",
       "    <tr>\n",
       "      <th>96</th>\n",
       "      <td>97</td>\n",
       "      <td>Aspiring Human Resources Professional</td>\n",
       "      <td>Kokomo, Indiana Area</td>\n",
       "      <td>71</td>\n",
       "      <td>0.753591</td>\n",
       "    </tr>\n",
       "    <tr>\n",
       "      <th>16</th>\n",
       "      <td>17</td>\n",
       "      <td>Aspiring Human Resources Professional</td>\n",
       "      <td>Raleigh-Durham, North Carolina Area</td>\n",
       "      <td>44</td>\n",
       "      <td>0.753591</td>\n",
       "    </tr>\n",
       "    <tr>\n",
       "      <th>23</th>\n",
       "      <td>24</td>\n",
       "      <td>Aspiring Human Resources Specialist</td>\n",
       "      <td>Greater New York City Area</td>\n",
       "      <td>1</td>\n",
       "      <td>0.695679</td>\n",
       "    </tr>\n",
       "    <tr>\n",
       "      <th>35</th>\n",
       "      <td>36</td>\n",
       "      <td>Aspiring Human Resources Specialist</td>\n",
       "      <td>Greater New York City Area</td>\n",
       "      <td>1</td>\n",
       "      <td>0.695679</td>\n",
       "    </tr>\n",
       "    <tr>\n",
       "      <th>5</th>\n",
       "      <td>6</td>\n",
       "      <td>Aspiring Human Resources Specialist</td>\n",
       "      <td>Greater New York City Area</td>\n",
       "      <td>1</td>\n",
       "      <td>0.695679</td>\n",
       "    </tr>\n",
       "    <tr>\n",
       "      <th>48</th>\n",
       "      <td>49</td>\n",
       "      <td>Aspiring Human Resources Specialist</td>\n",
       "      <td>Greater New York City Area</td>\n",
       "      <td>1</td>\n",
       "      <td>0.695679</td>\n",
       "    </tr>\n",
       "    <tr>\n",
       "      <th>59</th>\n",
       "      <td>60</td>\n",
       "      <td>Aspiring Human Resources Specialist</td>\n",
       "      <td>Greater New York City Area</td>\n",
       "      <td>1</td>\n",
       "      <td>0.695679</td>\n",
       "    </tr>\n",
       "    <tr>\n",
       "      <th>72</th>\n",
       "      <td>73</td>\n",
       "      <td>Aspiring Human Resources Manager, seeking inte...</td>\n",
       "      <td>Houston, Texas Area</td>\n",
       "      <td>7</td>\n",
       "      <td>0.576794</td>\n",
       "    </tr>\n",
       "    <tr>\n",
       "      <th>73</th>\n",
       "      <td>74</td>\n",
       "      <td>Human Resources Professional</td>\n",
       "      <td>Greater Boston Area</td>\n",
       "      <td>16</td>\n",
       "      <td>0.460159</td>\n",
       "    </tr>\n",
       "    <tr>\n",
       "      <th>24</th>\n",
       "      <td>25</td>\n",
       "      <td>Student at Humber College and Aspiring Human R...</td>\n",
       "      <td>Kanada</td>\n",
       "      <td>61</td>\n",
       "      <td>0.436172</td>\n",
       "    </tr>\n",
       "    <tr>\n",
       "      <th>38</th>\n",
       "      <td>39</td>\n",
       "      <td>Student at Humber College and Aspiring Human R...</td>\n",
       "      <td>Kanada</td>\n",
       "      <td>61</td>\n",
       "      <td>0.436172</td>\n",
       "    </tr>\n",
       "    <tr>\n",
       "      <th>8</th>\n",
       "      <td>9</td>\n",
       "      <td>Student at Humber College and Aspiring Human R...</td>\n",
       "      <td>Kanada</td>\n",
       "      <td>61</td>\n",
       "      <td>0.436172</td>\n",
       "    </tr>\n",
       "    <tr>\n",
       "      <th>49</th>\n",
       "      <td>50</td>\n",
       "      <td>Student at Humber College and Aspiring Human R...</td>\n",
       "      <td>Kanada</td>\n",
       "      <td>61</td>\n",
       "      <td>0.436172</td>\n",
       "    </tr>\n",
       "    <tr>\n",
       "      <th>51</th>\n",
       "      <td>52</td>\n",
       "      <td>Student at Humber College and Aspiring Human R...</td>\n",
       "      <td>Kanada</td>\n",
       "      <td>61</td>\n",
       "      <td>0.436172</td>\n",
       "    </tr>\n",
       "    <tr>\n",
       "      <th>6</th>\n",
       "      <td>7</td>\n",
       "      <td>Student at Humber College and Aspiring Human R...</td>\n",
       "      <td>Kanada</td>\n",
       "      <td>61</td>\n",
       "      <td>0.436172</td>\n",
       "    </tr>\n",
       "    <tr>\n",
       "      <th>36</th>\n",
       "      <td>37</td>\n",
       "      <td>Student at Humber College and Aspiring Human R...</td>\n",
       "      <td>Kanada</td>\n",
       "      <td>61</td>\n",
       "      <td>0.436172</td>\n",
       "    </tr>\n",
       "  </tbody>\n",
       "</table>\n",
       "</div>"
      ],
      "text/plain": [
       "    id                                          job_title  \\\n",
       "2    3              Aspiring Human Resources Professional   \n",
       "20  21              Aspiring Human Resources Professional   \n",
       "57  58              Aspiring Human Resources Professional   \n",
       "45  46              Aspiring Human Resources Professional   \n",
       "32  33              Aspiring Human Resources Professional   \n",
       "96  97              Aspiring Human Resources Professional   \n",
       "16  17              Aspiring Human Resources Professional   \n",
       "23  24                Aspiring Human Resources Specialist   \n",
       "35  36                Aspiring Human Resources Specialist   \n",
       "5    6                Aspiring Human Resources Specialist   \n",
       "48  49                Aspiring Human Resources Specialist   \n",
       "59  60                Aspiring Human Resources Specialist   \n",
       "72  73  Aspiring Human Resources Manager, seeking inte...   \n",
       "73  74                       Human Resources Professional   \n",
       "24  25  Student at Humber College and Aspiring Human R...   \n",
       "38  39  Student at Humber College and Aspiring Human R...   \n",
       "8    9  Student at Humber College and Aspiring Human R...   \n",
       "49  50  Student at Humber College and Aspiring Human R...   \n",
       "51  52  Student at Humber College and Aspiring Human R...   \n",
       "6    7  Student at Humber College and Aspiring Human R...   \n",
       "36  37  Student at Humber College and Aspiring Human R...   \n",
       "\n",
       "                               location connection       fit  \n",
       "2   Raleigh-Durham, North Carolina Area         44  0.753591  \n",
       "20  Raleigh-Durham, North Carolina Area         44  0.753591  \n",
       "57  Raleigh-Durham, North Carolina Area         44  0.753591  \n",
       "45  Raleigh-Durham, North Carolina Area         44  0.753591  \n",
       "32  Raleigh-Durham, North Carolina Area         44  0.753591  \n",
       "96                 Kokomo, Indiana Area         71  0.753591  \n",
       "16  Raleigh-Durham, North Carolina Area         44  0.753591  \n",
       "23           Greater New York City Area          1  0.695679  \n",
       "35           Greater New York City Area          1  0.695679  \n",
       "5            Greater New York City Area          1  0.695679  \n",
       "48           Greater New York City Area          1  0.695679  \n",
       "59           Greater New York City Area          1  0.695679  \n",
       "72                  Houston, Texas Area          7  0.576794  \n",
       "73                  Greater Boston Area         16  0.460159  \n",
       "24                               Kanada         61  0.436172  \n",
       "38                               Kanada         61  0.436172  \n",
       "8                                Kanada         61  0.436172  \n",
       "49                               Kanada         61  0.436172  \n",
       "51                               Kanada         61  0.436172  \n",
       "6                                Kanada         61  0.436172  \n",
       "36                               Kanada         61  0.436172  "
      ]
     },
     "execution_count": 28,
     "metadata": {},
     "output_type": "execute_result"
    }
   ],
   "source": [
    "data.loc[data['fit'] >= 0.4].sort_values(by = 'fit', ascending=False)"
   ]
  },
  {
   "cell_type": "code",
   "execution_count": 29,
   "metadata": {},
   "outputs": [],
   "source": [
    "#convert job_title to tf-idf, location to tf-idf and connection 500+ with 500"
   ]
  },
  {
   "cell_type": "code",
   "execution_count": 30,
   "metadata": {},
   "outputs": [
    {
     "data": {
      "text/html": [
       "<div>\n",
       "<style scoped>\n",
       "    .dataframe tbody tr th:only-of-type {\n",
       "        vertical-align: middle;\n",
       "    }\n",
       "\n",
       "    .dataframe tbody tr th {\n",
       "        vertical-align: top;\n",
       "    }\n",
       "\n",
       "    .dataframe thead th {\n",
       "        text-align: right;\n",
       "    }\n",
       "</style>\n",
       "<table border=\"1\" class=\"dataframe\">\n",
       "  <thead>\n",
       "    <tr style=\"text-align: right;\">\n",
       "      <th></th>\n",
       "      <th>id</th>\n",
       "      <th>job_title</th>\n",
       "      <th>location</th>\n",
       "      <th>connection</th>\n",
       "      <th>fit</th>\n",
       "    </tr>\n",
       "  </thead>\n",
       "  <tbody>\n",
       "    <tr>\n",
       "      <th>0</th>\n",
       "      <td>1</td>\n",
       "      <td>2019 C.T. Bauer College of Business Graduate (...</td>\n",
       "      <td>Houston, Texas</td>\n",
       "      <td>85</td>\n",
       "      <td>0.283759</td>\n",
       "    </tr>\n",
       "    <tr>\n",
       "      <th>1</th>\n",
       "      <td>2</td>\n",
       "      <td>Native English Teacher at EPIK (English Progra...</td>\n",
       "      <td>Kanada</td>\n",
       "      <td>500</td>\n",
       "      <td>0.000000</td>\n",
       "    </tr>\n",
       "    <tr>\n",
       "      <th>2</th>\n",
       "      <td>3</td>\n",
       "      <td>Aspiring Human Resources Professional</td>\n",
       "      <td>Raleigh-Durham, North Carolina Area</td>\n",
       "      <td>44</td>\n",
       "      <td>0.753591</td>\n",
       "    </tr>\n",
       "    <tr>\n",
       "      <th>3</th>\n",
       "      <td>4</td>\n",
       "      <td>People Development Coordinator at Ryan</td>\n",
       "      <td>Denton, Texas</td>\n",
       "      <td>500</td>\n",
       "      <td>0.000000</td>\n",
       "    </tr>\n",
       "    <tr>\n",
       "      <th>4</th>\n",
       "      <td>5</td>\n",
       "      <td>Advisory Board Member at Celal Bayar University</td>\n",
       "      <td>İzmir, Türkiye</td>\n",
       "      <td>500</td>\n",
       "      <td>0.000000</td>\n",
       "    </tr>\n",
       "  </tbody>\n",
       "</table>\n",
       "</div>"
      ],
      "text/plain": [
       "   id                                          job_title  \\\n",
       "0   1  2019 C.T. Bauer College of Business Graduate (...   \n",
       "1   2  Native English Teacher at EPIK (English Progra...   \n",
       "2   3              Aspiring Human Resources Professional   \n",
       "3   4             People Development Coordinator at Ryan   \n",
       "4   5    Advisory Board Member at Celal Bayar University   \n",
       "\n",
       "                              location connection       fit  \n",
       "0                       Houston, Texas         85  0.283759  \n",
       "1                               Kanada        500  0.000000  \n",
       "2  Raleigh-Durham, North Carolina Area         44  0.753591  \n",
       "3                        Denton, Texas        500  0.000000  \n",
       "4                       İzmir, Türkiye        500  0.000000  "
      ]
     },
     "execution_count": 30,
     "metadata": {},
     "output_type": "execute_result"
    }
   ],
   "source": [
    "data.head()"
   ]
  },
  {
   "cell_type": "code",
   "execution_count": 31,
   "metadata": {},
   "outputs": [
    {
     "data": {
      "text/plain": [
       "(104, 181)"
      ]
     },
     "execution_count": 31,
     "metadata": {},
     "output_type": "execute_result"
    }
   ],
   "source": [
    "tfidf_jobtitle_matrix.shape"
   ]
  },
  {
   "cell_type": "code",
   "execution_count": 32,
   "metadata": {},
   "outputs": [],
   "source": [
    "tfidf_location_matrix = tfidf.fit_transform((data['location']))"
   ]
  },
  {
   "cell_type": "code",
   "execution_count": 33,
   "metadata": {},
   "outputs": [
    {
     "data": {
      "text/plain": [
       "(104, 71)"
      ]
     },
     "execution_count": 33,
     "metadata": {},
     "output_type": "execute_result"
    }
   ],
   "source": [
    "tfidf_location_matrix.shape"
   ]
  },
  {
   "cell_type": "code",
   "execution_count": 34,
   "metadata": {},
   "outputs": [],
   "source": [
    "df_jobtitle = pd.DataFrame(tfidf_jobtitle_matrix.toarray())\n",
    "df_location = pd.DataFrame(tfidf_location_matrix.toarray())"
   ]
  },
  {
   "cell_type": "code",
   "execution_count": null,
   "metadata": {},
   "outputs": [],
   "source": []
  },
  {
   "cell_type": "code",
   "execution_count": 35,
   "metadata": {},
   "outputs": [],
   "source": [
    "data_processed = pd.concat([data, df_jobtitle, df_location], axis = 1)"
   ]
  },
  {
   "cell_type": "code",
   "execution_count": 36,
   "metadata": {},
   "outputs": [
    {
     "data": {
      "text/plain": [
       "(104, 257)"
      ]
     },
     "execution_count": 36,
     "metadata": {},
     "output_type": "execute_result"
    }
   ],
   "source": [
    "data_processed.shape"
   ]
  },
  {
   "cell_type": "code",
   "execution_count": 37,
   "metadata": {},
   "outputs": [],
   "source": [
    "data_processed.drop(['job_title', 'location'], axis=1, inplace=True)"
   ]
  },
  {
   "cell_type": "code",
   "execution_count": 38,
   "metadata": {},
   "outputs": [
    {
     "data": {
      "text/plain": [
       "(104, 255)"
      ]
     },
     "execution_count": 38,
     "metadata": {},
     "output_type": "execute_result"
    }
   ],
   "source": [
    "data_processed.shape"
   ]
  },
  {
   "cell_type": "code",
   "execution_count": 39,
   "metadata": {},
   "outputs": [
    {
     "data": {
      "text/html": [
       "<div>\n",
       "<style scoped>\n",
       "    .dataframe tbody tr th:only-of-type {\n",
       "        vertical-align: middle;\n",
       "    }\n",
       "\n",
       "    .dataframe tbody tr th {\n",
       "        vertical-align: top;\n",
       "    }\n",
       "\n",
       "    .dataframe thead th {\n",
       "        text-align: right;\n",
       "    }\n",
       "</style>\n",
       "<table border=\"1\" class=\"dataframe\">\n",
       "  <thead>\n",
       "    <tr style=\"text-align: right;\">\n",
       "      <th></th>\n",
       "      <th>id</th>\n",
       "      <th>connection</th>\n",
       "      <th>fit</th>\n",
       "      <th>0</th>\n",
       "      <th>1</th>\n",
       "      <th>2</th>\n",
       "      <th>3</th>\n",
       "      <th>4</th>\n",
       "      <th>5</th>\n",
       "      <th>6</th>\n",
       "      <th>...</th>\n",
       "      <th>61</th>\n",
       "      <th>62</th>\n",
       "      <th>63</th>\n",
       "      <th>64</th>\n",
       "      <th>65</th>\n",
       "      <th>66</th>\n",
       "      <th>67</th>\n",
       "      <th>68</th>\n",
       "      <th>69</th>\n",
       "      <th>70</th>\n",
       "    </tr>\n",
       "  </thead>\n",
       "  <tbody>\n",
       "    <tr>\n",
       "      <th>0</th>\n",
       "      <td>1</td>\n",
       "      <td>85</td>\n",
       "      <td>0.283759</td>\n",
       "      <td>0.33906</td>\n",
       "      <td>0.0</td>\n",
       "      <td>0.0</td>\n",
       "      <td>0.0</td>\n",
       "      <td>0.0</td>\n",
       "      <td>0.0</td>\n",
       "      <td>0.0</td>\n",
       "      <td>...</td>\n",
       "      <td>0.0</td>\n",
       "      <td>0.0</td>\n",
       "      <td>0.645479</td>\n",
       "      <td>0.0</td>\n",
       "      <td>0.000000</td>\n",
       "      <td>0.0</td>\n",
       "      <td>0.0</td>\n",
       "      <td>0.0</td>\n",
       "      <td>0.0</td>\n",
       "      <td>0.000000</td>\n",
       "    </tr>\n",
       "    <tr>\n",
       "      <th>1</th>\n",
       "      <td>2</td>\n",
       "      <td>500</td>\n",
       "      <td>0.000000</td>\n",
       "      <td>0.00000</td>\n",
       "      <td>0.0</td>\n",
       "      <td>0.0</td>\n",
       "      <td>0.0</td>\n",
       "      <td>0.0</td>\n",
       "      <td>0.0</td>\n",
       "      <td>0.0</td>\n",
       "      <td>...</td>\n",
       "      <td>0.0</td>\n",
       "      <td>0.0</td>\n",
       "      <td>0.000000</td>\n",
       "      <td>0.0</td>\n",
       "      <td>0.000000</td>\n",
       "      <td>0.0</td>\n",
       "      <td>0.0</td>\n",
       "      <td>0.0</td>\n",
       "      <td>0.0</td>\n",
       "      <td>0.000000</td>\n",
       "    </tr>\n",
       "    <tr>\n",
       "      <th>2</th>\n",
       "      <td>3</td>\n",
       "      <td>44</td>\n",
       "      <td>0.753591</td>\n",
       "      <td>0.00000</td>\n",
       "      <td>0.0</td>\n",
       "      <td>0.0</td>\n",
       "      <td>0.0</td>\n",
       "      <td>0.0</td>\n",
       "      <td>0.0</td>\n",
       "      <td>0.0</td>\n",
       "      <td>...</td>\n",
       "      <td>0.0</td>\n",
       "      <td>0.0</td>\n",
       "      <td>0.000000</td>\n",
       "      <td>0.0</td>\n",
       "      <td>0.000000</td>\n",
       "      <td>0.0</td>\n",
       "      <td>0.0</td>\n",
       "      <td>0.0</td>\n",
       "      <td>0.0</td>\n",
       "      <td>0.000000</td>\n",
       "    </tr>\n",
       "    <tr>\n",
       "      <th>3</th>\n",
       "      <td>4</td>\n",
       "      <td>500</td>\n",
       "      <td>0.000000</td>\n",
       "      <td>0.00000</td>\n",
       "      <td>0.0</td>\n",
       "      <td>0.0</td>\n",
       "      <td>0.0</td>\n",
       "      <td>0.0</td>\n",
       "      <td>0.0</td>\n",
       "      <td>0.0</td>\n",
       "      <td>...</td>\n",
       "      <td>0.0</td>\n",
       "      <td>0.0</td>\n",
       "      <td>0.548921</td>\n",
       "      <td>0.0</td>\n",
       "      <td>0.000000</td>\n",
       "      <td>0.0</td>\n",
       "      <td>0.0</td>\n",
       "      <td>0.0</td>\n",
       "      <td>0.0</td>\n",
       "      <td>0.000000</td>\n",
       "    </tr>\n",
       "    <tr>\n",
       "      <th>4</th>\n",
       "      <td>5</td>\n",
       "      <td>500</td>\n",
       "      <td>0.000000</td>\n",
       "      <td>0.00000</td>\n",
       "      <td>0.0</td>\n",
       "      <td>0.0</td>\n",
       "      <td>0.0</td>\n",
       "      <td>0.0</td>\n",
       "      <td>0.0</td>\n",
       "      <td>0.0</td>\n",
       "      <td>...</td>\n",
       "      <td>0.0</td>\n",
       "      <td>0.0</td>\n",
       "      <td>0.000000</td>\n",
       "      <td>0.0</td>\n",
       "      <td>0.707107</td>\n",
       "      <td>0.0</td>\n",
       "      <td>0.0</td>\n",
       "      <td>0.0</td>\n",
       "      <td>0.0</td>\n",
       "      <td>0.707107</td>\n",
       "    </tr>\n",
       "  </tbody>\n",
       "</table>\n",
       "<p>5 rows × 255 columns</p>\n",
       "</div>"
      ],
      "text/plain": [
       "   id connection       fit        0    1    2    3    4    5    6  ...   61  \\\n",
       "0   1         85  0.283759  0.33906  0.0  0.0  0.0  0.0  0.0  0.0  ...  0.0   \n",
       "1   2        500  0.000000  0.00000  0.0  0.0  0.0  0.0  0.0  0.0  ...  0.0   \n",
       "2   3         44  0.753591  0.00000  0.0  0.0  0.0  0.0  0.0  0.0  ...  0.0   \n",
       "3   4        500  0.000000  0.00000  0.0  0.0  0.0  0.0  0.0  0.0  ...  0.0   \n",
       "4   5        500  0.000000  0.00000  0.0  0.0  0.0  0.0  0.0  0.0  ...  0.0   \n",
       "\n",
       "    62        63   64        65   66   67   68   69        70  \n",
       "0  0.0  0.645479  0.0  0.000000  0.0  0.0  0.0  0.0  0.000000  \n",
       "1  0.0  0.000000  0.0  0.000000  0.0  0.0  0.0  0.0  0.000000  \n",
       "2  0.0  0.000000  0.0  0.000000  0.0  0.0  0.0  0.0  0.000000  \n",
       "3  0.0  0.548921  0.0  0.000000  0.0  0.0  0.0  0.0  0.000000  \n",
       "4  0.0  0.000000  0.0  0.707107  0.0  0.0  0.0  0.0  0.707107  \n",
       "\n",
       "[5 rows x 255 columns]"
      ]
     },
     "execution_count": 39,
     "metadata": {},
     "output_type": "execute_result"
    }
   ],
   "source": [
    "data_processed.head()"
   ]
  },
  {
   "cell_type": "markdown",
   "metadata": {},
   "source": [
    "### Word2Vec implementation"
   ]
  },
  {
   "cell_type": "code",
   "execution_count": 40,
   "metadata": {},
   "outputs": [],
   "source": [
    "import numpy\n",
    "import gensim"
   ]
  },
  {
   "cell_type": "code",
   "execution_count": 41,
   "metadata": {},
   "outputs": [],
   "source": [
    "import gensim.downloader as api"
   ]
  },
  {
   "cell_type": "code",
   "execution_count": 42,
   "metadata": {},
   "outputs": [],
   "source": [
    "# load w2v model\n",
    "corpus = api.load('word2vec-google-news-300')\n",
    "#word2vec_model = gensim.load(\"word2vec-google-news-300\")"
   ]
  },
  {
   "cell_type": "code",
   "execution_count": 106,
   "metadata": {},
   "outputs": [
    {
     "data": {
      "text/plain": [
       "gensim.models.keyedvectors.Word2VecKeyedVectors"
      ]
     },
     "execution_count": 106,
     "metadata": {},
     "output_type": "execute_result"
    }
   ],
   "source": [
    "type(corpus)"
   ]
  },
  {
   "cell_type": "code",
   "execution_count": 43,
   "metadata": {},
   "outputs": [],
   "source": [
    "def cosine_similarity(vec1, vec2):\n",
    "    cosine_similarity = numpy.dot(vec1, vec2) / (numpy.linalg.norm(vec1) * numpy.linalg.norm(vec2))\n",
    "    return cosine_similarity"
   ]
  },
  {
   "cell_type": "code",
   "execution_count": null,
   "metadata": {},
   "outputs": [],
   "source": []
  },
  {
   "cell_type": "code",
   "execution_count": 51,
   "metadata": {},
   "outputs": [],
   "source": [
    "search_term_embedding = []\n",
    "for term in search_keyword.split():\n",
    "    search_term_embedding.append(corpus[term])"
   ]
  },
  {
   "cell_type": "code",
   "execution_count": 53,
   "metadata": {},
   "outputs": [
    {
     "data": {
      "text/plain": [
       "3"
      ]
     },
     "execution_count": 53,
     "metadata": {},
     "output_type": "execute_result"
    }
   ],
   "source": [
    "len(search_term_embedding)"
   ]
  },
  {
   "cell_type": "code",
   "execution_count": 54,
   "metadata": {},
   "outputs": [
    {
     "data": {
      "text/plain": [
       "[array([-2.04101562e-01,  2.50000000e-01, -1.83105469e-02, -1.86523438e-01,\n",
       "         9.22851562e-02,  2.87109375e-01,  2.50000000e-01,  2.46093750e-01,\n",
       "        -3.04687500e-01, -1.00708008e-02,  2.69531250e-01,  9.08203125e-02,\n",
       "         6.20117188e-02,  1.11816406e-01, -1.96289062e-01,  6.64062500e-02,\n",
       "         2.87109375e-01,  4.31640625e-01, -1.13769531e-01,  1.02050781e-01,\n",
       "        -1.37695312e-01,  8.83789062e-02, -4.95605469e-02, -2.10937500e-01,\n",
       "        -3.24218750e-01, -2.50000000e-01,  7.86132812e-02, -1.53320312e-01,\n",
       "         3.53515625e-01, -1.68457031e-02,  2.08984375e-01, -1.64062500e-01,\n",
       "        -2.33398438e-01, -4.55078125e-01, -2.03125000e-01,  1.01074219e-01,\n",
       "         7.37304688e-02, -1.11816406e-01,  9.37500000e-02, -1.93359375e-01,\n",
       "        -1.96533203e-02, -4.10156250e-01, -4.39453125e-02, -2.99072266e-02,\n",
       "        -1.00585938e-01,  1.44531250e-01, -1.76757812e-01,  3.73046875e-01,\n",
       "         4.80957031e-02,  1.33789062e-01, -5.46875000e-01,  4.25781250e-01,\n",
       "         1.71875000e-01,  6.68945312e-02,  5.22460938e-02, -3.17382812e-02,\n",
       "         2.12890625e-01, -1.21093750e-01, -2.50000000e-01,  2.57812500e-01,\n",
       "         2.42187500e-01, -1.77734375e-01, -2.57812500e-01, -1.81640625e-01,\n",
       "         1.73828125e-01, -6.44531250e-02,  3.90625000e-01,  3.17382812e-02,\n",
       "         4.21875000e-01, -9.47265625e-02, -1.46484375e-01, -7.69042969e-03,\n",
       "         4.68750000e-02,  1.86767578e-02, -2.36328125e-01,  1.30859375e-01,\n",
       "         2.59399414e-04,  2.02148438e-01, -8.49609375e-02,  8.88671875e-02,\n",
       "         6.39648438e-02,  2.33398438e-01, -2.65625000e-01, -1.92382812e-01,\n",
       "        -1.72851562e-01, -2.00195312e-01,  5.10253906e-02,  2.07519531e-02,\n",
       "         3.24218750e-01, -1.09375000e-01, -5.17578125e-02, -3.28125000e-01,\n",
       "        -1.16210938e-01, -3.76953125e-01,  9.13085938e-02, -5.46264648e-03,\n",
       "         1.64062500e-01,  2.22656250e-01, -1.05468750e-01, -5.39062500e-01,\n",
       "         6.83593750e-02, -2.81250000e-01,  9.37500000e-02, -3.08593750e-01,\n",
       "         5.05371094e-02,  2.39257812e-01,  1.13769531e-01, -2.48046875e-01,\n",
       "         6.36718750e-01,  1.07421875e-01,  2.04101562e-01,  1.02050781e-01,\n",
       "        -1.59179688e-01,  2.37304688e-01,  1.56250000e-01, -2.51953125e-01,\n",
       "        -2.79296875e-01, -1.04492188e-01, -9.76562500e-02, -3.26171875e-01,\n",
       "         8.59375000e-02, -2.12890625e-01, -1.10351562e-01,  9.37500000e-02,\n",
       "         3.67187500e-01,  1.67968750e-01, -3.06640625e-01, -1.07910156e-01,\n",
       "         1.94335938e-01,  3.08593750e-01, -5.98144531e-02, -1.90429688e-01,\n",
       "        -2.28515625e-01,  7.51953125e-02, -1.68945312e-01, -4.39453125e-02,\n",
       "        -1.44531250e-01, -2.34375000e-01,  3.36914062e-02,  3.88183594e-02,\n",
       "        -1.90429688e-01, -4.23828125e-01, -3.14453125e-01, -1.12304688e-01,\n",
       "         1.78710938e-01, -4.71191406e-02,  2.25585938e-01, -1.10839844e-01,\n",
       "         2.21679688e-01, -4.74609375e-01,  4.08935547e-03, -3.57421875e-01,\n",
       "         1.87500000e-01, -1.84570312e-01,  2.21679688e-01, -1.66015625e-01,\n",
       "        -5.88378906e-02, -1.52343750e-01,  5.03540039e-03, -2.30468750e-01,\n",
       "         2.02148438e-01, -3.64685059e-03, -1.84570312e-01, -2.18750000e-01,\n",
       "         1.66015625e-01,  1.24023438e-01, -3.97949219e-02, -1.15234375e-01,\n",
       "         1.13769531e-01,  9.42382812e-02, -4.53125000e-01, -2.56347656e-02,\n",
       "         2.09960938e-02, -1.77734375e-01,  2.63671875e-01,  8.93554688e-02,\n",
       "         1.74560547e-02, -3.16406250e-01, -2.55859375e-01,  3.03955078e-02,\n",
       "        -2.14843750e-02, -1.89453125e-01,  7.71484375e-02,  1.01074219e-01,\n",
       "        -2.08984375e-01,  1.02050781e-01,  4.43359375e-01, -2.26562500e-01,\n",
       "         2.50000000e-01,  1.55273438e-01, -2.16064453e-02,  1.46484375e-01,\n",
       "        -1.23535156e-01, -2.57812500e-01, -3.71093750e-01, -1.00585938e-01,\n",
       "         3.84765625e-01, -5.83496094e-02, -7.42187500e-02, -2.15820312e-01,\n",
       "         2.47070312e-01, -9.22851562e-02, -5.83496094e-02, -6.63757324e-04,\n",
       "        -2.50244141e-02,  7.17773438e-02, -1.29882812e-01, -3.67187500e-01,\n",
       "        -2.97851562e-02, -1.61132812e-01, -2.36816406e-02, -2.11181641e-02,\n",
       "         3.32031250e-01,  2.19726562e-02, -4.32128906e-02,  3.58886719e-02,\n",
       "        -8.91113281e-03, -6.05468750e-02,  4.57031250e-01, -3.08593750e-01,\n",
       "        -7.03125000e-02, -3.28125000e-01, -1.45507812e-01,  2.08007812e-01,\n",
       "         1.90429688e-01, -3.63769531e-02,  4.24804688e-02, -2.03125000e-01,\n",
       "        -1.05468750e-01, -2.26562500e-01,  7.27539062e-02, -2.55859375e-01,\n",
       "        -1.44531250e-01,  1.06933594e-01,  4.70703125e-01,  2.57812500e-01,\n",
       "         2.53906250e-01,  1.10839844e-01, -3.80859375e-01,  5.19531250e-01,\n",
       "         2.39257812e-01,  4.88281250e-02,  7.03125000e-02, -3.95507812e-02,\n",
       "        -1.02539062e-02, -4.41894531e-02,  9.52148438e-02,  1.36718750e-01,\n",
       "         2.11914062e-01, -1.75781250e-01,  4.68750000e-01,  6.22558594e-02,\n",
       "         1.47460938e-01,  4.17968750e-01,  2.72216797e-02,  2.34375000e-01,\n",
       "         7.81250000e-02, -1.01074219e-01, -1.52343750e-01,  7.76367188e-02,\n",
       "        -1.99218750e-01,  8.74023438e-02, -4.02343750e-01,  3.12500000e-01,\n",
       "         3.26171875e-01,  6.98242188e-02, -2.16796875e-01,  4.82421875e-01,\n",
       "        -2.41699219e-02, -1.49414062e-01,  1.85546875e-01,  1.16210938e-01,\n",
       "         2.16796875e-01,  1.42822266e-02, -1.33789062e-01,  3.00781250e-01,\n",
       "        -2.25585938e-01, -1.28173828e-02, -2.47070312e-01,  5.11718750e-01,\n",
       "         6.15234375e-02,  1.69921875e-01,  4.98046875e-02,  1.39648438e-01,\n",
       "         5.12695312e-02, -7.08007812e-02, -4.10156250e-01,  1.98242188e-01,\n",
       "         7.66601562e-02,  2.89062500e-01,  9.08203125e-02, -1.07421875e-02,\n",
       "        -1.66992188e-01, -8.00781250e-02, -1.96289062e-01, -4.06250000e-01,\n",
       "        -2.92968750e-02, -1.04003906e-01, -2.63671875e-01,  1.06933594e-01],\n",
       "       dtype=float32),\n",
       " array([ 5.59082031e-02,  9.22851562e-02,  1.07910156e-01,  2.83203125e-01,\n",
       "        -2.43164062e-01,  1.90429688e-02,  4.08203125e-01, -3.17382812e-02,\n",
       "        -4.78515625e-02,  6.34765625e-02, -9.32617188e-02, -4.46777344e-02,\n",
       "        -2.41210938e-01, -1.58203125e-01, -5.83496094e-02,  2.51953125e-01,\n",
       "        -3.24707031e-02,  1.00097656e-01, -4.56542969e-02,  1.35742188e-01,\n",
       "        -2.07031250e-01, -3.73046875e-01,  4.39453125e-02,  4.24804688e-02,\n",
       "         6.93359375e-02, -2.42187500e-01, -2.75390625e-01,  1.95312500e-01,\n",
       "         2.26562500e-01, -1.90429688e-01, -2.35351562e-01, -5.56640625e-02,\n",
       "        -1.25000000e-01, -8.78906250e-02, -2.33398438e-01,  9.61914062e-02,\n",
       "        -4.83398438e-02,  4.54101562e-02,  9.81445312e-02,  5.76171875e-02,\n",
       "        -4.17480469e-02,  2.02148438e-01, -9.03320312e-02,  2.75390625e-01,\n",
       "        -6.34765625e-02,  4.93164062e-02,  2.92968750e-02,  2.57812500e-01,\n",
       "         1.32812500e-01,  7.42187500e-02,  6.64062500e-02, -1.37695312e-01,\n",
       "        -1.73828125e-01,  1.89453125e-01, -1.88476562e-01, -4.34570312e-02,\n",
       "         2.11181641e-02, -3.02734375e-01,  1.76757812e-01,  3.24218750e-01,\n",
       "        -1.27563477e-02,  1.47094727e-02,  1.88476562e-01,  9.61914062e-02,\n",
       "        -8.15429688e-02, -6.64062500e-02,  9.71679688e-02,  2.29492188e-01,\n",
       "        -2.94921875e-01, -1.09375000e-01,  6.54296875e-02, -7.42187500e-02,\n",
       "        -3.41796875e-03, -6.88476562e-02, -9.86328125e-02, -1.13769531e-01,\n",
       "         1.03027344e-01,  1.39770508e-02, -7.08007812e-02, -1.81884766e-02,\n",
       "         6.49414062e-02, -3.27148438e-02,  1.04980469e-01, -7.22656250e-02,\n",
       "        -1.67236328e-02, -6.20117188e-02, -2.82287598e-03,  1.61132812e-01,\n",
       "        -5.27343750e-02,  1.30859375e-01,  1.46484375e-01,  2.81982422e-02,\n",
       "        -5.54199219e-02,  5.06591797e-03, -3.93066406e-02, -2.33154297e-02,\n",
       "         1.16699219e-01,  9.52148438e-02,  9.08203125e-02, -6.22558594e-02,\n",
       "        -1.24023438e-01,  2.44140625e-02,  1.90429688e-01, -5.49316406e-02,\n",
       "         1.68945312e-01, -1.94091797e-02, -6.88476562e-02,  4.32128906e-02,\n",
       "         1.00097656e-01,  1.70898438e-02, -1.87500000e-01, -5.43212891e-03,\n",
       "         4.46777344e-02,  1.46484375e-01, -1.19018555e-03,  8.74023438e-02,\n",
       "        -8.74023438e-02, -2.23388672e-02,  1.57226562e-01,  1.48437500e-01,\n",
       "        -1.76757812e-01, -2.47070312e-01, -2.71484375e-01,  9.13085938e-02,\n",
       "        -2.71484375e-01, -4.19921875e-02,  1.51367188e-01, -9.88769531e-03,\n",
       "         2.14843750e-01,  3.86047363e-03, -1.08886719e-01, -1.00585938e-01,\n",
       "        -3.80859375e-01,  8.00781250e-02,  8.83789062e-02, -2.06054688e-01,\n",
       "         5.49316406e-02,  6.88476562e-02,  1.40625000e-01, -1.43554688e-01,\n",
       "         9.61914062e-02, -3.46679688e-02, -1.42578125e-01,  2.44140625e-02,\n",
       "        -6.29882812e-02,  1.03027344e-01, -3.12500000e-02,  2.57812500e-01,\n",
       "         2.60009766e-02, -4.95605469e-02,  6.68945312e-02, -5.88378906e-02,\n",
       "        -1.56250000e-01,  3.10546875e-01, -3.27148438e-02, -1.75781250e-01,\n",
       "        -5.73730469e-02, -3.41796875e-01,  2.03125000e-01, -1.30859375e-01,\n",
       "        -1.01074219e-01, -3.10546875e-01,  2.44140625e-03,  6.05468750e-02,\n",
       "        -1.84570312e-01,  1.33056641e-02,  7.32421875e-02, -1.00097656e-01,\n",
       "         1.89208984e-02, -8.44726562e-02,  4.02832031e-02,  1.11328125e-01,\n",
       "         1.07421875e-01,  5.17578125e-02,  3.00781250e-01,  3.88183594e-02,\n",
       "        -1.23046875e-01, -5.29785156e-02, -1.79687500e-01, -2.18750000e-01,\n",
       "        -7.66601562e-02,  1.08886719e-01,  1.25976562e-01, -2.92968750e-01,\n",
       "        -2.77343750e-01,  1.91650391e-02, -1.92382812e-01, -3.68652344e-02,\n",
       "         1.68457031e-02,  3.16406250e-01, -1.59179688e-01,  1.20605469e-01,\n",
       "        -1.60156250e-01,  1.04492188e-01, -1.49414062e-01, -6.73828125e-02,\n",
       "         1.05468750e-01, -1.80664062e-01, -7.47070312e-02, -2.01171875e-01,\n",
       "         1.47460938e-01,  1.66015625e-02, -1.40625000e-01, -2.79541016e-02,\n",
       "        -1.60156250e-01, -4.24804688e-02, -1.20605469e-01, -7.08007812e-02,\n",
       "        -3.51562500e-01, -2.61718750e-01, -3.49609375e-01,  3.08990479e-04,\n",
       "        -1.45507812e-01, -8.93554688e-02, -3.49121094e-02,  6.83593750e-02,\n",
       "         2.49023438e-01, -7.91015625e-02, -2.99072266e-02,  3.73535156e-02,\n",
       "         2.39257812e-01,  9.08203125e-02,  1.87500000e-01, -2.81250000e-01,\n",
       "         5.49316406e-02, -1.47460938e-01,  8.25195312e-02,  7.08007812e-02,\n",
       "         8.10546875e-02,  8.74023438e-02,  3.59375000e-01,  1.09863281e-01,\n",
       "         8.31604004e-04,  5.83496094e-02, -1.46484375e-01, -2.01171875e-01,\n",
       "        -3.54003906e-02,  1.13281250e-01,  9.03320312e-02, -1.16210938e-01,\n",
       "         2.98828125e-01, -4.85229492e-03, -4.22363281e-02, -1.48437500e-01,\n",
       "         1.33789062e-01, -3.83300781e-02,  6.34765625e-02,  1.75781250e-01,\n",
       "        -6.34765625e-02, -1.57226562e-01,  1.79443359e-02,  6.62231445e-03,\n",
       "        -1.74560547e-02,  5.71289062e-02,  3.73535156e-02, -4.58984375e-01,\n",
       "        -2.58789062e-02,  1.14746094e-01,  4.76074219e-02,  3.90625000e-02,\n",
       "         8.74023438e-02, -7.27539062e-02, -1.14257812e-01,  5.71289062e-02,\n",
       "        -1.17797852e-02,  3.83300781e-02,  6.63757324e-04, -1.22070312e-03,\n",
       "        -1.38671875e-01,  1.10351562e-01, -1.01074219e-01,  6.98242188e-02,\n",
       "        -1.66015625e-01, -2.00195312e-01, -1.25000000e-01, -6.93359375e-02,\n",
       "        -1.54296875e-01,  1.09863281e-01,  3.27148438e-02,  4.83398438e-02,\n",
       "        -9.42382812e-02,  8.98437500e-02,  1.14746094e-01, -4.66308594e-02,\n",
       "        -6.29882812e-02,  1.50146484e-02, -1.55273438e-01, -1.20605469e-01,\n",
       "         2.23632812e-01,  1.99218750e-01, -2.11914062e-01, -6.54296875e-02,\n",
       "        -3.12500000e-01,  8.74023438e-02, -2.22656250e-01,  1.23046875e-01,\n",
       "         4.76074219e-03, -7.12890625e-02,  1.62109375e-01,  9.13085938e-02],\n",
       "       dtype=float32),\n",
       " array([-4.80957031e-02, -2.08740234e-02,  2.55859375e-01,  1.86767578e-02,\n",
       "         3.36914062e-02,  3.80859375e-02,  4.19921875e-02, -1.59179688e-01,\n",
       "        -7.37304688e-02, -2.79296875e-01, -6.49414062e-02,  1.35421753e-04,\n",
       "        -1.31835938e-01,  3.47656250e-01, -1.14746094e-01, -1.08886719e-01,\n",
       "        -2.98828125e-01,  1.76757812e-01,  6.40869141e-03, -1.06445312e-01,\n",
       "        -9.91210938e-02, -2.57812500e-01,  1.17675781e-01,  1.02539062e-01,\n",
       "         1.90429688e-01,  2.04101562e-01, -3.02734375e-02,  6.49414062e-02,\n",
       "        -1.87500000e-01, -2.57812500e-01,  6.39648438e-02,  5.22460938e-02,\n",
       "        -7.17773438e-02, -8.05664062e-02, -1.02539062e-01,  1.95312500e-03,\n",
       "        -5.46875000e-02,  3.04687500e-01,  2.71484375e-01,  1.06445312e-01,\n",
       "         6.25000000e-02,  1.47460938e-01,  1.92382812e-01, -3.58886719e-02,\n",
       "         2.96020508e-03, -1.77734375e-01, -2.22656250e-01,  2.55859375e-01,\n",
       "        -1.42578125e-01, -2.73132324e-03,  6.98242188e-02, -3.20312500e-01,\n",
       "        -2.60009766e-02, -4.76074219e-02, -2.67578125e-01, -4.49218750e-02,\n",
       "        -1.61132812e-01, -2.94921875e-01,  1.30615234e-02,  6.68945312e-02,\n",
       "        -1.34765625e-01, -1.11816406e-01,  1.10839844e-01, -6.39648438e-02,\n",
       "        -3.10546875e-01, -7.61718750e-02, -2.20947266e-02, -1.03027344e-01,\n",
       "        -2.36328125e-01,  1.03515625e-01,  2.42614746e-03, -2.53906250e-01,\n",
       "         1.13281250e-01, -1.61132812e-02,  2.32421875e-01, -9.37500000e-02,\n",
       "         4.41894531e-02, -1.62353516e-02, -2.53906250e-02,  5.56640625e-02,\n",
       "         1.88476562e-01,  4.49218750e-01,  1.17187500e-01,  2.44140625e-01,\n",
       "        -5.66406250e-02, -2.40478516e-02, -1.06445312e-01,  2.67578125e-01,\n",
       "         1.84570312e-01,  1.00097656e-01,  1.89453125e-01, -1.50390625e-01,\n",
       "         2.79541016e-02, -8.44726562e-02,  5.49316406e-02, -1.59179688e-01,\n",
       "        -1.63085938e-01,  2.32421875e-01,  2.31445312e-01,  1.06445312e-01,\n",
       "        -1.96533203e-02, -1.07421875e-01,  1.11816406e-01,  7.47070312e-02,\n",
       "        -1.50390625e-01, -1.25000000e-01, -9.32617188e-02, -1.77734375e-01,\n",
       "         3.10546875e-01,  4.44335938e-02, -2.85644531e-02, -6.78710938e-02,\n",
       "         5.27343750e-02,  3.01513672e-02, -1.01074219e-01,  1.25000000e-01,\n",
       "        -7.81250000e-03, -2.14843750e-01,  1.82617188e-01,  1.12792969e-01,\n",
       "        -3.69140625e-01,  8.59375000e-02,  5.46875000e-02,  1.77734375e-01,\n",
       "        -1.21093750e-01,  6.05468750e-02, -2.11914062e-01, -1.04980469e-02,\n",
       "         4.73632812e-02, -7.91015625e-02, -1.06445312e-01, -1.31835938e-01,\n",
       "        -7.61718750e-02,  1.26953125e-01,  2.52685547e-02, -2.98828125e-01,\n",
       "         2.61230469e-02, -7.81250000e-02,  2.10937500e-01,  5.05371094e-02,\n",
       "         8.25195312e-02, -1.09863281e-01,  1.72119141e-02, -3.12500000e-02,\n",
       "         9.09423828e-03, -2.57568359e-02,  6.15234375e-02,  1.98242188e-01,\n",
       "         1.35742188e-01,  6.88476562e-02,  9.52148438e-02,  1.94335938e-01,\n",
       "         3.68652344e-02,  2.01171875e-01,  4.84375000e-01, -1.92871094e-02,\n",
       "         1.04492188e-01, -5.85937500e-02, -3.39843750e-01, -3.55468750e-01,\n",
       "         1.26953125e-01, -5.05371094e-02, -8.85009766e-03,  1.38671875e-01,\n",
       "         3.17382812e-02,  3.68652344e-02, -1.80664062e-01, -1.60156250e-01,\n",
       "         1.79687500e-01, -8.10546875e-02, -3.50952148e-03,  1.46484375e-01,\n",
       "        -5.24902344e-02, -1.69677734e-02,  1.90429688e-01, -1.85546875e-01,\n",
       "         3.06396484e-02, -1.03515625e-01, -2.57812500e-01, -5.93261719e-02,\n",
       "        -4.85839844e-02,  9.37500000e-02,  6.78710938e-02, -1.15234375e-01,\n",
       "        -2.65625000e-01, -1.73828125e-01, -7.91015625e-02,  1.83593750e-01,\n",
       "         4.00390625e-01,  2.01171875e-01, -3.92578125e-01, -3.00781250e-01,\n",
       "        -1.68945312e-01,  1.40625000e-01, -3.30078125e-01,  7.42187500e-02,\n",
       "        -6.88476562e-02, -1.65039062e-01,  1.94335938e-01, -3.45703125e-01,\n",
       "        -2.63671875e-01,  1.55273438e-01,  1.31835938e-01, -7.71484375e-02,\n",
       "        -4.02832031e-02,  1.03027344e-01, -5.15136719e-02, -2.07031250e-01,\n",
       "        -2.33398438e-01,  1.67968750e-01, -1.82617188e-01, -4.44335938e-02,\n",
       "        -1.15234375e-01,  7.56835938e-02,  2.27539062e-01,  1.45507812e-01,\n",
       "         2.36328125e-01,  2.02636719e-02, -6.34765625e-02,  1.05468750e-01,\n",
       "         1.08398438e-01, -8.98437500e-02,  6.93359375e-02,  3.12500000e-01,\n",
       "        -1.50390625e-01, -9.08203125e-02,  6.07910156e-02, -4.17480469e-02,\n",
       "         2.97851562e-02,  5.51757812e-02, -1.95312500e-01,  8.83789062e-02,\n",
       "        -1.07421875e-01, -3.12500000e-01, -6.93359375e-02,  2.80761719e-03,\n",
       "        -6.29882812e-02,  4.32128906e-02,  1.43554688e-01, -1.31835938e-01,\n",
       "        -9.76562500e-02,  2.28515625e-01,  1.04980469e-01,  4.12597656e-02,\n",
       "         7.51953125e-02, -1.66015625e-01,  2.33398438e-01, -5.29785156e-02,\n",
       "        -3.27148438e-02, -3.56445312e-02, -1.74804688e-01,  4.83398438e-02,\n",
       "        -1.36718750e-01,  1.39648438e-01,  1.43554688e-01, -1.52343750e-01,\n",
       "        -1.61132812e-02, -1.21093750e-01, -4.90722656e-02,  1.42578125e-01,\n",
       "         1.04492188e-01, -3.37890625e-01,  5.27343750e-02,  3.16406250e-01,\n",
       "         2.24609375e-02,  2.63671875e-01,  1.48925781e-02,  1.52343750e-01,\n",
       "        -2.71484375e-01,  4.63867188e-02, -2.19726562e-01,  1.34765625e-01,\n",
       "         1.63574219e-02,  1.74804688e-01, -8.49609375e-02,  1.83593750e-01,\n",
       "        -2.60009766e-02,  6.73828125e-02, -8.44726562e-02, -8.54492188e-02,\n",
       "        -2.23632812e-01, -1.55273438e-01,  1.84570312e-01,  1.05468750e-01,\n",
       "        -2.18750000e-01,  1.30859375e-01,  2.63671875e-02,  1.72851562e-01,\n",
       "         3.26171875e-01,  6.88476562e-02, -1.82617188e-01, -9.08203125e-02,\n",
       "        -1.75781250e-01,  4.02832031e-02,  1.14746094e-01, -6.83593750e-02,\n",
       "         1.76757812e-01, -1.86523438e-01, -4.02832031e-02, -2.05078125e-02],\n",
       "       dtype=float32)]"
      ]
     },
     "execution_count": 54,
     "metadata": {},
     "output_type": "execute_result"
    }
   ],
   "source": [
    "search_term_embedding"
   ]
  },
  {
   "cell_type": "code",
   "execution_count": 64,
   "metadata": {},
   "outputs": [],
   "source": [
    "search_term_embedding_mean = numpy.mean(search_term_embedding, axis=0)"
   ]
  },
  {
   "cell_type": "code",
   "execution_count": 66,
   "metadata": {
    "scrolled": true
   },
   "outputs": [
    {
     "name": "stdout",
     "output_type": "stream",
     "text": [
      "(300,)\n"
     ]
    }
   ],
   "source": [
    "print(search_term_embedding_mean.shape)\n",
    "#search_term_embedding_mean"
   ]
  },
  {
   "cell_type": "code",
   "execution_count": 63,
   "metadata": {},
   "outputs": [
    {
     "data": {
      "text/plain": [
       "(300,)"
      ]
     },
     "execution_count": 63,
     "metadata": {},
     "output_type": "execute_result"
    }
   ],
   "source": [
    "search_term_embedding[0].shape"
   ]
  },
  {
   "cell_type": "code",
   "execution_count": null,
   "metadata": {},
   "outputs": [],
   "source": []
  },
  {
   "cell_type": "code",
   "execution_count": null,
   "metadata": {},
   "outputs": [],
   "source": []
  },
  {
   "cell_type": "code",
   "execution_count": 67,
   "metadata": {},
   "outputs": [],
   "source": [
    "import re\n",
    "\n",
    "def remove_sym_specialchar(text):\n",
    "#    pattern = r'[^a-zA-Z0-9\\s]'\n",
    "#    text = re.sub(pattern,'', text)\n",
    "    text_nonum = re.sub(r'\\d+', '', text)\n",
    "    return text_nonum"
   ]
  },
  {
   "cell_type": "code",
   "execution_count": 68,
   "metadata": {},
   "outputs": [],
   "source": [
    "data['job_title'] = data.job_title.apply(remove_sym_specialchar)"
   ]
  },
  {
   "cell_type": "code",
   "execution_count": 69,
   "metadata": {},
   "outputs": [
    {
     "data": {
      "text/plain": [
       "' C.T. Bauer College of Business Graduate (Magna Cum Laude) and aspiring Human Resources professional'"
      ]
     },
     "execution_count": 69,
     "metadata": {},
     "output_type": "execute_result"
    }
   ],
   "source": [
    "data['job_title'][0]"
   ]
  },
  {
   "cell_type": "code",
   "execution_count": 73,
   "metadata": {},
   "outputs": [],
   "source": [
    "#calculate vector for the sentence by add individual word vectors using numpy.mean\n",
    "\n",
    "jobtitle_embeddings = []\n",
    "    \n",
    "for text in data['job_title']:\n",
    "    jobtitle_embedding = []\n",
    "    for word in text.split():\n",
    "        if word not in corpus:\n",
    "            jobtitle_embedding.append(numpy.zeros((300)))\n",
    "        else:   \n",
    "            jobtitle_embedding.append(corpus[word])\n",
    "\n",
    "    jobtitle_embedding = numpy.mean(jobtitle_embedding, axis = 0)\n",
    "#average candidate job title embedding to represent the sentence\n",
    "\n",
    "    jobtitle_embeddings.append(jobtitle_embedding)"
   ]
  },
  {
   "cell_type": "code",
   "execution_count": 94,
   "metadata": {},
   "outputs": [
    {
     "data": {
      "text/plain": [
       "104"
      ]
     },
     "execution_count": 94,
     "metadata": {},
     "output_type": "execute_result"
    }
   ],
   "source": [
    "len(jobtitle_embeddings)"
   ]
  },
  {
   "cell_type": "code",
   "execution_count": 109,
   "metadata": {},
   "outputs": [
    {
     "data": {
      "text/plain": [
       "list"
      ]
     },
     "execution_count": 109,
     "metadata": {},
     "output_type": "execute_result"
    }
   ],
   "source": [
    "type(jobtitle_embeddings)"
   ]
  },
  {
   "cell_type": "code",
   "execution_count": 98,
   "metadata": {},
   "outputs": [
    {
     "data": {
      "text/plain": [
       "(300,)"
      ]
     },
     "execution_count": 98,
     "metadata": {},
     "output_type": "execute_result"
    }
   ],
   "source": [
    "jobtitle_embeddings[2].shape"
   ]
  },
  {
   "cell_type": "code",
   "execution_count": 108,
   "metadata": {},
   "outputs": [
    {
     "data": {
      "text/plain": [
       "array([-0.02456229, -0.02502877,  0.0454058 , -0.01222447,  0.04069737,\n",
       "        0.01130458,  0.05714634,  0.000994  , -0.04078456,  0.00482178,\n",
       "        0.00513567,  0.03986795,  0.00229318,  0.05874852, -0.02300589,\n",
       "        0.0027553 ,  0.06499372,  0.06651088, -0.01143973,  0.00966099,\n",
       "       -0.02326093,  0.04976109, -0.04040527, -0.0322876 , -0.01926967,\n",
       "        0.04178892, -0.06484549,  0.03099741,  0.05024501,  0.01559448,\n",
       "       -0.00066267,  0.00816563, -0.01757812, -0.08856201, -0.00515311,\n",
       "       -0.03009905,  0.0246582 ,  0.01063756, -0.03761509, -0.03062221,\n",
       "       -0.01296779,  0.02180699, -0.06321934,  0.05019651, -0.06492397,\n",
       "       -0.00915527, -0.02219936,  0.03797259,  0.0408674 ,  0.07159424,\n",
       "       -0.11314174,  0.01199777,  0.00265939,  0.01469707,  0.03907721,\n",
       "        0.01839774, -0.05896868, -0.05235509, -0.0335519 , -0.02165876,\n",
       "       -0.04248047, -0.0242315 , -0.04926232,  0.00129046, -0.00273132,\n",
       "       -0.01701028,  0.00744629, -0.00530515,  0.02969796,  0.0370309 ,\n",
       "       -0.04628209, -0.01526751,  0.07407924, -0.00252424, -0.02385603,\n",
       "       -0.00446429,  0.0458685 ,  0.04564558,  0.01944842,  0.02694702,\n",
       "       -0.04173061,  0.0291154 ,  0.00135149,  0.03366525, -0.0504412 ,\n",
       "       -0.03596449,  0.0223781 ,  0.04746137,  0.03344727, -0.01520647,\n",
       "       -0.06396321, -0.04907227, -0.05033657, -0.04952567, -0.01304408,\n",
       "        0.04612078,  0.12283761,  0.04672568,  0.00757708, -0.14396449,\n",
       "        0.00144741, -0.04914202, -0.05296898, -0.06377302,  0.03936986,\n",
       "        0.05636161,  0.02099609, -0.05631283,  0.08295986, -0.03418841,\n",
       "       -0.01279122, -0.02814593, -0.01733398,  0.02997644,  0.08823068,\n",
       "       -0.03386579, -0.00917925,  0.00850133,  0.08530971,  0.00800432,\n",
       "       -0.05196708,  0.03979492, -0.0746024 ,  0.0144152 , -0.06648472,\n",
       "        0.00601632, -0.11514718, -0.01650783,  0.05313546,  0.06266567,\n",
       "        0.02246094, -0.0620248 , -0.05503627, -0.02388654, -0.05862863,\n",
       "       -0.04341343, -0.02967834,  0.03464181, -0.03117153,  0.03412301,\n",
       "       -0.04460798, -0.07512556, -0.01856341, -0.03949847, -0.02659171,\n",
       "        0.08033098,  0.04197475,  0.1023298 ,  0.06072126,  0.01915877,\n",
       "        0.07376535, -0.03330721, -0.0305481 , -0.00374058,  0.04116004,\n",
       "       -0.05794852, -0.03669739, -0.04389736,  0.05592564, -0.10175432,\n",
       "        0.0920105 , -0.01590838, -0.00902448,  0.04724121,  0.02390398,\n",
       "        0.03282819,  0.07219587,  0.01926967, -0.03395735,  0.0194288 ,\n",
       "       -0.0337786 , -0.02526855,  0.07426017, -0.09061977,  0.01872907,\n",
       "        0.00794111,  0.04453823, -0.06307547, -0.06262207, -0.03550502,\n",
       "       -0.03951372, -0.08762905,  0.03696987,  0.00694057, -0.0730678 ,\n",
       "       -0.03660366,  0.04043797,  0.02362061,  0.07395717,  0.03609794,\n",
       "       -0.02733285,  0.03110177, -0.04062762,  0.06318011, -0.124006  ,\n",
       "       -0.00328718,  0.04193987, -0.13685826,  0.10453142, -0.04051862,\n",
       "        0.00830187,  0.0811506 , -0.05453491, -0.05184828, -0.01234654,\n",
       "       -0.09971401,  0.00141689, -0.00490897,  0.00950405, -0.05121013,\n",
       "        0.00169482, -0.02263532,  0.08455985,  0.01296779, -0.03981672,\n",
       "        0.09947859,  0.00577218, -0.01464844,  0.10756138, -0.04980469,\n",
       "        0.06061663,  0.03626142, -0.02038574,  0.00871931,  0.05235073,\n",
       "       -0.02639008,  0.00476946, -0.07324219, -0.04832241, -0.03939274,\n",
       "        0.07104492,  0.0746024 , -0.0106242 ,  0.00097656, -0.02066476,\n",
       "       -0.01247297,  0.0392892 , -0.01688058, -0.03917585,  0.07299369,\n",
       "        0.03285435, -0.0801299 ,  0.01685878, -0.06447928, -0.01127951,\n",
       "       -0.05164446, -0.05554199,  0.03213937, -0.10484096, -0.04572405,\n",
       "       -0.03438895,  0.03203474, -0.08071027,  0.03843035,  0.00758362,\n",
       "        0.08021763, -0.05504063, -0.01671709, -0.05368478, -0.03354727,\n",
       "        0.04893276,  0.01682826,  0.0484205 , -0.00057111, -0.01767404,\n",
       "        0.0443028 , -0.098332  , -0.007758  , -0.03485979, -0.01022884,\n",
       "        0.00882394, -0.03853934, -0.00132533,  0.00795201, -0.02196394,\n",
       "        0.00365829, -0.03567941,  0.0023019 ,  0.00138637,  0.01450893,\n",
       "       -0.0222168 , -0.05674526,  0.00695801,  0.09347098,  0.01266044,\n",
       "        0.01109096, -0.08524268,  0.0067967 ,  0.07414028,  0.10139247,\n",
       "        0.00657   , -0.08338274, -0.19670759,  0.08805629,  0.02364676,\n",
       "       -0.04277693,  0.02813285, -0.0392892 , -0.04129464,  0.05276053])"
      ]
     },
     "execution_count": 108,
     "metadata": {},
     "output_type": "execute_result"
    }
   ],
   "source": [
    "jobtitle_embeddings[0]"
   ]
  },
  {
   "cell_type": "code",
   "execution_count": 76,
   "metadata": {},
   "outputs": [],
   "source": [
    "cosine_similirity_scores = []\n",
    "\n",
    "#cos_similarity_lam = map(lambda x: cosine_similarity(search_term_embedding, x), jobtitle_embeddings)\n",
    "\n",
    "for jobtitle_embedding in jobtitle_embeddings:\n",
    "    score = cosine_similarity(search_term_embedding_mean, jobtitle_embedding)\n",
    "#    score = numpy.mean(score)\n",
    "    cosine_similirity_scores.append(score)"
   ]
  },
  {
   "cell_type": "code",
   "execution_count": 80,
   "metadata": {},
   "outputs": [
    {
     "data": {
      "text/plain": [
       "0.21032198"
      ]
     },
     "execution_count": 80,
     "metadata": {},
     "output_type": "execute_result"
    }
   ],
   "source": [
    "cosine_similirity_scores[3]"
   ]
  },
  {
   "cell_type": "code",
   "execution_count": 81,
   "metadata": {},
   "outputs": [
    {
     "data": {
      "text/plain": [
       "[0.45685704158807683,\n",
       " 0.2911007259684649,\n",
       " 0.6287277,\n",
       " 0.21032198,\n",
       " 0.14989693,\n",
       " 0.598271,\n",
       " 0.5338431551728507,\n",
       " 0.24628457,\n",
       " 0.5338431551728507,\n",
       " 0.4653258503903726,\n",
       " 0.21811514,\n",
       " 0.24647247512062803,\n",
       " 0.22101595,\n",
       " 0.45685704158807683,\n",
       " 0.45685704158807683,\n",
       " 0.2911007259684649,\n",
       " 0.6287277,\n",
       " 0.21032198,\n",
       " 0.45685704158807683,\n",
       " 0.2911007259684649,\n",
       " 0.6287277,\n",
       " 0.21032198,\n",
       " 0.14989693,\n",
       " 0.598271,\n",
       " 0.5338431551728507,\n",
       " 0.24628457,\n",
       " 0.57632416,\n",
       " 0.45409384,\n",
       " 0.57632416,\n",
       " 0.45409384,\n",
       " 0.45685704158807683,\n",
       " 0.2911007259684649,\n",
       " 0.6287277,\n",
       " 0.21032198,\n",
       " 0.14989693,\n",
       " 0.598271,\n",
       " 0.5338431551728507,\n",
       " 0.24628457,\n",
       " 0.5338431551728507,\n",
       " 0.4653258503903726,\n",
       " 0.21811514,\n",
       " 0.24647247512062803,\n",
       " 0.22101595,\n",
       " 0.45685704158807683,\n",
       " 0.2911007259684649,\n",
       " 0.6287277,\n",
       " 0.21032198,\n",
       " 0.14989693,\n",
       " 0.598271,\n",
       " 0.5338431551728507,\n",
       " 0.24628457,\n",
       " 0.5338431551728507,\n",
       " 0.4653258503903726,\n",
       " 0.21811514,\n",
       " 0.24647247512062803,\n",
       " 0.22101595,\n",
       " 0.45685704158807683,\n",
       " 0.6287277,\n",
       " 0.21032198,\n",
       " 0.598271,\n",
       " 0.24628457,\n",
       " 0.4653258503903726,\n",
       " 0.21811514,\n",
       " 0.24647247512062803,\n",
       " 0.22101595,\n",
       " 0.48390046293605493,\n",
       " 0.3820235218971923,\n",
       " 0.27279937,\n",
       " 0.1996306415253676,\n",
       " 0.3095479135729126,\n",
       " 0.39273578320687663,\n",
       " 0.46363416603372126,\n",
       " 0.6135674579916791,\n",
       " 0.40387344,\n",
       " 0.3319127412614739,\n",
       " 0.5976294433501564,\n",
       " 0.28596274911651254,\n",
       " 0.41256648736429435,\n",
       " 0.5239611318814231,\n",
       " 0.1830855481793926,\n",
       " 0.3294971,\n",
       " 0.5775728189578108,\n",
       " 0.1753932,\n",
       " 0.44086695,\n",
       " 0.1075627571784136,\n",
       " 0.2283261980704192,\n",
       " 0.2114460248085825,\n",
       " 0.33866104,\n",
       " 0.26920655,\n",
       " 0.17782247,\n",
       " 0.21955281,\n",
       " 0.29657137,\n",
       " 0.19208132,\n",
       " 0.3685429575992519,\n",
       " 0.19133413,\n",
       " 0.1569395234297548,\n",
       " 0.6287277,\n",
       " 0.17501572,\n",
       " 0.41182733,\n",
       " 0.5218630298157405,\n",
       " 0.37722933,\n",
       " 0.16505897901403443,\n",
       " 0.24725556,\n",
       " 0.12925707]"
      ]
     },
     "execution_count": 81,
     "metadata": {},
     "output_type": "execute_result"
    }
   ],
   "source": [
    "cosine_similirity_scores"
   ]
  },
  {
   "cell_type": "code",
   "execution_count": 91,
   "metadata": {},
   "outputs": [
    {
     "name": "stderr",
     "output_type": "stream",
     "text": [
      "/opt/anaconda3/lib/python3.7/site-packages/ipykernel_launcher.py:2: SettingWithCopyWarning: \n",
      "A value is trying to be set on a copy of a slice from a DataFrame\n",
      "\n",
      "See the caveats in the documentation: https://pandas.pydata.org/pandas-docs/stable/user_guide/indexing.html#returning-a-view-versus-a-copy\n",
      "  \n"
     ]
    }
   ],
   "source": [
    "for i in range(len(cosine_similirity_scores)):\n",
    "    data['fit'][i] = cosine_similirity_scores[i]"
   ]
  },
  {
   "cell_type": "code",
   "execution_count": 92,
   "metadata": {},
   "outputs": [
    {
     "data": {
      "text/html": [
       "<div>\n",
       "<style scoped>\n",
       "    .dataframe tbody tr th:only-of-type {\n",
       "        vertical-align: middle;\n",
       "    }\n",
       "\n",
       "    .dataframe tbody tr th {\n",
       "        vertical-align: top;\n",
       "    }\n",
       "\n",
       "    .dataframe thead th {\n",
       "        text-align: right;\n",
       "    }\n",
       "</style>\n",
       "<table border=\"1\" class=\"dataframe\">\n",
       "  <thead>\n",
       "    <tr style=\"text-align: right;\">\n",
       "      <th></th>\n",
       "      <th>id</th>\n",
       "      <th>job_title</th>\n",
       "      <th>location</th>\n",
       "      <th>connection</th>\n",
       "      <th>fit</th>\n",
       "    </tr>\n",
       "  </thead>\n",
       "  <tbody>\n",
       "    <tr>\n",
       "      <th>0</th>\n",
       "      <td>1</td>\n",
       "      <td>C.T. Bauer College of Business Graduate (Magn...</td>\n",
       "      <td>Houston, Texas</td>\n",
       "      <td>85</td>\n",
       "      <td>0.456857</td>\n",
       "    </tr>\n",
       "    <tr>\n",
       "      <th>1</th>\n",
       "      <td>2</td>\n",
       "      <td>Native English Teacher at EPIK (English Progra...</td>\n",
       "      <td>Kanada</td>\n",
       "      <td>500</td>\n",
       "      <td>0.291101</td>\n",
       "    </tr>\n",
       "    <tr>\n",
       "      <th>2</th>\n",
       "      <td>3</td>\n",
       "      <td>Aspiring Human Resources Professional</td>\n",
       "      <td>Raleigh-Durham, North Carolina Area</td>\n",
       "      <td>44</td>\n",
       "      <td>0.628728</td>\n",
       "    </tr>\n",
       "    <tr>\n",
       "      <th>3</th>\n",
       "      <td>4</td>\n",
       "      <td>People Development Coordinator at Ryan</td>\n",
       "      <td>Denton, Texas</td>\n",
       "      <td>500</td>\n",
       "      <td>0.210322</td>\n",
       "    </tr>\n",
       "    <tr>\n",
       "      <th>4</th>\n",
       "      <td>5</td>\n",
       "      <td>Advisory Board Member at Celal Bayar University</td>\n",
       "      <td>İzmir, Türkiye</td>\n",
       "      <td>500</td>\n",
       "      <td>0.149897</td>\n",
       "    </tr>\n",
       "  </tbody>\n",
       "</table>\n",
       "</div>"
      ],
      "text/plain": [
       "   id                                          job_title  \\\n",
       "0   1   C.T. Bauer College of Business Graduate (Magn...   \n",
       "1   2  Native English Teacher at EPIK (English Progra...   \n",
       "2   3              Aspiring Human Resources Professional   \n",
       "3   4             People Development Coordinator at Ryan   \n",
       "4   5    Advisory Board Member at Celal Bayar University   \n",
       "\n",
       "                              location connection       fit  \n",
       "0                       Houston, Texas         85  0.456857  \n",
       "1                               Kanada        500  0.291101  \n",
       "2  Raleigh-Durham, North Carolina Area         44  0.628728  \n",
       "3                        Denton, Texas        500  0.210322  \n",
       "4                       İzmir, Türkiye        500  0.149897  "
      ]
     },
     "execution_count": 92,
     "metadata": {},
     "output_type": "execute_result"
    }
   ],
   "source": [
    "data.head()"
   ]
  },
  {
   "cell_type": "code",
   "execution_count": 93,
   "metadata": {},
   "outputs": [
    {
     "data": {
      "text/html": [
       "<div>\n",
       "<style scoped>\n",
       "    .dataframe tbody tr th:only-of-type {\n",
       "        vertical-align: middle;\n",
       "    }\n",
       "\n",
       "    .dataframe tbody tr th {\n",
       "        vertical-align: top;\n",
       "    }\n",
       "\n",
       "    .dataframe thead th {\n",
       "        text-align: right;\n",
       "    }\n",
       "</style>\n",
       "<table border=\"1\" class=\"dataframe\">\n",
       "  <thead>\n",
       "    <tr style=\"text-align: right;\">\n",
       "      <th></th>\n",
       "      <th>id</th>\n",
       "      <th>job_title</th>\n",
       "      <th>location</th>\n",
       "      <th>connection</th>\n",
       "      <th>fit</th>\n",
       "    </tr>\n",
       "  </thead>\n",
       "  <tbody>\n",
       "    <tr>\n",
       "      <th>20</th>\n",
       "      <td>21</td>\n",
       "      <td>Aspiring Human Resources Professional</td>\n",
       "      <td>Raleigh-Durham, North Carolina Area</td>\n",
       "      <td>44</td>\n",
       "      <td>0.628728</td>\n",
       "    </tr>\n",
       "    <tr>\n",
       "      <th>45</th>\n",
       "      <td>46</td>\n",
       "      <td>Aspiring Human Resources Professional</td>\n",
       "      <td>Raleigh-Durham, North Carolina Area</td>\n",
       "      <td>44</td>\n",
       "      <td>0.628728</td>\n",
       "    </tr>\n",
       "    <tr>\n",
       "      <th>32</th>\n",
       "      <td>33</td>\n",
       "      <td>Aspiring Human Resources Professional</td>\n",
       "      <td>Raleigh-Durham, North Carolina Area</td>\n",
       "      <td>44</td>\n",
       "      <td>0.628728</td>\n",
       "    </tr>\n",
       "    <tr>\n",
       "      <th>2</th>\n",
       "      <td>3</td>\n",
       "      <td>Aspiring Human Resources Professional</td>\n",
       "      <td>Raleigh-Durham, North Carolina Area</td>\n",
       "      <td>44</td>\n",
       "      <td>0.628728</td>\n",
       "    </tr>\n",
       "    <tr>\n",
       "      <th>57</th>\n",
       "      <td>58</td>\n",
       "      <td>Aspiring Human Resources Professional</td>\n",
       "      <td>Raleigh-Durham, North Carolina Area</td>\n",
       "      <td>44</td>\n",
       "      <td>0.628728</td>\n",
       "    </tr>\n",
       "    <tr>\n",
       "      <th>96</th>\n",
       "      <td>97</td>\n",
       "      <td>Aspiring Human Resources Professional</td>\n",
       "      <td>Kokomo, Indiana Area</td>\n",
       "      <td>71</td>\n",
       "      <td>0.628728</td>\n",
       "    </tr>\n",
       "    <tr>\n",
       "      <th>16</th>\n",
       "      <td>17</td>\n",
       "      <td>Aspiring Human Resources Professional</td>\n",
       "      <td>Raleigh-Durham, North Carolina Area</td>\n",
       "      <td>44</td>\n",
       "      <td>0.628728</td>\n",
       "    </tr>\n",
       "    <tr>\n",
       "      <th>72</th>\n",
       "      <td>73</td>\n",
       "      <td>Aspiring Human Resources Manager, seeking inte...</td>\n",
       "      <td>Houston, Texas Area</td>\n",
       "      <td>7</td>\n",
       "      <td>0.613567</td>\n",
       "    </tr>\n",
       "    <tr>\n",
       "      <th>23</th>\n",
       "      <td>24</td>\n",
       "      <td>Aspiring Human Resources Specialist</td>\n",
       "      <td>Greater New York City Area</td>\n",
       "      <td>1</td>\n",
       "      <td>0.598271</td>\n",
       "    </tr>\n",
       "    <tr>\n",
       "      <th>59</th>\n",
       "      <td>60</td>\n",
       "      <td>Aspiring Human Resources Specialist</td>\n",
       "      <td>Greater New York City Area</td>\n",
       "      <td>1</td>\n",
       "      <td>0.598271</td>\n",
       "    </tr>\n",
       "    <tr>\n",
       "      <th>48</th>\n",
       "      <td>49</td>\n",
       "      <td>Aspiring Human Resources Specialist</td>\n",
       "      <td>Greater New York City Area</td>\n",
       "      <td>1</td>\n",
       "      <td>0.598271</td>\n",
       "    </tr>\n",
       "    <tr>\n",
       "      <th>5</th>\n",
       "      <td>6</td>\n",
       "      <td>Aspiring Human Resources Specialist</td>\n",
       "      <td>Greater New York City Area</td>\n",
       "      <td>1</td>\n",
       "      <td>0.598271</td>\n",
       "    </tr>\n",
       "    <tr>\n",
       "      <th>35</th>\n",
       "      <td>36</td>\n",
       "      <td>Aspiring Human Resources Specialist</td>\n",
       "      <td>Greater New York City Area</td>\n",
       "      <td>1</td>\n",
       "      <td>0.598271</td>\n",
       "    </tr>\n",
       "    <tr>\n",
       "      <th>75</th>\n",
       "      <td>76</td>\n",
       "      <td>Aspiring Human Resources Professional | Passio...</td>\n",
       "      <td>New York, New York</td>\n",
       "      <td>212</td>\n",
       "      <td>0.597629</td>\n",
       "    </tr>\n",
       "    <tr>\n",
       "      <th>81</th>\n",
       "      <td>82</td>\n",
       "      <td>Aspiring Human Resources Professional | An ene...</td>\n",
       "      <td>Austin, Texas Area</td>\n",
       "      <td>174</td>\n",
       "      <td>0.577573</td>\n",
       "    </tr>\n",
       "    <tr>\n",
       "      <th>26</th>\n",
       "      <td>27</td>\n",
       "      <td>Aspiring Human Resources Management student se...</td>\n",
       "      <td>Houston, Texas Area</td>\n",
       "      <td>500</td>\n",
       "      <td>0.576324</td>\n",
       "    </tr>\n",
       "    <tr>\n",
       "      <th>28</th>\n",
       "      <td>29</td>\n",
       "      <td>Aspiring Human Resources Management student se...</td>\n",
       "      <td>Houston, Texas Area</td>\n",
       "      <td>500</td>\n",
       "      <td>0.576324</td>\n",
       "    </tr>\n",
       "    <tr>\n",
       "      <th>36</th>\n",
       "      <td>37</td>\n",
       "      <td>Student at Humber College and Aspiring Human R...</td>\n",
       "      <td>Kanada</td>\n",
       "      <td>61</td>\n",
       "      <td>0.533843</td>\n",
       "    </tr>\n",
       "    <tr>\n",
       "      <th>49</th>\n",
       "      <td>50</td>\n",
       "      <td>Student at Humber College and Aspiring Human R...</td>\n",
       "      <td>Kanada</td>\n",
       "      <td>61</td>\n",
       "      <td>0.533843</td>\n",
       "    </tr>\n",
       "    <tr>\n",
       "      <th>38</th>\n",
       "      <td>39</td>\n",
       "      <td>Student at Humber College and Aspiring Human R...</td>\n",
       "      <td>Kanada</td>\n",
       "      <td>61</td>\n",
       "      <td>0.533843</td>\n",
       "    </tr>\n",
       "    <tr>\n",
       "      <th>51</th>\n",
       "      <td>52</td>\n",
       "      <td>Student at Humber College and Aspiring Human R...</td>\n",
       "      <td>Kanada</td>\n",
       "      <td>61</td>\n",
       "      <td>0.533843</td>\n",
       "    </tr>\n",
       "    <tr>\n",
       "      <th>24</th>\n",
       "      <td>25</td>\n",
       "      <td>Student at Humber College and Aspiring Human R...</td>\n",
       "      <td>Kanada</td>\n",
       "      <td>61</td>\n",
       "      <td>0.533843</td>\n",
       "    </tr>\n",
       "    <tr>\n",
       "      <th>8</th>\n",
       "      <td>9</td>\n",
       "      <td>Student at Humber College and Aspiring Human R...</td>\n",
       "      <td>Kanada</td>\n",
       "      <td>61</td>\n",
       "      <td>0.533843</td>\n",
       "    </tr>\n",
       "    <tr>\n",
       "      <th>6</th>\n",
       "      <td>7</td>\n",
       "      <td>Student at Humber College and Aspiring Human R...</td>\n",
       "      <td>Kanada</td>\n",
       "      <td>61</td>\n",
       "      <td>0.533843</td>\n",
       "    </tr>\n",
       "    <tr>\n",
       "      <th>78</th>\n",
       "      <td>79</td>\n",
       "      <td>Liberal Arts Major. Aspiring Human Resources A...</td>\n",
       "      <td>Baton Rouge, Louisiana Area</td>\n",
       "      <td>7</td>\n",
       "      <td>0.523961</td>\n",
       "    </tr>\n",
       "    <tr>\n",
       "      <th>99</th>\n",
       "      <td>100</td>\n",
       "      <td>Aspiring Human Resources Manager | Graduating ...</td>\n",
       "      <td>Cape Girardeau, Missouri</td>\n",
       "      <td>103</td>\n",
       "      <td>0.521863</td>\n",
       "    </tr>\n",
       "    <tr>\n",
       "      <th>65</th>\n",
       "      <td>66</td>\n",
       "      <td>Experienced Retail Manager and aspiring Human ...</td>\n",
       "      <td>Austin, Texas Area</td>\n",
       "      <td>57</td>\n",
       "      <td>0.483900</td>\n",
       "    </tr>\n",
       "    <tr>\n",
       "      <th>61</th>\n",
       "      <td>62</td>\n",
       "      <td>Seeking Human Resources HRIS and Generalist Po...</td>\n",
       "      <td>Greater Philadelphia Area</td>\n",
       "      <td>500</td>\n",
       "      <td>0.465326</td>\n",
       "    </tr>\n",
       "    <tr>\n",
       "      <th>39</th>\n",
       "      <td>40</td>\n",
       "      <td>Seeking Human Resources HRIS and Generalist Po...</td>\n",
       "      <td>Greater Philadelphia Area</td>\n",
       "      <td>500</td>\n",
       "      <td>0.465326</td>\n",
       "    </tr>\n",
       "    <tr>\n",
       "      <th>52</th>\n",
       "      <td>53</td>\n",
       "      <td>Seeking Human Resources HRIS and Generalist Po...</td>\n",
       "      <td>Greater Philadelphia Area</td>\n",
       "      <td>500</td>\n",
       "      <td>0.465326</td>\n",
       "    </tr>\n",
       "    <tr>\n",
       "      <th>9</th>\n",
       "      <td>10</td>\n",
       "      <td>Seeking Human Resources HRIS and Generalist Po...</td>\n",
       "      <td>Greater Philadelphia Area</td>\n",
       "      <td>500</td>\n",
       "      <td>0.465326</td>\n",
       "    </tr>\n",
       "    <tr>\n",
       "      <th>71</th>\n",
       "      <td>72</td>\n",
       "      <td>Business Management Major and Aspiring Human R...</td>\n",
       "      <td>Monroe, Louisiana Area</td>\n",
       "      <td>5</td>\n",
       "      <td>0.463634</td>\n",
       "    </tr>\n",
       "    <tr>\n",
       "      <th>56</th>\n",
       "      <td>57</td>\n",
       "      <td>C.T. Bauer College of Business Graduate (Magn...</td>\n",
       "      <td>Houston, Texas</td>\n",
       "      <td>85</td>\n",
       "      <td>0.456857</td>\n",
       "    </tr>\n",
       "    <tr>\n",
       "      <th>43</th>\n",
       "      <td>44</td>\n",
       "      <td>C.T. Bauer College of Business Graduate (Magn...</td>\n",
       "      <td>Houston, Texas</td>\n",
       "      <td>85</td>\n",
       "      <td>0.456857</td>\n",
       "    </tr>\n",
       "    <tr>\n",
       "      <th>30</th>\n",
       "      <td>31</td>\n",
       "      <td>C.T. Bauer College of Business Graduate (Magn...</td>\n",
       "      <td>Houston, Texas</td>\n",
       "      <td>85</td>\n",
       "      <td>0.456857</td>\n",
       "    </tr>\n",
       "    <tr>\n",
       "      <th>18</th>\n",
       "      <td>19</td>\n",
       "      <td>C.T. Bauer College of Business Graduate (Magn...</td>\n",
       "      <td>Houston, Texas</td>\n",
       "      <td>85</td>\n",
       "      <td>0.456857</td>\n",
       "    </tr>\n",
       "    <tr>\n",
       "      <th>14</th>\n",
       "      <td>15</td>\n",
       "      <td>C.T. Bauer College of Business Graduate (Magn...</td>\n",
       "      <td>Houston, Texas</td>\n",
       "      <td>85</td>\n",
       "      <td>0.456857</td>\n",
       "    </tr>\n",
       "    <tr>\n",
       "      <th>13</th>\n",
       "      <td>14</td>\n",
       "      <td>C.T. Bauer College of Business Graduate (Magn...</td>\n",
       "      <td>Houston, Texas</td>\n",
       "      <td>85</td>\n",
       "      <td>0.456857</td>\n",
       "    </tr>\n",
       "    <tr>\n",
       "      <th>0</th>\n",
       "      <td>1</td>\n",
       "      <td>C.T. Bauer College of Business Graduate (Magn...</td>\n",
       "      <td>Houston, Texas</td>\n",
       "      <td>85</td>\n",
       "      <td>0.456857</td>\n",
       "    </tr>\n",
       "    <tr>\n",
       "      <th>29</th>\n",
       "      <td>30</td>\n",
       "      <td>Seeking Human Resources Opportunities</td>\n",
       "      <td>Chicago, Illinois</td>\n",
       "      <td>390</td>\n",
       "      <td>0.454094</td>\n",
       "    </tr>\n",
       "    <tr>\n",
       "      <th>27</th>\n",
       "      <td>28</td>\n",
       "      <td>Seeking Human Resources Opportunities</td>\n",
       "      <td>Chicago, Illinois</td>\n",
       "      <td>390</td>\n",
       "      <td>0.454094</td>\n",
       "    </tr>\n",
       "    <tr>\n",
       "      <th>83</th>\n",
       "      <td>84</td>\n",
       "      <td>Human Resources professional for the world lea...</td>\n",
       "      <td>Highland, California</td>\n",
       "      <td>50</td>\n",
       "      <td>0.440867</td>\n",
       "    </tr>\n",
       "    <tr>\n",
       "      <th>77</th>\n",
       "      <td>78</td>\n",
       "      <td>Human Resources Generalist at Schwan's</td>\n",
       "      <td>Amerika Birleşik Devletleri</td>\n",
       "      <td>500</td>\n",
       "      <td>0.412566</td>\n",
       "    </tr>\n",
       "    <tr>\n",
       "      <th>98</th>\n",
       "      <td>99</td>\n",
       "      <td>Seeking Human Resources Position</td>\n",
       "      <td>Las Vegas, Nevada Area</td>\n",
       "      <td>48</td>\n",
       "      <td>0.411827</td>\n",
       "    </tr>\n",
       "    <tr>\n",
       "      <th>73</th>\n",
       "      <td>74</td>\n",
       "      <td>Human Resources Professional</td>\n",
       "      <td>Greater Boston Area</td>\n",
       "      <td>16</td>\n",
       "      <td>0.403873</td>\n",
       "    </tr>\n",
       "  </tbody>\n",
       "</table>\n",
       "</div>"
      ],
      "text/plain": [
       "     id                                          job_title  \\\n",
       "20   21              Aspiring Human Resources Professional   \n",
       "45   46              Aspiring Human Resources Professional   \n",
       "32   33              Aspiring Human Resources Professional   \n",
       "2     3              Aspiring Human Resources Professional   \n",
       "57   58              Aspiring Human Resources Professional   \n",
       "96   97              Aspiring Human Resources Professional   \n",
       "16   17              Aspiring Human Resources Professional   \n",
       "72   73  Aspiring Human Resources Manager, seeking inte...   \n",
       "23   24                Aspiring Human Resources Specialist   \n",
       "59   60                Aspiring Human Resources Specialist   \n",
       "48   49                Aspiring Human Resources Specialist   \n",
       "5     6                Aspiring Human Resources Specialist   \n",
       "35   36                Aspiring Human Resources Specialist   \n",
       "75   76  Aspiring Human Resources Professional | Passio...   \n",
       "81   82  Aspiring Human Resources Professional | An ene...   \n",
       "26   27  Aspiring Human Resources Management student se...   \n",
       "28   29  Aspiring Human Resources Management student se...   \n",
       "36   37  Student at Humber College and Aspiring Human R...   \n",
       "49   50  Student at Humber College and Aspiring Human R...   \n",
       "38   39  Student at Humber College and Aspiring Human R...   \n",
       "51   52  Student at Humber College and Aspiring Human R...   \n",
       "24   25  Student at Humber College and Aspiring Human R...   \n",
       "8     9  Student at Humber College and Aspiring Human R...   \n",
       "6     7  Student at Humber College and Aspiring Human R...   \n",
       "78   79  Liberal Arts Major. Aspiring Human Resources A...   \n",
       "99  100  Aspiring Human Resources Manager | Graduating ...   \n",
       "65   66  Experienced Retail Manager and aspiring Human ...   \n",
       "61   62  Seeking Human Resources HRIS and Generalist Po...   \n",
       "39   40  Seeking Human Resources HRIS and Generalist Po...   \n",
       "52   53  Seeking Human Resources HRIS and Generalist Po...   \n",
       "9    10  Seeking Human Resources HRIS and Generalist Po...   \n",
       "71   72  Business Management Major and Aspiring Human R...   \n",
       "56   57   C.T. Bauer College of Business Graduate (Magn...   \n",
       "43   44   C.T. Bauer College of Business Graduate (Magn...   \n",
       "30   31   C.T. Bauer College of Business Graduate (Magn...   \n",
       "18   19   C.T. Bauer College of Business Graduate (Magn...   \n",
       "14   15   C.T. Bauer College of Business Graduate (Magn...   \n",
       "13   14   C.T. Bauer College of Business Graduate (Magn...   \n",
       "0     1   C.T. Bauer College of Business Graduate (Magn...   \n",
       "29   30              Seeking Human Resources Opportunities   \n",
       "27   28              Seeking Human Resources Opportunities   \n",
       "83   84  Human Resources professional for the world lea...   \n",
       "77   78             Human Resources Generalist at Schwan's   \n",
       "98   99                   Seeking Human Resources Position   \n",
       "73   74                       Human Resources Professional   \n",
       "\n",
       "                               location connection       fit  \n",
       "20  Raleigh-Durham, North Carolina Area         44  0.628728  \n",
       "45  Raleigh-Durham, North Carolina Area         44  0.628728  \n",
       "32  Raleigh-Durham, North Carolina Area         44  0.628728  \n",
       "2   Raleigh-Durham, North Carolina Area         44  0.628728  \n",
       "57  Raleigh-Durham, North Carolina Area         44  0.628728  \n",
       "96                 Kokomo, Indiana Area         71  0.628728  \n",
       "16  Raleigh-Durham, North Carolina Area         44  0.628728  \n",
       "72                  Houston, Texas Area          7  0.613567  \n",
       "23           Greater New York City Area          1  0.598271  \n",
       "59           Greater New York City Area          1  0.598271  \n",
       "48           Greater New York City Area          1  0.598271  \n",
       "5            Greater New York City Area          1  0.598271  \n",
       "35           Greater New York City Area          1  0.598271  \n",
       "75                   New York, New York        212  0.597629  \n",
       "81                   Austin, Texas Area        174  0.577573  \n",
       "26                  Houston, Texas Area        500  0.576324  \n",
       "28                  Houston, Texas Area        500  0.576324  \n",
       "36                               Kanada         61  0.533843  \n",
       "49                               Kanada         61  0.533843  \n",
       "38                               Kanada         61  0.533843  \n",
       "51                               Kanada         61  0.533843  \n",
       "24                               Kanada         61  0.533843  \n",
       "8                                Kanada         61  0.533843  \n",
       "6                                Kanada         61  0.533843  \n",
       "78          Baton Rouge, Louisiana Area          7  0.523961  \n",
       "99             Cape Girardeau, Missouri        103  0.521863  \n",
       "65                   Austin, Texas Area         57  0.483900  \n",
       "61            Greater Philadelphia Area        500  0.465326  \n",
       "39            Greater Philadelphia Area        500  0.465326  \n",
       "52            Greater Philadelphia Area        500  0.465326  \n",
       "9             Greater Philadelphia Area        500  0.465326  \n",
       "71               Monroe, Louisiana Area          5  0.463634  \n",
       "56                       Houston, Texas         85  0.456857  \n",
       "43                       Houston, Texas         85  0.456857  \n",
       "30                       Houston, Texas         85  0.456857  \n",
       "18                       Houston, Texas         85  0.456857  \n",
       "14                       Houston, Texas         85  0.456857  \n",
       "13                       Houston, Texas         85  0.456857  \n",
       "0                        Houston, Texas         85  0.456857  \n",
       "29                    Chicago, Illinois        390  0.454094  \n",
       "27                    Chicago, Illinois        390  0.454094  \n",
       "83                 Highland, California         50  0.440867  \n",
       "77          Amerika Birleşik Devletleri        500  0.412566  \n",
       "98               Las Vegas, Nevada Area         48  0.411827  \n",
       "73                  Greater Boston Area         16  0.403873  "
      ]
     },
     "execution_count": 93,
     "metadata": {},
     "output_type": "execute_result"
    }
   ],
   "source": [
    "data.loc[data['fit'] >= 0.4].sort_values(by = 'fit', ascending=False)"
   ]
  },
  {
   "cell_type": "code",
   "execution_count": null,
   "metadata": {},
   "outputs": [],
   "source": []
  },
  {
   "cell_type": "markdown",
   "metadata": {},
   "source": [
    "## Ranknet Implementation"
   ]
  },
  {
   "cell_type": "code",
   "execution_count": 86,
   "metadata": {},
   "outputs": [],
   "source": [
    "from keras import backend\n",
    "from keras.layers import Activation, Dense, Input, Subtract\n",
    "from keras.models import Model"
   ]
  },
  {
   "cell_type": "code",
   "execution_count": 110,
   "metadata": {},
   "outputs": [],
   "source": [
    "#Let's assume the supervisor selects id=27 as the ideal candidate"
   ]
  },
  {
   "cell_type": "code",
   "execution_count": 87,
   "metadata": {},
   "outputs": [],
   "source": [
    "# Model.\n",
    "h_1 = Dense(128, activation=\"relu\")\n",
    "h_2 = Dense(64, activation=\"relu\")\n",
    "h_3 = Dense(32, activation=\"relu\")\n",
    "s = Dense(1)"
   ]
  },
  {
   "cell_type": "code",
   "execution_count": 99,
   "metadata": {},
   "outputs": [],
   "source": [
    "rel_doc = Input(shape=(300,), dtype=\"float32\")"
   ]
  },
  {
   "cell_type": "code",
   "execution_count": 100,
   "metadata": {},
   "outputs": [],
   "source": [
    "h_1_rel = h_1(rel_doc)\n",
    "h_2_rel = h_2(h_1_rel)\n",
    "h_3_rel = h_3(h_2_rel)\n",
    "rel_score = s(h_3_rel)"
   ]
  },
  {
   "cell_type": "code",
   "execution_count": 101,
   "metadata": {},
   "outputs": [],
   "source": [
    "irr_doc = Input(shape=(300,), dtype=\"float32\")\n",
    "h_1_irr = h_1(irr_doc)\n",
    "h_2_irr = h_2(h_1_irr)\n",
    "h_3_irr = h_3(h_2_irr)\n",
    "irr_score = s(h_3_irr)"
   ]
  },
  {
   "cell_type": "code",
   "execution_count": 102,
   "metadata": {},
   "outputs": [],
   "source": [
    "diff = Subtract()([rel_score, irr_score])"
   ]
  },
  {
   "cell_type": "code",
   "execution_count": 103,
   "metadata": {},
   "outputs": [],
   "source": [
    "prob = Activation(\"sigmoid\")(diff)"
   ]
  },
  {
   "cell_type": "code",
   "execution_count": 104,
   "metadata": {},
   "outputs": [],
   "source": [
    "model = Model(inputs=[rel_doc, irr_doc], outputs=prob)\n",
    "model.compile(optimizer=\"adadelta\", loss=\"binary_crossentropy\")"
   ]
  },
  {
   "cell_type": "code",
   "execution_count": 105,
   "metadata": {},
   "outputs": [],
   "source": [
    "NUM_EPOCHS = 10\n",
    "BATCH_SIZE = 2"
   ]
  },
  {
   "cell_type": "code",
   "execution_count": 150,
   "metadata": {},
   "outputs": [],
   "source": [
    "X = numpy.asarray(jobtitle_embeddings)"
   ]
  },
  {
   "cell_type": "code",
   "execution_count": 165,
   "metadata": {},
   "outputs": [],
   "source": [
    "#supervisor selects candidate with id=26 as the ideal candidate\n",
    "data.at[26,'signal'] = 1"
   ]
  },
  {
   "cell_type": "code",
   "execution_count": 152,
   "metadata": {},
   "outputs": [],
   "source": [
    "y = data['signal']"
   ]
  },
  {
   "cell_type": "code",
   "execution_count": 153,
   "metadata": {},
   "outputs": [],
   "source": [
    "y = y.to_numpy()"
   ]
  },
  {
   "cell_type": "code",
   "execution_count": 154,
   "metadata": {},
   "outputs": [
    {
     "data": {
      "text/plain": [
       "numpy.ndarray"
      ]
     },
     "execution_count": 154,
     "metadata": {},
     "output_type": "execute_result"
    }
   ],
   "source": [
    "type(X)"
   ]
  },
  {
   "cell_type": "code",
   "execution_count": 155,
   "metadata": {},
   "outputs": [
    {
     "data": {
      "text/plain": [
       "((104, 300), (104,))"
      ]
     },
     "execution_count": 155,
     "metadata": {},
     "output_type": "execute_result"
    }
   ],
   "source": [
    "X.shape, y.shape"
   ]
  },
  {
   "cell_type": "code",
   "execution_count": 161,
   "metadata": {},
   "outputs": [],
   "source": [
    "#X1 = numpy.asarray(0)"
   ]
  },
  {
   "cell_type": "code",
   "execution_count": 162,
   "metadata": {},
   "outputs": [],
   "source": [
    "#X1.shape"
   ]
  },
  {
   "cell_type": "code",
   "execution_count": 163,
   "metadata": {},
   "outputs": [
    {
     "name": "stdout",
     "output_type": "stream",
     "text": [
      "Epoch 1/10\n"
     ]
    },
    {
     "ename": "ValueError",
     "evalue": "in user code:\n\n    /opt/anaconda3/lib/python3.7/site-packages/tensorflow/python/keras/engine/training.py:805 train_function  *\n        return step_function(self, iterator)\n    /opt/anaconda3/lib/python3.7/site-packages/tensorflow/python/keras/engine/training.py:795 step_function  **\n        outputs = model.distribute_strategy.run(run_step, args=(data,))\n    /opt/anaconda3/lib/python3.7/site-packages/tensorflow/python/distribute/distribute_lib.py:1259 run\n        return self._extended.call_for_each_replica(fn, args=args, kwargs=kwargs)\n    /opt/anaconda3/lib/python3.7/site-packages/tensorflow/python/distribute/distribute_lib.py:2730 call_for_each_replica\n        return self._call_for_each_replica(fn, args, kwargs)\n    /opt/anaconda3/lib/python3.7/site-packages/tensorflow/python/distribute/distribute_lib.py:3417 _call_for_each_replica\n        return fn(*args, **kwargs)\n    /opt/anaconda3/lib/python3.7/site-packages/tensorflow/python/keras/engine/training.py:788 run_step  **\n        outputs = model.train_step(data)\n    /opt/anaconda3/lib/python3.7/site-packages/tensorflow/python/keras/engine/training.py:754 train_step\n        y_pred = self(x, training=True)\n    /opt/anaconda3/lib/python3.7/site-packages/tensorflow/python/keras/engine/base_layer.py:998 __call__\n        input_spec.assert_input_compatibility(self.input_spec, inputs, self.name)\n    /opt/anaconda3/lib/python3.7/site-packages/tensorflow/python/keras/engine/input_spec.py:207 assert_input_compatibility\n        ' input tensors. Inputs received: ' + str(inputs))\n\n    ValueError: Layer model expects 2 input(s), but it received 1 input tensors. Inputs received: [<tf.Tensor 'IteratorGetNext:0' shape=(2, 300) dtype=float32>]\n",
     "output_type": "error",
     "traceback": [
      "\u001b[0;31m---------------------------------------------------------------------------\u001b[0m",
      "\u001b[0;31mValueError\u001b[0m                                Traceback (most recent call last)",
      "\u001b[0;32m<ipython-input-163-f6376c756426>\u001b[0m in \u001b[0;36m<module>\u001b[0;34m\u001b[0m\n\u001b[0;32m----> 1\u001b[0;31m \u001b[0mhistory\u001b[0m \u001b[0;34m=\u001b[0m \u001b[0mmodel\u001b[0m\u001b[0;34m.\u001b[0m\u001b[0mfit\u001b[0m\u001b[0;34m(\u001b[0m\u001b[0mX\u001b[0m\u001b[0;34m,\u001b[0m \u001b[0my\u001b[0m\u001b[0;34m,\u001b[0m \u001b[0mbatch_size\u001b[0m\u001b[0;34m=\u001b[0m\u001b[0mBATCH_SIZE\u001b[0m\u001b[0;34m,\u001b[0m \u001b[0mepochs\u001b[0m\u001b[0;34m=\u001b[0m\u001b[0mNUM_EPOCHS\u001b[0m\u001b[0;34m,\u001b[0m \u001b[0mverbose\u001b[0m\u001b[0;34m=\u001b[0m\u001b[0;36m1\u001b[0m\u001b[0;34m)\u001b[0m\u001b[0;34m\u001b[0m\u001b[0;34m\u001b[0m\u001b[0m\n\u001b[0m",
      "\u001b[0;32m/opt/anaconda3/lib/python3.7/site-packages/tensorflow/python/keras/engine/training.py\u001b[0m in \u001b[0;36mfit\u001b[0;34m(self, x, y, batch_size, epochs, verbose, callbacks, validation_split, validation_data, shuffle, class_weight, sample_weight, initial_epoch, steps_per_epoch, validation_steps, validation_batch_size, validation_freq, max_queue_size, workers, use_multiprocessing)\u001b[0m\n\u001b[1;32m   1098\u001b[0m                 _r=1):\n\u001b[1;32m   1099\u001b[0m               \u001b[0mcallbacks\u001b[0m\u001b[0;34m.\u001b[0m\u001b[0mon_train_batch_begin\u001b[0m\u001b[0;34m(\u001b[0m\u001b[0mstep\u001b[0m\u001b[0;34m)\u001b[0m\u001b[0;34m\u001b[0m\u001b[0;34m\u001b[0m\u001b[0m\n\u001b[0;32m-> 1100\u001b[0;31m               \u001b[0mtmp_logs\u001b[0m \u001b[0;34m=\u001b[0m \u001b[0mself\u001b[0m\u001b[0;34m.\u001b[0m\u001b[0mtrain_function\u001b[0m\u001b[0;34m(\u001b[0m\u001b[0miterator\u001b[0m\u001b[0;34m)\u001b[0m\u001b[0;34m\u001b[0m\u001b[0;34m\u001b[0m\u001b[0m\n\u001b[0m\u001b[1;32m   1101\u001b[0m               \u001b[0;32mif\u001b[0m \u001b[0mdata_handler\u001b[0m\u001b[0;34m.\u001b[0m\u001b[0mshould_sync\u001b[0m\u001b[0;34m:\u001b[0m\u001b[0;34m\u001b[0m\u001b[0;34m\u001b[0m\u001b[0m\n\u001b[1;32m   1102\u001b[0m                 \u001b[0mcontext\u001b[0m\u001b[0;34m.\u001b[0m\u001b[0masync_wait\u001b[0m\u001b[0;34m(\u001b[0m\u001b[0;34m)\u001b[0m\u001b[0;34m\u001b[0m\u001b[0;34m\u001b[0m\u001b[0m\n",
      "\u001b[0;32m/opt/anaconda3/lib/python3.7/site-packages/tensorflow/python/eager/def_function.py\u001b[0m in \u001b[0;36m__call__\u001b[0;34m(self, *args, **kwds)\u001b[0m\n\u001b[1;32m    826\u001b[0m     \u001b[0mtracing_count\u001b[0m \u001b[0;34m=\u001b[0m \u001b[0mself\u001b[0m\u001b[0;34m.\u001b[0m\u001b[0mexperimental_get_tracing_count\u001b[0m\u001b[0;34m(\u001b[0m\u001b[0;34m)\u001b[0m\u001b[0;34m\u001b[0m\u001b[0;34m\u001b[0m\u001b[0m\n\u001b[1;32m    827\u001b[0m     \u001b[0;32mwith\u001b[0m \u001b[0mtrace\u001b[0m\u001b[0;34m.\u001b[0m\u001b[0mTrace\u001b[0m\u001b[0;34m(\u001b[0m\u001b[0mself\u001b[0m\u001b[0;34m.\u001b[0m\u001b[0m_name\u001b[0m\u001b[0;34m)\u001b[0m \u001b[0;32mas\u001b[0m \u001b[0mtm\u001b[0m\u001b[0;34m:\u001b[0m\u001b[0;34m\u001b[0m\u001b[0;34m\u001b[0m\u001b[0m\n\u001b[0;32m--> 828\u001b[0;31m       \u001b[0mresult\u001b[0m \u001b[0;34m=\u001b[0m \u001b[0mself\u001b[0m\u001b[0;34m.\u001b[0m\u001b[0m_call\u001b[0m\u001b[0;34m(\u001b[0m\u001b[0;34m*\u001b[0m\u001b[0margs\u001b[0m\u001b[0;34m,\u001b[0m \u001b[0;34m**\u001b[0m\u001b[0mkwds\u001b[0m\u001b[0;34m)\u001b[0m\u001b[0;34m\u001b[0m\u001b[0;34m\u001b[0m\u001b[0m\n\u001b[0m\u001b[1;32m    829\u001b[0m       \u001b[0mcompiler\u001b[0m \u001b[0;34m=\u001b[0m \u001b[0;34m\"xla\"\u001b[0m \u001b[0;32mif\u001b[0m \u001b[0mself\u001b[0m\u001b[0;34m.\u001b[0m\u001b[0m_experimental_compile\u001b[0m \u001b[0;32melse\u001b[0m \u001b[0;34m\"nonXla\"\u001b[0m\u001b[0;34m\u001b[0m\u001b[0;34m\u001b[0m\u001b[0m\n\u001b[1;32m    830\u001b[0m       \u001b[0mnew_tracing_count\u001b[0m \u001b[0;34m=\u001b[0m \u001b[0mself\u001b[0m\u001b[0;34m.\u001b[0m\u001b[0mexperimental_get_tracing_count\u001b[0m\u001b[0;34m(\u001b[0m\u001b[0;34m)\u001b[0m\u001b[0;34m\u001b[0m\u001b[0;34m\u001b[0m\u001b[0m\n",
      "\u001b[0;32m/opt/anaconda3/lib/python3.7/site-packages/tensorflow/python/eager/def_function.py\u001b[0m in \u001b[0;36m_call\u001b[0;34m(self, *args, **kwds)\u001b[0m\n\u001b[1;32m    860\u001b[0m       \u001b[0;31m# In this case we have not created variables on the first call. So we can\u001b[0m\u001b[0;34m\u001b[0m\u001b[0;34m\u001b[0m\u001b[0;34m\u001b[0m\u001b[0m\n\u001b[1;32m    861\u001b[0m       \u001b[0;31m# run the first trace but we should fail if variables are created.\u001b[0m\u001b[0;34m\u001b[0m\u001b[0;34m\u001b[0m\u001b[0;34m\u001b[0m\u001b[0m\n\u001b[0;32m--> 862\u001b[0;31m       \u001b[0mresults\u001b[0m \u001b[0;34m=\u001b[0m \u001b[0mself\u001b[0m\u001b[0;34m.\u001b[0m\u001b[0m_stateful_fn\u001b[0m\u001b[0;34m(\u001b[0m\u001b[0;34m*\u001b[0m\u001b[0margs\u001b[0m\u001b[0;34m,\u001b[0m \u001b[0;34m**\u001b[0m\u001b[0mkwds\u001b[0m\u001b[0;34m)\u001b[0m\u001b[0;34m\u001b[0m\u001b[0;34m\u001b[0m\u001b[0m\n\u001b[0m\u001b[1;32m    863\u001b[0m       \u001b[0;32mif\u001b[0m \u001b[0mself\u001b[0m\u001b[0;34m.\u001b[0m\u001b[0m_created_variables\u001b[0m\u001b[0;34m:\u001b[0m\u001b[0;34m\u001b[0m\u001b[0;34m\u001b[0m\u001b[0m\n\u001b[1;32m    864\u001b[0m         raise ValueError(\"Creating variables on a non-first call to a function\"\n",
      "\u001b[0;32m/opt/anaconda3/lib/python3.7/site-packages/tensorflow/python/eager/function.py\u001b[0m in \u001b[0;36m__call__\u001b[0;34m(self, *args, **kwargs)\u001b[0m\n\u001b[1;32m   2939\u001b[0m     \u001b[0;32mwith\u001b[0m \u001b[0mself\u001b[0m\u001b[0;34m.\u001b[0m\u001b[0m_lock\u001b[0m\u001b[0;34m:\u001b[0m\u001b[0;34m\u001b[0m\u001b[0;34m\u001b[0m\u001b[0m\n\u001b[1;32m   2940\u001b[0m       (graph_function,\n\u001b[0;32m-> 2941\u001b[0;31m        filtered_flat_args) = self._maybe_define_function(args, kwargs)\n\u001b[0m\u001b[1;32m   2942\u001b[0m     return graph_function._call_flat(\n\u001b[1;32m   2943\u001b[0m         filtered_flat_args, captured_inputs=graph_function.captured_inputs)  # pylint: disable=protected-access\n",
      "\u001b[0;32m/opt/anaconda3/lib/python3.7/site-packages/tensorflow/python/eager/function.py\u001b[0m in \u001b[0;36m_maybe_define_function\u001b[0;34m(self, args, kwargs)\u001b[0m\n\u001b[1;32m   3356\u001b[0m               call_context_key in self._function_cache.missed):\n\u001b[1;32m   3357\u001b[0m             return self._define_function_with_shape_relaxation(\n\u001b[0;32m-> 3358\u001b[0;31m                 args, kwargs, flat_args, filtered_flat_args, cache_key_context)\n\u001b[0m\u001b[1;32m   3359\u001b[0m \u001b[0;34m\u001b[0m\u001b[0m\n\u001b[1;32m   3360\u001b[0m           \u001b[0mself\u001b[0m\u001b[0;34m.\u001b[0m\u001b[0m_function_cache\u001b[0m\u001b[0;34m.\u001b[0m\u001b[0mmissed\u001b[0m\u001b[0;34m.\u001b[0m\u001b[0madd\u001b[0m\u001b[0;34m(\u001b[0m\u001b[0mcall_context_key\u001b[0m\u001b[0;34m)\u001b[0m\u001b[0;34m\u001b[0m\u001b[0;34m\u001b[0m\u001b[0m\n",
      "\u001b[0;32m/opt/anaconda3/lib/python3.7/site-packages/tensorflow/python/eager/function.py\u001b[0m in \u001b[0;36m_define_function_with_shape_relaxation\u001b[0;34m(self, args, kwargs, flat_args, filtered_flat_args, cache_key_context)\u001b[0m\n\u001b[1;32m   3278\u001b[0m \u001b[0;34m\u001b[0m\u001b[0m\n\u001b[1;32m   3279\u001b[0m     graph_function = self._create_graph_function(\n\u001b[0;32m-> 3280\u001b[0;31m         args, kwargs, override_flat_arg_shapes=relaxed_arg_shapes)\n\u001b[0m\u001b[1;32m   3281\u001b[0m     \u001b[0mself\u001b[0m\u001b[0;34m.\u001b[0m\u001b[0m_function_cache\u001b[0m\u001b[0;34m.\u001b[0m\u001b[0marg_relaxed\u001b[0m\u001b[0;34m[\u001b[0m\u001b[0mrank_only_cache_key\u001b[0m\u001b[0;34m]\u001b[0m \u001b[0;34m=\u001b[0m \u001b[0mgraph_function\u001b[0m\u001b[0;34m\u001b[0m\u001b[0;34m\u001b[0m\u001b[0m\n\u001b[1;32m   3282\u001b[0m \u001b[0;34m\u001b[0m\u001b[0m\n",
      "\u001b[0;32m/opt/anaconda3/lib/python3.7/site-packages/tensorflow/python/eager/function.py\u001b[0m in \u001b[0;36m_create_graph_function\u001b[0;34m(self, args, kwargs, override_flat_arg_shapes)\u001b[0m\n\u001b[1;32m   3204\u001b[0m             \u001b[0marg_names\u001b[0m\u001b[0;34m=\u001b[0m\u001b[0marg_names\u001b[0m\u001b[0;34m,\u001b[0m\u001b[0;34m\u001b[0m\u001b[0;34m\u001b[0m\u001b[0m\n\u001b[1;32m   3205\u001b[0m             \u001b[0moverride_flat_arg_shapes\u001b[0m\u001b[0;34m=\u001b[0m\u001b[0moverride_flat_arg_shapes\u001b[0m\u001b[0;34m,\u001b[0m\u001b[0;34m\u001b[0m\u001b[0;34m\u001b[0m\u001b[0m\n\u001b[0;32m-> 3206\u001b[0;31m             capture_by_value=self._capture_by_value),\n\u001b[0m\u001b[1;32m   3207\u001b[0m         \u001b[0mself\u001b[0m\u001b[0;34m.\u001b[0m\u001b[0m_function_attributes\u001b[0m\u001b[0;34m,\u001b[0m\u001b[0;34m\u001b[0m\u001b[0;34m\u001b[0m\u001b[0m\n\u001b[1;32m   3208\u001b[0m         \u001b[0mfunction_spec\u001b[0m\u001b[0;34m=\u001b[0m\u001b[0mself\u001b[0m\u001b[0;34m.\u001b[0m\u001b[0mfunction_spec\u001b[0m\u001b[0;34m,\u001b[0m\u001b[0;34m\u001b[0m\u001b[0;34m\u001b[0m\u001b[0m\n",
      "\u001b[0;32m/opt/anaconda3/lib/python3.7/site-packages/tensorflow/python/framework/func_graph.py\u001b[0m in \u001b[0;36mfunc_graph_from_py_func\u001b[0;34m(name, python_func, args, kwargs, signature, func_graph, autograph, autograph_options, add_control_dependencies, arg_names, op_return_value, collections, capture_by_value, override_flat_arg_shapes)\u001b[0m\n\u001b[1;32m    988\u001b[0m         \u001b[0m_\u001b[0m\u001b[0;34m,\u001b[0m \u001b[0moriginal_func\u001b[0m \u001b[0;34m=\u001b[0m \u001b[0mtf_decorator\u001b[0m\u001b[0;34m.\u001b[0m\u001b[0munwrap\u001b[0m\u001b[0;34m(\u001b[0m\u001b[0mpython_func\u001b[0m\u001b[0;34m)\u001b[0m\u001b[0;34m\u001b[0m\u001b[0;34m\u001b[0m\u001b[0m\n\u001b[1;32m    989\u001b[0m \u001b[0;34m\u001b[0m\u001b[0m\n\u001b[0;32m--> 990\u001b[0;31m       \u001b[0mfunc_outputs\u001b[0m \u001b[0;34m=\u001b[0m \u001b[0mpython_func\u001b[0m\u001b[0;34m(\u001b[0m\u001b[0;34m*\u001b[0m\u001b[0mfunc_args\u001b[0m\u001b[0;34m,\u001b[0m \u001b[0;34m**\u001b[0m\u001b[0mfunc_kwargs\u001b[0m\u001b[0;34m)\u001b[0m\u001b[0;34m\u001b[0m\u001b[0;34m\u001b[0m\u001b[0m\n\u001b[0m\u001b[1;32m    991\u001b[0m \u001b[0;34m\u001b[0m\u001b[0m\n\u001b[1;32m    992\u001b[0m       \u001b[0;31m# invariant: `func_outputs` contains only Tensors, CompositeTensors,\u001b[0m\u001b[0;34m\u001b[0m\u001b[0;34m\u001b[0m\u001b[0;34m\u001b[0m\u001b[0m\n",
      "\u001b[0;32m/opt/anaconda3/lib/python3.7/site-packages/tensorflow/python/eager/def_function.py\u001b[0m in \u001b[0;36mwrapped_fn\u001b[0;34m(*args, **kwds)\u001b[0m\n\u001b[1;32m    632\u001b[0m             \u001b[0mxla_context\u001b[0m\u001b[0;34m.\u001b[0m\u001b[0mExit\u001b[0m\u001b[0;34m(\u001b[0m\u001b[0;34m)\u001b[0m\u001b[0;34m\u001b[0m\u001b[0;34m\u001b[0m\u001b[0m\n\u001b[1;32m    633\u001b[0m         \u001b[0;32melse\u001b[0m\u001b[0;34m:\u001b[0m\u001b[0;34m\u001b[0m\u001b[0;34m\u001b[0m\u001b[0m\n\u001b[0;32m--> 634\u001b[0;31m           \u001b[0mout\u001b[0m \u001b[0;34m=\u001b[0m \u001b[0mweak_wrapped_fn\u001b[0m\u001b[0;34m(\u001b[0m\u001b[0;34m)\u001b[0m\u001b[0;34m.\u001b[0m\u001b[0m__wrapped__\u001b[0m\u001b[0;34m(\u001b[0m\u001b[0;34m*\u001b[0m\u001b[0margs\u001b[0m\u001b[0;34m,\u001b[0m \u001b[0;34m**\u001b[0m\u001b[0mkwds\u001b[0m\u001b[0;34m)\u001b[0m\u001b[0;34m\u001b[0m\u001b[0;34m\u001b[0m\u001b[0m\n\u001b[0m\u001b[1;32m    635\u001b[0m         \u001b[0;32mreturn\u001b[0m \u001b[0mout\u001b[0m\u001b[0;34m\u001b[0m\u001b[0;34m\u001b[0m\u001b[0m\n\u001b[1;32m    636\u001b[0m \u001b[0;34m\u001b[0m\u001b[0m\n",
      "\u001b[0;32m/opt/anaconda3/lib/python3.7/site-packages/tensorflow/python/framework/func_graph.py\u001b[0m in \u001b[0;36mwrapper\u001b[0;34m(*args, **kwargs)\u001b[0m\n\u001b[1;32m    975\u001b[0m           \u001b[0;32mexcept\u001b[0m \u001b[0mException\u001b[0m \u001b[0;32mas\u001b[0m \u001b[0me\u001b[0m\u001b[0;34m:\u001b[0m  \u001b[0;31m# pylint:disable=broad-except\u001b[0m\u001b[0;34m\u001b[0m\u001b[0;34m\u001b[0m\u001b[0m\n\u001b[1;32m    976\u001b[0m             \u001b[0;32mif\u001b[0m \u001b[0mhasattr\u001b[0m\u001b[0;34m(\u001b[0m\u001b[0me\u001b[0m\u001b[0;34m,\u001b[0m \u001b[0;34m\"ag_error_metadata\"\u001b[0m\u001b[0;34m)\u001b[0m\u001b[0;34m:\u001b[0m\u001b[0;34m\u001b[0m\u001b[0;34m\u001b[0m\u001b[0m\n\u001b[0;32m--> 977\u001b[0;31m               \u001b[0;32mraise\u001b[0m \u001b[0me\u001b[0m\u001b[0;34m.\u001b[0m\u001b[0mag_error_metadata\u001b[0m\u001b[0;34m.\u001b[0m\u001b[0mto_exception\u001b[0m\u001b[0;34m(\u001b[0m\u001b[0me\u001b[0m\u001b[0;34m)\u001b[0m\u001b[0;34m\u001b[0m\u001b[0;34m\u001b[0m\u001b[0m\n\u001b[0m\u001b[1;32m    978\u001b[0m             \u001b[0;32melse\u001b[0m\u001b[0;34m:\u001b[0m\u001b[0;34m\u001b[0m\u001b[0;34m\u001b[0m\u001b[0m\n\u001b[1;32m    979\u001b[0m               \u001b[0;32mraise\u001b[0m\u001b[0;34m\u001b[0m\u001b[0;34m\u001b[0m\u001b[0m\n",
      "\u001b[0;31mValueError\u001b[0m: in user code:\n\n    /opt/anaconda3/lib/python3.7/site-packages/tensorflow/python/keras/engine/training.py:805 train_function  *\n        return step_function(self, iterator)\n    /opt/anaconda3/lib/python3.7/site-packages/tensorflow/python/keras/engine/training.py:795 step_function  **\n        outputs = model.distribute_strategy.run(run_step, args=(data,))\n    /opt/anaconda3/lib/python3.7/site-packages/tensorflow/python/distribute/distribute_lib.py:1259 run\n        return self._extended.call_for_each_replica(fn, args=args, kwargs=kwargs)\n    /opt/anaconda3/lib/python3.7/site-packages/tensorflow/python/distribute/distribute_lib.py:2730 call_for_each_replica\n        return self._call_for_each_replica(fn, args, kwargs)\n    /opt/anaconda3/lib/python3.7/site-packages/tensorflow/python/distribute/distribute_lib.py:3417 _call_for_each_replica\n        return fn(*args, **kwargs)\n    /opt/anaconda3/lib/python3.7/site-packages/tensorflow/python/keras/engine/training.py:788 run_step  **\n        outputs = model.train_step(data)\n    /opt/anaconda3/lib/python3.7/site-packages/tensorflow/python/keras/engine/training.py:754 train_step\n        y_pred = self(x, training=True)\n    /opt/anaconda3/lib/python3.7/site-packages/tensorflow/python/keras/engine/base_layer.py:998 __call__\n        input_spec.assert_input_compatibility(self.input_spec, inputs, self.name)\n    /opt/anaconda3/lib/python3.7/site-packages/tensorflow/python/keras/engine/input_spec.py:207 assert_input_compatibility\n        ' input tensors. Inputs received: ' + str(inputs))\n\n    ValueError: Layer model expects 2 input(s), but it received 1 input tensors. Inputs received: [<tf.Tensor 'IteratorGetNext:0' shape=(2, 300) dtype=float32>]\n"
     ]
    }
   ],
   "source": [
    "history = model.fit(X, y, batch_size=BATCH_SIZE, epochs=NUM_EPOCHS, verbose=1)"
   ]
  },
  {
   "cell_type": "code",
   "execution_count": null,
   "metadata": {},
   "outputs": [],
   "source": []
  }
 ],
 "metadata": {
  "kernelspec": {
   "display_name": "Python 3",
   "language": "python",
   "name": "python3"
  },
  "language_info": {
   "codemirror_mode": {
    "name": "ipython",
    "version": 3
   },
   "file_extension": ".py",
   "mimetype": "text/x-python",
   "name": "python",
   "nbconvert_exporter": "python",
   "pygments_lexer": "ipython3",
   "version": "3.7.4"
  }
 },
 "nbformat": 4,
 "nbformat_minor": 2
}
