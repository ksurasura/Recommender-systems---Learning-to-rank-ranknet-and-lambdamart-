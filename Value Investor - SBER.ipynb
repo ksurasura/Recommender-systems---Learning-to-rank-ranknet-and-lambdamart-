{
 "cells": [
  {
   "cell_type": "code",
   "execution_count": 1,
   "metadata": {},
   "outputs": [],
   "source": [
    "import pandas as pd\n",
    "import datetime\n",
    "import matplotlib.pyplot as plt\n",
    "from sklearn.preprocessing import MinMaxScaler\n",
    "from sklearn.metrics import mean_absolute_error\n",
    "from statsmodels.tsa.arima_model import ARIMA"
   ]
  },
  {
   "cell_type": "code",
   "execution_count": 2,
   "metadata": {},
   "outputs": [],
   "source": [
    "data = pd.read_csv(\"2020Q1Q2Q3Q4-2021Q1 - Russia - Sberbank Rossii PAO (SBER).csv\")"
   ]
  },
  {
   "cell_type": "code",
   "execution_count": 3,
   "metadata": {},
   "outputs": [
    {
     "data": {
      "text/html": [
       "<div>\n",
       "<style scoped>\n",
       "    .dataframe tbody tr th:only-of-type {\n",
       "        vertical-align: middle;\n",
       "    }\n",
       "\n",
       "    .dataframe tbody tr th {\n",
       "        vertical-align: top;\n",
       "    }\n",
       "\n",
       "    .dataframe thead th {\n",
       "        text-align: right;\n",
       "    }\n",
       "</style>\n",
       "<table border=\"1\" class=\"dataframe\">\n",
       "  <thead>\n",
       "    <tr style=\"text-align: right;\">\n",
       "      <th></th>\n",
       "      <th>Date</th>\n",
       "      <th>Price</th>\n",
       "      <th>Open</th>\n",
       "      <th>High</th>\n",
       "      <th>Low</th>\n",
       "      <th>Vol.</th>\n",
       "      <th>Change %</th>\n",
       "    </tr>\n",
       "  </thead>\n",
       "  <tbody>\n",
       "    <tr>\n",
       "      <th>0</th>\n",
       "      <td>Mar 31, 2021</td>\n",
       "      <td>291.02</td>\n",
       "      <td>294</td>\n",
       "      <td>294.42</td>\n",
       "      <td>290.26</td>\n",
       "      <td>47.00M</td>\n",
       "      <td>-0.76%</td>\n",
       "    </tr>\n",
       "    <tr>\n",
       "      <th>1</th>\n",
       "      <td>Mar 30, 2021</td>\n",
       "      <td>293.25</td>\n",
       "      <td>294.86</td>\n",
       "      <td>295.72</td>\n",
       "      <td>291.5</td>\n",
       "      <td>38.81M</td>\n",
       "      <td>-0.02%</td>\n",
       "    </tr>\n",
       "    <tr>\n",
       "      <th>2</th>\n",
       "      <td>Mar 29, 2021</td>\n",
       "      <td>293.3</td>\n",
       "      <td>289.72</td>\n",
       "      <td>294.09</td>\n",
       "      <td>289.26</td>\n",
       "      <td>43.68M</td>\n",
       "      <td>0.71%</td>\n",
       "    </tr>\n",
       "    <tr>\n",
       "      <th>3</th>\n",
       "      <td>Mar 26, 2021</td>\n",
       "      <td>291.22</td>\n",
       "      <td>288.63</td>\n",
       "      <td>292.75</td>\n",
       "      <td>288.32</td>\n",
       "      <td>56.07M</td>\n",
       "      <td>1.59%</td>\n",
       "    </tr>\n",
       "    <tr>\n",
       "      <th>4</th>\n",
       "      <td>Mar 25, 2021</td>\n",
       "      <td>286.66</td>\n",
       "      <td>286.5</td>\n",
       "      <td>287.03</td>\n",
       "      <td>283.85</td>\n",
       "      <td>35.22M</td>\n",
       "      <td>0.30%</td>\n",
       "    </tr>\n",
       "  </tbody>\n",
       "</table>\n",
       "</div>"
      ],
      "text/plain": [
       "           Date   Price    Open    High     Low    Vol. Change %\n",
       "0  Mar 31, 2021  291.02     294  294.42  290.26  47.00M   -0.76%\n",
       "1  Mar 30, 2021  293.25  294.86  295.72   291.5  38.81M   -0.02%\n",
       "2  Mar 29, 2021   293.3  289.72  294.09  289.26  43.68M    0.71%\n",
       "3  Mar 26, 2021  291.22  288.63  292.75  288.32  56.07M    1.59%\n",
       "4  Mar 25, 2021  286.66   286.5  287.03  283.85  35.22M    0.30%"
      ]
     },
     "execution_count": 3,
     "metadata": {},
     "output_type": "execute_result"
    }
   ],
   "source": [
    "data.head()"
   ]
  },
  {
   "cell_type": "code",
   "execution_count": 4,
   "metadata": {},
   "outputs": [
    {
     "data": {
      "text/plain": [
       "Date        0\n",
       "Price       0\n",
       "Open        0\n",
       "High        0\n",
       "Low         0\n",
       "Vol.        1\n",
       "Change %    1\n",
       "dtype: int64"
      ]
     },
     "execution_count": 4,
     "metadata": {},
     "output_type": "execute_result"
    }
   ],
   "source": [
    "data.isna().sum()"
   ]
  },
  {
   "cell_type": "code",
   "execution_count": 5,
   "metadata": {},
   "outputs": [
    {
     "data": {
      "text/html": [
       "<div>\n",
       "<style scoped>\n",
       "    .dataframe tbody tr th:only-of-type {\n",
       "        vertical-align: middle;\n",
       "    }\n",
       "\n",
       "    .dataframe tbody tr th {\n",
       "        vertical-align: top;\n",
       "    }\n",
       "\n",
       "    .dataframe thead th {\n",
       "        text-align: right;\n",
       "    }\n",
       "</style>\n",
       "<table border=\"1\" class=\"dataframe\">\n",
       "  <thead>\n",
       "    <tr style=\"text-align: right;\">\n",
       "      <th></th>\n",
       "      <th>Date</th>\n",
       "      <th>Price</th>\n",
       "      <th>Open</th>\n",
       "      <th>High</th>\n",
       "      <th>Low</th>\n",
       "      <th>Vol.</th>\n",
       "      <th>Change %</th>\n",
       "    </tr>\n",
       "  </thead>\n",
       "  <tbody>\n",
       "    <tr>\n",
       "      <th>307</th>\n",
       "      <td>Jan 09, 2020</td>\n",
       "      <td>257.99</td>\n",
       "      <td>259.4</td>\n",
       "      <td>261.76</td>\n",
       "      <td>257.01</td>\n",
       "      <td>38.33M</td>\n",
       "      <td>-0.45%</td>\n",
       "    </tr>\n",
       "    <tr>\n",
       "      <th>308</th>\n",
       "      <td>Jan 08, 2020</td>\n",
       "      <td>259.15</td>\n",
       "      <td>253.57</td>\n",
       "      <td>259.15</td>\n",
       "      <td>253.03</td>\n",
       "      <td>40.82M</td>\n",
       "      <td>2.07%</td>\n",
       "    </tr>\n",
       "    <tr>\n",
       "      <th>309</th>\n",
       "      <td>Jan 06, 2020</td>\n",
       "      <td>253.9</td>\n",
       "      <td>254.75</td>\n",
       "      <td>254.84</td>\n",
       "      <td>251.4</td>\n",
       "      <td>22.35M</td>\n",
       "      <td>-0.43%</td>\n",
       "    </tr>\n",
       "    <tr>\n",
       "      <th>310</th>\n",
       "      <td>Jan 03, 2020</td>\n",
       "      <td>255</td>\n",
       "      <td>255.99</td>\n",
       "      <td>258.19</td>\n",
       "      <td>253.7</td>\n",
       "      <td>35.85M</td>\n",
       "      <td>0.10%</td>\n",
       "    </tr>\n",
       "    <tr>\n",
       "      <th>311</th>\n",
       "      <td>Highest: 296.07</td>\n",
       "      <td>Lowest: 172.15</td>\n",
       "      <td>Difference: 123.92</td>\n",
       "      <td>Average: 234.52</td>\n",
       "      <td>Change %: 14.24</td>\n",
       "      <td>NaN</td>\n",
       "      <td>NaN</td>\n",
       "    </tr>\n",
       "  </tbody>\n",
       "</table>\n",
       "</div>"
      ],
      "text/plain": [
       "                Date           Price                Open             High  \\\n",
       "307     Jan 09, 2020          257.99               259.4           261.76   \n",
       "308     Jan 08, 2020          259.15              253.57           259.15   \n",
       "309     Jan 06, 2020           253.9              254.75           254.84   \n",
       "310     Jan 03, 2020             255              255.99           258.19   \n",
       "311  Highest: 296.07  Lowest: 172.15  Difference: 123.92  Average: 234.52   \n",
       "\n",
       "                 Low    Vol. Change %  \n",
       "307           257.01  38.33M   -0.45%  \n",
       "308           253.03  40.82M    2.07%  \n",
       "309            251.4  22.35M   -0.43%  \n",
       "310            253.7  35.85M    0.10%  \n",
       "311  Change %: 14.24     NaN      NaN  "
      ]
     },
     "execution_count": 5,
     "metadata": {},
     "output_type": "execute_result"
    }
   ],
   "source": [
    "data.tail()"
   ]
  },
  {
   "cell_type": "code",
   "execution_count": 6,
   "metadata": {},
   "outputs": [],
   "source": [
    "data = data.iloc[:-1,:]"
   ]
  },
  {
   "cell_type": "code",
   "execution_count": 7,
   "metadata": {},
   "outputs": [
    {
     "data": {
      "text/plain": [
       "(311, 7)"
      ]
     },
     "execution_count": 7,
     "metadata": {},
     "output_type": "execute_result"
    }
   ],
   "source": [
    "data.shape"
   ]
  },
  {
   "cell_type": "code",
   "execution_count": 8,
   "metadata": {},
   "outputs": [],
   "source": [
    "#don't use year as feature, as new incoming data will be future year which the trained model would not have seen"
   ]
  },
  {
   "cell_type": "code",
   "execution_count": 9,
   "metadata": {},
   "outputs": [
    {
     "name": "stdout",
     "output_type": "stream",
     "text": [
      "CPU times: user 8.44 ms, sys: 2.43 ms, total: 10.9 ms\n",
      "Wall time: 11.1 ms\n"
     ]
    }
   ],
   "source": [
    "%time data['Date'] = data.Date.apply(lambda x: datetime.datetime.strptime(x, '%b %d, %Y'))"
   ]
  },
  {
   "cell_type": "code",
   "execution_count": 10,
   "metadata": {},
   "outputs": [
    {
     "name": "stderr",
     "output_type": "stream",
     "text": [
      "/opt/anaconda3/lib/python3.7/site-packages/ipykernel_launcher.py:3: FutureWarning: Series.dt.weekofyear and Series.dt.week have been deprecated.  Please use Series.dt.isocalendar().week instead.\n",
      "  This is separate from the ipykernel package so we can avoid doing imports until\n"
     ]
    }
   ],
   "source": [
    "data['Year'] = data['Date'].dt.year\n",
    "data['Month'] = data['Date'].dt.month\n",
    "data['Week'] = data['Date'].dt.week\n",
    "data['Day'] = data['Date'].dt.day\n",
    "data['Dayofweek'] = data['Date'].dt.dayofweek"
   ]
  },
  {
   "cell_type": "code",
   "execution_count": 11,
   "metadata": {},
   "outputs": [
    {
     "data": {
      "text/html": [
       "<div>\n",
       "<style scoped>\n",
       "    .dataframe tbody tr th:only-of-type {\n",
       "        vertical-align: middle;\n",
       "    }\n",
       "\n",
       "    .dataframe tbody tr th {\n",
       "        vertical-align: top;\n",
       "    }\n",
       "\n",
       "    .dataframe thead th {\n",
       "        text-align: right;\n",
       "    }\n",
       "</style>\n",
       "<table border=\"1\" class=\"dataframe\">\n",
       "  <thead>\n",
       "    <tr style=\"text-align: right;\">\n",
       "      <th></th>\n",
       "      <th>Date</th>\n",
       "      <th>Price</th>\n",
       "      <th>Open</th>\n",
       "      <th>High</th>\n",
       "      <th>Low</th>\n",
       "      <th>Vol.</th>\n",
       "      <th>Change %</th>\n",
       "      <th>Year</th>\n",
       "      <th>Month</th>\n",
       "      <th>Week</th>\n",
       "      <th>Day</th>\n",
       "      <th>Dayofweek</th>\n",
       "    </tr>\n",
       "  </thead>\n",
       "  <tbody>\n",
       "    <tr>\n",
       "      <th>0</th>\n",
       "      <td>2021-03-31</td>\n",
       "      <td>291.02</td>\n",
       "      <td>294</td>\n",
       "      <td>294.42</td>\n",
       "      <td>290.26</td>\n",
       "      <td>47.00M</td>\n",
       "      <td>-0.76%</td>\n",
       "      <td>2021</td>\n",
       "      <td>3</td>\n",
       "      <td>13</td>\n",
       "      <td>31</td>\n",
       "      <td>2</td>\n",
       "    </tr>\n",
       "    <tr>\n",
       "      <th>1</th>\n",
       "      <td>2021-03-30</td>\n",
       "      <td>293.25</td>\n",
       "      <td>294.86</td>\n",
       "      <td>295.72</td>\n",
       "      <td>291.5</td>\n",
       "      <td>38.81M</td>\n",
       "      <td>-0.02%</td>\n",
       "      <td>2021</td>\n",
       "      <td>3</td>\n",
       "      <td>13</td>\n",
       "      <td>30</td>\n",
       "      <td>1</td>\n",
       "    </tr>\n",
       "    <tr>\n",
       "      <th>2</th>\n",
       "      <td>2021-03-29</td>\n",
       "      <td>293.3</td>\n",
       "      <td>289.72</td>\n",
       "      <td>294.09</td>\n",
       "      <td>289.26</td>\n",
       "      <td>43.68M</td>\n",
       "      <td>0.71%</td>\n",
       "      <td>2021</td>\n",
       "      <td>3</td>\n",
       "      <td>13</td>\n",
       "      <td>29</td>\n",
       "      <td>0</td>\n",
       "    </tr>\n",
       "    <tr>\n",
       "      <th>3</th>\n",
       "      <td>2021-03-26</td>\n",
       "      <td>291.22</td>\n",
       "      <td>288.63</td>\n",
       "      <td>292.75</td>\n",
       "      <td>288.32</td>\n",
       "      <td>56.07M</td>\n",
       "      <td>1.59%</td>\n",
       "      <td>2021</td>\n",
       "      <td>3</td>\n",
       "      <td>12</td>\n",
       "      <td>26</td>\n",
       "      <td>4</td>\n",
       "    </tr>\n",
       "    <tr>\n",
       "      <th>4</th>\n",
       "      <td>2021-03-25</td>\n",
       "      <td>286.66</td>\n",
       "      <td>286.5</td>\n",
       "      <td>287.03</td>\n",
       "      <td>283.85</td>\n",
       "      <td>35.22M</td>\n",
       "      <td>0.30%</td>\n",
       "      <td>2021</td>\n",
       "      <td>3</td>\n",
       "      <td>12</td>\n",
       "      <td>25</td>\n",
       "      <td>3</td>\n",
       "    </tr>\n",
       "    <tr>\n",
       "      <th>...</th>\n",
       "      <td>...</td>\n",
       "      <td>...</td>\n",
       "      <td>...</td>\n",
       "      <td>...</td>\n",
       "      <td>...</td>\n",
       "      <td>...</td>\n",
       "      <td>...</td>\n",
       "      <td>...</td>\n",
       "      <td>...</td>\n",
       "      <td>...</td>\n",
       "      <td>...</td>\n",
       "      <td>...</td>\n",
       "    </tr>\n",
       "    <tr>\n",
       "      <th>306</th>\n",
       "      <td>2020-01-10</td>\n",
       "      <td>258.19</td>\n",
       "      <td>257.86</td>\n",
       "      <td>259.25</td>\n",
       "      <td>256.88</td>\n",
       "      <td>18.85M</td>\n",
       "      <td>0.08%</td>\n",
       "      <td>2020</td>\n",
       "      <td>1</td>\n",
       "      <td>2</td>\n",
       "      <td>10</td>\n",
       "      <td>4</td>\n",
       "    </tr>\n",
       "    <tr>\n",
       "      <th>307</th>\n",
       "      <td>2020-01-09</td>\n",
       "      <td>257.99</td>\n",
       "      <td>259.4</td>\n",
       "      <td>261.76</td>\n",
       "      <td>257.01</td>\n",
       "      <td>38.33M</td>\n",
       "      <td>-0.45%</td>\n",
       "      <td>2020</td>\n",
       "      <td>1</td>\n",
       "      <td>2</td>\n",
       "      <td>9</td>\n",
       "      <td>3</td>\n",
       "    </tr>\n",
       "    <tr>\n",
       "      <th>308</th>\n",
       "      <td>2020-01-08</td>\n",
       "      <td>259.15</td>\n",
       "      <td>253.57</td>\n",
       "      <td>259.15</td>\n",
       "      <td>253.03</td>\n",
       "      <td>40.82M</td>\n",
       "      <td>2.07%</td>\n",
       "      <td>2020</td>\n",
       "      <td>1</td>\n",
       "      <td>2</td>\n",
       "      <td>8</td>\n",
       "      <td>2</td>\n",
       "    </tr>\n",
       "    <tr>\n",
       "      <th>309</th>\n",
       "      <td>2020-01-06</td>\n",
       "      <td>253.9</td>\n",
       "      <td>254.75</td>\n",
       "      <td>254.84</td>\n",
       "      <td>251.4</td>\n",
       "      <td>22.35M</td>\n",
       "      <td>-0.43%</td>\n",
       "      <td>2020</td>\n",
       "      <td>1</td>\n",
       "      <td>2</td>\n",
       "      <td>6</td>\n",
       "      <td>0</td>\n",
       "    </tr>\n",
       "    <tr>\n",
       "      <th>310</th>\n",
       "      <td>2020-01-03</td>\n",
       "      <td>255</td>\n",
       "      <td>255.99</td>\n",
       "      <td>258.19</td>\n",
       "      <td>253.7</td>\n",
       "      <td>35.85M</td>\n",
       "      <td>0.10%</td>\n",
       "      <td>2020</td>\n",
       "      <td>1</td>\n",
       "      <td>1</td>\n",
       "      <td>3</td>\n",
       "      <td>4</td>\n",
       "    </tr>\n",
       "  </tbody>\n",
       "</table>\n",
       "<p>311 rows × 12 columns</p>\n",
       "</div>"
      ],
      "text/plain": [
       "          Date   Price    Open    High     Low    Vol. Change %  Year  Month  \\\n",
       "0   2021-03-31  291.02     294  294.42  290.26  47.00M   -0.76%  2021      3   \n",
       "1   2021-03-30  293.25  294.86  295.72   291.5  38.81M   -0.02%  2021      3   \n",
       "2   2021-03-29   293.3  289.72  294.09  289.26  43.68M    0.71%  2021      3   \n",
       "3   2021-03-26  291.22  288.63  292.75  288.32  56.07M    1.59%  2021      3   \n",
       "4   2021-03-25  286.66   286.5  287.03  283.85  35.22M    0.30%  2021      3   \n",
       "..         ...     ...     ...     ...     ...     ...      ...   ...    ...   \n",
       "306 2020-01-10  258.19  257.86  259.25  256.88  18.85M    0.08%  2020      1   \n",
       "307 2020-01-09  257.99   259.4  261.76  257.01  38.33M   -0.45%  2020      1   \n",
       "308 2020-01-08  259.15  253.57  259.15  253.03  40.82M    2.07%  2020      1   \n",
       "309 2020-01-06   253.9  254.75  254.84   251.4  22.35M   -0.43%  2020      1   \n",
       "310 2020-01-03     255  255.99  258.19   253.7  35.85M    0.10%  2020      1   \n",
       "\n",
       "     Week  Day  Dayofweek  \n",
       "0      13   31          2  \n",
       "1      13   30          1  \n",
       "2      13   29          0  \n",
       "3      12   26          4  \n",
       "4      12   25          3  \n",
       "..    ...  ...        ...  \n",
       "306     2   10          4  \n",
       "307     2    9          3  \n",
       "308     2    8          2  \n",
       "309     2    6          0  \n",
       "310     1    3          4  \n",
       "\n",
       "[311 rows x 12 columns]"
      ]
     },
     "execution_count": 11,
     "metadata": {},
     "output_type": "execute_result"
    }
   ],
   "source": [
    "data"
   ]
  },
  {
   "cell_type": "code",
   "execution_count": 12,
   "metadata": {},
   "outputs": [],
   "source": [
    "import warnings\n",
    "warnings.filterwarnings(\"ignore\")"
   ]
  },
  {
   "cell_type": "code",
   "execution_count": 13,
   "metadata": {},
   "outputs": [
    {
     "data": {
      "image/png": "[encoded data removed]",
      "text/plain": [
       "<Figure size 1440x720 with 1 Axes>"
      ]
     },
     "metadata": {
      "needs_background": "light"
     },
     "output_type": "display_data"
    }
   ],
   "source": [
    "plt.figure(figsize=(20,10))\n",
    "#plt.grid(True)\n",
    "plt.xlabel('Date')\n",
    "plt.ylabel('Closing Price')\n",
    "plt.plot(data['Date'],data[\"Price\"].astype(float),linewidth=2, markersize=12)\n",
    "plt.title('SBER Closing Price')\n",
    "#ay = plt.gca()\n",
    "#ay.set_ylim([150, 300])\n",
    "#plt.gca().axes.get_yaxis().set_visible(False)\n",
    "plt.show()"
   ]
  },
  {
   "cell_type": "code",
   "execution_count": 14,
   "metadata": {},
   "outputs": [
    {
     "data": {
      "image/png": "[encoded data removed]",
      "text/plain": [
       "<Figure size 720x432 with 1 Axes>"
      ]
     },
     "metadata": {
      "needs_background": "light"
     },
     "output_type": "display_data"
    }
   ],
   "source": [
    "plt.figure(figsize=(10,6))\n",
    "data['Price'].astype(float).plot(style='k.')\n",
    "plt.title('Scatter plot of closing price')\n",
    "plt.show()"
   ]
  },
  {
   "cell_type": "markdown",
   "metadata": {},
   "source": [
    "### ARIMA"
   ]
  },
  {
   "cell_type": "code",
   "execution_count": 15,
   "metadata": {},
   "outputs": [],
   "source": [
    "data1 = data[['Date', 'Price']]"
   ]
  },
  {
   "cell_type": "code",
   "execution_count": 16,
   "metadata": {},
   "outputs": [
    {
     "data": {
      "text/html": [
       "<div>\n",
       "<style scoped>\n",
       "    .dataframe tbody tr th:only-of-type {\n",
       "        vertical-align: middle;\n",
       "    }\n",
       "\n",
       "    .dataframe tbody tr th {\n",
       "        vertical-align: top;\n",
       "    }\n",
       "\n",
       "    .dataframe thead th {\n",
       "        text-align: right;\n",
       "    }\n",
       "</style>\n",
       "<table border=\"1\" class=\"dataframe\">\n",
       "  <thead>\n",
       "    <tr style=\"text-align: right;\">\n",
       "      <th></th>\n",
       "      <th>Date</th>\n",
       "      <th>Price</th>\n",
       "    </tr>\n",
       "  </thead>\n",
       "  <tbody>\n",
       "    <tr>\n",
       "      <th>0</th>\n",
       "      <td>2021-03-31</td>\n",
       "      <td>291.02</td>\n",
       "    </tr>\n",
       "    <tr>\n",
       "      <th>1</th>\n",
       "      <td>2021-03-30</td>\n",
       "      <td>293.25</td>\n",
       "    </tr>\n",
       "    <tr>\n",
       "      <th>2</th>\n",
       "      <td>2021-03-29</td>\n",
       "      <td>293.3</td>\n",
       "    </tr>\n",
       "    <tr>\n",
       "      <th>3</th>\n",
       "      <td>2021-03-26</td>\n",
       "      <td>291.22</td>\n",
       "    </tr>\n",
       "    <tr>\n",
       "      <th>4</th>\n",
       "      <td>2021-03-25</td>\n",
       "      <td>286.66</td>\n",
       "    </tr>\n",
       "  </tbody>\n",
       "</table>\n",
       "</div>"
      ],
      "text/plain": [
       "        Date   Price\n",
       "0 2021-03-31  291.02\n",
       "1 2021-03-30  293.25\n",
       "2 2021-03-29   293.3\n",
       "3 2021-03-26  291.22\n",
       "4 2021-03-25  286.66"
      ]
     },
     "execution_count": 16,
     "metadata": {},
     "output_type": "execute_result"
    }
   ],
   "source": [
    "data1.head()"
   ]
  },
  {
   "cell_type": "code",
   "execution_count": 17,
   "metadata": {},
   "outputs": [],
   "source": [
    "data1['Price'] = data.Price.astype(float)"
   ]
  },
  {
   "cell_type": "code",
   "execution_count": 18,
   "metadata": {},
   "outputs": [],
   "source": [
    "data1['Date']=pd.to_datetime(data1['Date'])"
   ]
  },
  {
   "cell_type": "code",
   "execution_count": 19,
   "metadata": {},
   "outputs": [],
   "source": [
    "data1.set_index('Date',inplace=True)"
   ]
  },
  {
   "cell_type": "code",
   "execution_count": 20,
   "metadata": {},
   "outputs": [
    {
     "data": {
      "text/html": [
       "<div>\n",
       "<style scoped>\n",
       "    .dataframe tbody tr th:only-of-type {\n",
       "        vertical-align: middle;\n",
       "    }\n",
       "\n",
       "    .dataframe tbody tr th {\n",
       "        vertical-align: top;\n",
       "    }\n",
       "\n",
       "    .dataframe thead th {\n",
       "        text-align: right;\n",
       "    }\n",
       "</style>\n",
       "<table border=\"1\" class=\"dataframe\">\n",
       "  <thead>\n",
       "    <tr style=\"text-align: right;\">\n",
       "      <th></th>\n",
       "      <th>Price</th>\n",
       "    </tr>\n",
       "  </thead>\n",
       "  <tbody>\n",
       "    <tr>\n",
       "      <th>count</th>\n",
       "      <td>311.000000</td>\n",
       "    </tr>\n",
       "    <tr>\n",
       "      <th>mean</th>\n",
       "      <td>234.524019</td>\n",
       "    </tr>\n",
       "    <tr>\n",
       "      <th>std</th>\n",
       "      <td>32.079847</td>\n",
       "    </tr>\n",
       "    <tr>\n",
       "      <th>min</th>\n",
       "      <td>174.270000</td>\n",
       "    </tr>\n",
       "    <tr>\n",
       "      <th>25%</th>\n",
       "      <td>207.700000</td>\n",
       "    </tr>\n",
       "    <tr>\n",
       "      <th>50%</th>\n",
       "      <td>229.140000</td>\n",
       "    </tr>\n",
       "    <tr>\n",
       "      <th>75%</th>\n",
       "      <td>264.380000</td>\n",
       "    </tr>\n",
       "    <tr>\n",
       "      <th>max</th>\n",
       "      <td>293.300000</td>\n",
       "    </tr>\n",
       "  </tbody>\n",
       "</table>\n",
       "</div>"
      ],
      "text/plain": [
       "            Price\n",
       "count  311.000000\n",
       "mean   234.524019\n",
       "std     32.079847\n",
       "min    174.270000\n",
       "25%    207.700000\n",
       "50%    229.140000\n",
       "75%    264.380000\n",
       "max    293.300000"
      ]
     },
     "execution_count": 20,
     "metadata": {},
     "output_type": "execute_result"
    }
   ],
   "source": [
    "data1.astype(float).describe()"
   ]
  },
  {
   "cell_type": "code",
   "execution_count": 21,
   "metadata": {},
   "outputs": [
    {
     "data": {
      "text/plain": [
       "<matplotlib.axes._subplots.AxesSubplot at 0x7fae2564b050>"
      ]
     },
     "execution_count": 21,
     "metadata": {},
     "output_type": "execute_result"
    },
    {
     "data": {
      "image/png": "[encoded data removed]",
      "text/plain": [
       "<Figure size 432x288 with 1 Axes>"
      ]
     },
     "metadata": {
      "needs_background": "light"
     },
     "output_type": "display_data"
    }
   ],
   "source": [
    "data1.plot()"
   ]
  },
  {
   "cell_type": "code",
   "execution_count": 22,
   "metadata": {},
   "outputs": [],
   "source": [
    "#Testing if data is Stationary (p > 0.05, non stationary)\n",
    "\n",
    "from statsmodels.tsa.stattools import adfuller"
   ]
  },
  {
   "cell_type": "code",
   "execution_count": 23,
   "metadata": {},
   "outputs": [],
   "source": [
    "adtest_result=adfuller(data1['Price'])"
   ]
  },
  {
   "cell_type": "code",
   "execution_count": 24,
   "metadata": {},
   "outputs": [],
   "source": [
    "def adfuller_test(price):\n",
    "    result=adfuller(price)\n",
    "    labels = ['ADF Test Statistic','p-value','No of Lags Used','Number of Observations Used']\n",
    "    for value,label in zip(result,labels):\n",
    "        print(label+' : '+str(value) )\n",
    "    if result[1] <= 0.05:\n",
    "        print(\"Data is stationary\")\n",
    "    else:\n",
    "        print(\"Data is non-stationary \")    "
   ]
  },
  {
   "cell_type": "code",
   "execution_count": 25,
   "metadata": {},
   "outputs": [
    {
     "name": "stdout",
     "output_type": "stream",
     "text": [
      "ADF Test Statistic : -1.8471820740476115\n",
      "p-value : 0.35730124412210584\n",
      "No of Lags Used : 8\n",
      "Number of Observations Used : 302\n",
      "Data is non-stationary \n"
     ]
    }
   ],
   "source": [
    "adfuller_test(data1['Price'])"
   ]
  },
  {
   "cell_type": "code",
   "execution_count": 26,
   "metadata": {},
   "outputs": [],
   "source": [
    "#To make data stationary we use difference, shifting one position of the data"
   ]
  },
  {
   "cell_type": "code",
   "execution_count": 27,
   "metadata": {},
   "outputs": [],
   "source": [
    "data1['Price First Difference'] = data1['Price'] - data1['Price'].shift(1)"
   ]
  },
  {
   "cell_type": "code",
   "execution_count": 28,
   "metadata": {},
   "outputs": [
    {
     "data": {
      "text/plain": [
       "Date\n",
       "2021-03-31       NaN\n",
       "2021-03-30    291.02\n",
       "2021-03-29    293.25\n",
       "2021-03-26    293.30\n",
       "2021-03-25    291.22\n",
       "               ...  \n",
       "2020-01-10    262.40\n",
       "2020-01-09    258.19\n",
       "2020-01-08    257.99\n",
       "2020-01-06    259.15\n",
       "2020-01-03    253.90\n",
       "Name: Price, Length: 311, dtype: float64"
      ]
     },
     "execution_count": 28,
     "metadata": {},
     "output_type": "execute_result"
    }
   ],
   "source": [
    "data1['Price'].shift(1)"
   ]
  },
  {
   "cell_type": "code",
   "execution_count": 29,
   "metadata": {},
   "outputs": [
    {
     "data": {
      "text/html": [
       "<div>\n",
       "<style scoped>\n",
       "    .dataframe tbody tr th:only-of-type {\n",
       "        vertical-align: middle;\n",
       "    }\n",
       "\n",
       "    .dataframe tbody tr th {\n",
       "        vertical-align: top;\n",
       "    }\n",
       "\n",
       "    .dataframe thead th {\n",
       "        text-align: right;\n",
       "    }\n",
       "</style>\n",
       "<table border=\"1\" class=\"dataframe\">\n",
       "  <thead>\n",
       "    <tr style=\"text-align: right;\">\n",
       "      <th></th>\n",
       "      <th>Price</th>\n",
       "      <th>Price First Difference</th>\n",
       "    </tr>\n",
       "    <tr>\n",
       "      <th>Date</th>\n",
       "      <th></th>\n",
       "      <th></th>\n",
       "    </tr>\n",
       "  </thead>\n",
       "  <tbody>\n",
       "    <tr>\n",
       "      <th>2021-03-31</th>\n",
       "      <td>291.02</td>\n",
       "      <td>NaN</td>\n",
       "    </tr>\n",
       "    <tr>\n",
       "      <th>2021-03-30</th>\n",
       "      <td>293.25</td>\n",
       "      <td>2.23</td>\n",
       "    </tr>\n",
       "    <tr>\n",
       "      <th>2021-03-29</th>\n",
       "      <td>293.30</td>\n",
       "      <td>0.05</td>\n",
       "    </tr>\n",
       "    <tr>\n",
       "      <th>2021-03-26</th>\n",
       "      <td>291.22</td>\n",
       "      <td>-2.08</td>\n",
       "    </tr>\n",
       "    <tr>\n",
       "      <th>2021-03-25</th>\n",
       "      <td>286.66</td>\n",
       "      <td>-4.56</td>\n",
       "    </tr>\n",
       "  </tbody>\n",
       "</table>\n",
       "</div>"
      ],
      "text/plain": [
       "             Price  Price First Difference\n",
       "Date                                      \n",
       "2021-03-31  291.02                     NaN\n",
       "2021-03-30  293.25                    2.23\n",
       "2021-03-29  293.30                    0.05\n",
       "2021-03-26  291.22                   -2.08\n",
       "2021-03-25  286.66                   -4.56"
      ]
     },
     "execution_count": 29,
     "metadata": {},
     "output_type": "execute_result"
    }
   ],
   "source": [
    "data1.head()"
   ]
  },
  {
   "cell_type": "code",
   "execution_count": 30,
   "metadata": {},
   "outputs": [
    {
     "name": "stdout",
     "output_type": "stream",
     "text": [
      "ADF Test Statistic : -5.811293515994707\n",
      "p-value : 4.3951775754216564e-07\n",
      "No of Lags Used : 7\n",
      "Number of Observations Used : 302\n",
      "Data is stationary\n"
     ]
    }
   ],
   "source": [
    "adfuller_test(data1['Price First Difference'].dropna())"
   ]
  },
  {
   "cell_type": "code",
   "execution_count": null,
   "metadata": {},
   "outputs": [],
   "source": []
  },
  {
   "cell_type": "code",
   "execution_count": null,
   "metadata": {},
   "outputs": [],
   "source": []
  },
  {
   "cell_type": "code",
   "execution_count": null,
   "metadata": {},
   "outputs": [],
   "source": []
  },
  {
   "cell_type": "code",
   "execution_count": 15,
   "metadata": {},
   "outputs": [],
   "source": [
    "train_data = data.loc[data['Year']==2020]\n",
    "test_data = data.loc[data['Year']==2021]"
   ]
  },
  {
   "cell_type": "code",
   "execution_count": 16,
   "metadata": {},
   "outputs": [
    {
     "name": "stdout",
     "output_type": "stream",
     "text": [
      "2020    250\n",
      "Name: Year, dtype: int64\n",
      "2021    61\n",
      "Name: Year, dtype: int64\n"
     ]
    }
   ],
   "source": [
    "print(train_data.Year.value_counts())\n",
    "print(test_data.Year.value_counts())"
   ]
  },
  {
   "cell_type": "code",
   "execution_count": 17,
   "metadata": {},
   "outputs": [
    {
     "data": {
      "text/plain": [
       "Index(['Date', 'Price', 'Open', 'High', 'Low', 'Vol.', 'Change %', 'Year',\n",
       "       'Month', 'Week', 'Day', 'Dayofweek'],\n",
       "      dtype='object')"
      ]
     },
     "execution_count": 17,
     "metadata": {},
     "output_type": "execute_result"
    }
   ],
   "source": [
    "train_data.columns"
   ]
  },
  {
   "cell_type": "code",
   "execution_count": 18,
   "metadata": {},
   "outputs": [],
   "source": [
    "#train_data.drop(['Date','Open','High','Low','Vol.','Change %','Year'],axis=1, inplace=True)"
   ]
  },
  {
   "cell_type": "code",
   "execution_count": 30,
   "metadata": {},
   "outputs": [
    {
     "data": {
      "text/html": [
       "<div>\n",
       "<style scoped>\n",
       "    .dataframe tbody tr th:only-of-type {\n",
       "        vertical-align: middle;\n",
       "    }\n",
       "\n",
       "    .dataframe tbody tr th {\n",
       "        vertical-align: top;\n",
       "    }\n",
       "\n",
       "    .dataframe thead th {\n",
       "        text-align: right;\n",
       "    }\n",
       "</style>\n",
       "<table border=\"1\" class=\"dataframe\">\n",
       "  <thead>\n",
       "    <tr style=\"text-align: right;\">\n",
       "      <th></th>\n",
       "      <th>Date</th>\n",
       "      <th>Price</th>\n",
       "      <th>Open</th>\n",
       "      <th>High</th>\n",
       "      <th>Low</th>\n",
       "      <th>Vol.</th>\n",
       "      <th>Change %</th>\n",
       "      <th>Year</th>\n",
       "      <th>Month</th>\n",
       "      <th>Week</th>\n",
       "      <th>Day</th>\n",
       "      <th>Dayofweek</th>\n",
       "    </tr>\n",
       "  </thead>\n",
       "  <tbody>\n",
       "    <tr>\n",
       "      <th>61</th>\n",
       "      <td>2020-12-30</td>\n",
       "      <td>271.65</td>\n",
       "      <td>272.49</td>\n",
       "      <td>274.24</td>\n",
       "      <td>270.12</td>\n",
       "      <td>31.53M</td>\n",
       "      <td>-0.13%</td>\n",
       "      <td>2020</td>\n",
       "      <td>12</td>\n",
       "      <td>53</td>\n",
       "      <td>30</td>\n",
       "      <td>2</td>\n",
       "    </tr>\n",
       "    <tr>\n",
       "      <th>62</th>\n",
       "      <td>2020-12-29</td>\n",
       "      <td>272</td>\n",
       "      <td>275.91</td>\n",
       "      <td>276.43</td>\n",
       "      <td>271.26</td>\n",
       "      <td>39.02M</td>\n",
       "      <td>-0.98%</td>\n",
       "      <td>2020</td>\n",
       "      <td>12</td>\n",
       "      <td>53</td>\n",
       "      <td>29</td>\n",
       "      <td>1</td>\n",
       "    </tr>\n",
       "    <tr>\n",
       "      <th>63</th>\n",
       "      <td>2020-12-28</td>\n",
       "      <td>274.7</td>\n",
       "      <td>270.9</td>\n",
       "      <td>275.19</td>\n",
       "      <td>269.73</td>\n",
       "      <td>39.04M</td>\n",
       "      <td>1.50%</td>\n",
       "      <td>2020</td>\n",
       "      <td>12</td>\n",
       "      <td>53</td>\n",
       "      <td>28</td>\n",
       "      <td>0</td>\n",
       "    </tr>\n",
       "    <tr>\n",
       "      <th>64</th>\n",
       "      <td>2020-12-25</td>\n",
       "      <td>270.64</td>\n",
       "      <td>269.97</td>\n",
       "      <td>271</td>\n",
       "      <td>268.28</td>\n",
       "      <td>11.99M</td>\n",
       "      <td>0.49%</td>\n",
       "      <td>2020</td>\n",
       "      <td>12</td>\n",
       "      <td>52</td>\n",
       "      <td>25</td>\n",
       "      <td>4</td>\n",
       "    </tr>\n",
       "    <tr>\n",
       "      <th>65</th>\n",
       "      <td>2020-12-24</td>\n",
       "      <td>269.32</td>\n",
       "      <td>271.98</td>\n",
       "      <td>272.82</td>\n",
       "      <td>267.13</td>\n",
       "      <td>42.61M</td>\n",
       "      <td>-0.29%</td>\n",
       "      <td>2020</td>\n",
       "      <td>12</td>\n",
       "      <td>52</td>\n",
       "      <td>24</td>\n",
       "      <td>3</td>\n",
       "    </tr>\n",
       "    <tr>\n",
       "      <th>...</th>\n",
       "      <td>...</td>\n",
       "      <td>...</td>\n",
       "      <td>...</td>\n",
       "      <td>...</td>\n",
       "      <td>...</td>\n",
       "      <td>...</td>\n",
       "      <td>...</td>\n",
       "      <td>...</td>\n",
       "      <td>...</td>\n",
       "      <td>...</td>\n",
       "      <td>...</td>\n",
       "      <td>...</td>\n",
       "    </tr>\n",
       "    <tr>\n",
       "      <th>306</th>\n",
       "      <td>2020-01-10</td>\n",
       "      <td>258.19</td>\n",
       "      <td>257.86</td>\n",
       "      <td>259.25</td>\n",
       "      <td>256.88</td>\n",
       "      <td>18.85M</td>\n",
       "      <td>0.08%</td>\n",
       "      <td>2020</td>\n",
       "      <td>1</td>\n",
       "      <td>2</td>\n",
       "      <td>10</td>\n",
       "      <td>4</td>\n",
       "    </tr>\n",
       "    <tr>\n",
       "      <th>307</th>\n",
       "      <td>2020-01-09</td>\n",
       "      <td>257.99</td>\n",
       "      <td>259.4</td>\n",
       "      <td>261.76</td>\n",
       "      <td>257.01</td>\n",
       "      <td>38.33M</td>\n",
       "      <td>-0.45%</td>\n",
       "      <td>2020</td>\n",
       "      <td>1</td>\n",
       "      <td>2</td>\n",
       "      <td>9</td>\n",
       "      <td>3</td>\n",
       "    </tr>\n",
       "    <tr>\n",
       "      <th>308</th>\n",
       "      <td>2020-01-08</td>\n",
       "      <td>259.15</td>\n",
       "      <td>253.57</td>\n",
       "      <td>259.15</td>\n",
       "      <td>253.03</td>\n",
       "      <td>40.82M</td>\n",
       "      <td>2.07%</td>\n",
       "      <td>2020</td>\n",
       "      <td>1</td>\n",
       "      <td>2</td>\n",
       "      <td>8</td>\n",
       "      <td>2</td>\n",
       "    </tr>\n",
       "    <tr>\n",
       "      <th>309</th>\n",
       "      <td>2020-01-06</td>\n",
       "      <td>253.9</td>\n",
       "      <td>254.75</td>\n",
       "      <td>254.84</td>\n",
       "      <td>251.4</td>\n",
       "      <td>22.35M</td>\n",
       "      <td>-0.43%</td>\n",
       "      <td>2020</td>\n",
       "      <td>1</td>\n",
       "      <td>2</td>\n",
       "      <td>6</td>\n",
       "      <td>0</td>\n",
       "    </tr>\n",
       "    <tr>\n",
       "      <th>310</th>\n",
       "      <td>2020-01-03</td>\n",
       "      <td>255</td>\n",
       "      <td>255.99</td>\n",
       "      <td>258.19</td>\n",
       "      <td>253.7</td>\n",
       "      <td>35.85M</td>\n",
       "      <td>0.10%</td>\n",
       "      <td>2020</td>\n",
       "      <td>1</td>\n",
       "      <td>1</td>\n",
       "      <td>3</td>\n",
       "      <td>4</td>\n",
       "    </tr>\n",
       "  </tbody>\n",
       "</table>\n",
       "<p>250 rows × 12 columns</p>\n",
       "</div>"
      ],
      "text/plain": [
       "          Date   Price    Open    High     Low    Vol. Change %  Year  Month  \\\n",
       "61  2020-12-30  271.65  272.49  274.24  270.12  31.53M   -0.13%  2020     12   \n",
       "62  2020-12-29     272  275.91  276.43  271.26  39.02M   -0.98%  2020     12   \n",
       "63  2020-12-28   274.7   270.9  275.19  269.73  39.04M    1.50%  2020     12   \n",
       "64  2020-12-25  270.64  269.97     271  268.28  11.99M    0.49%  2020     12   \n",
       "65  2020-12-24  269.32  271.98  272.82  267.13  42.61M   -0.29%  2020     12   \n",
       "..         ...     ...     ...     ...     ...     ...      ...   ...    ...   \n",
       "306 2020-01-10  258.19  257.86  259.25  256.88  18.85M    0.08%  2020      1   \n",
       "307 2020-01-09  257.99   259.4  261.76  257.01  38.33M   -0.45%  2020      1   \n",
       "308 2020-01-08  259.15  253.57  259.15  253.03  40.82M    2.07%  2020      1   \n",
       "309 2020-01-06   253.9  254.75  254.84   251.4  22.35M   -0.43%  2020      1   \n",
       "310 2020-01-03     255  255.99  258.19   253.7  35.85M    0.10%  2020      1   \n",
       "\n",
       "     Week  Day  Dayofweek  \n",
       "61     53   30          2  \n",
       "62     53   29          1  \n",
       "63     53   28          0  \n",
       "64     52   25          4  \n",
       "65     52   24          3  \n",
       "..    ...  ...        ...  \n",
       "306     2   10          4  \n",
       "307     2    9          3  \n",
       "308     2    8          2  \n",
       "309     2    6          0  \n",
       "310     1    3          4  \n",
       "\n",
       "[250 rows x 12 columns]"
      ]
     },
     "execution_count": 30,
     "metadata": {},
     "output_type": "execute_result"
    }
   ],
   "source": [
    "train_data"
   ]
  },
  {
   "cell_type": "code",
   "execution_count": 20,
   "metadata": {},
   "outputs": [],
   "source": [
    "#test_data.drop(['Date','Open','High','Low','Vol.','Change %','Year'],axis=1, inplace=True)"
   ]
  },
  {
   "cell_type": "code",
   "execution_count": 21,
   "metadata": {},
   "outputs": [],
   "source": [
    "#test_data"
   ]
  },
  {
   "cell_type": "code",
   "execution_count": 22,
   "metadata": {},
   "outputs": [],
   "source": [
    "x_train = train_data[['Month', 'Week', 'Day', 'Dayofweek']].reset_index(drop=True)\n",
    "y_train = train_data['Price'].reset_index(drop=True)"
   ]
  },
  {
   "cell_type": "code",
   "execution_count": 23,
   "metadata": {},
   "outputs": [],
   "source": [
    "x_test = test_data[['Month', 'Week', 'Day', 'Dayofweek']].reset_index(drop=True)\n",
    "y_test = test_data['Price'].reset_index(drop=True)"
   ]
  },
  {
   "cell_type": "code",
   "execution_count": 24,
   "metadata": {},
   "outputs": [
    {
     "data": {
      "text/plain": [
       "((250, 4), (250,), (61, 4), (61,))"
      ]
     },
     "execution_count": 24,
     "metadata": {},
     "output_type": "execute_result"
    }
   ],
   "source": [
    "x_train.shape, y_train.shape, x_test.shape, y_test.shape"
   ]
  },
  {
   "cell_type": "code",
   "execution_count": 25,
   "metadata": {},
   "outputs": [
    {
     "data": {
      "text/plain": [
       "<matplotlib.legend.Legend at 0x7fa3bf524390>"
      ]
     },
     "execution_count": 25,
     "metadata": {},
     "output_type": "execute_result"
    },
    {
     "data": {
      "image/png": "[encoded data removed]",
      "text/plain": [
       "<Figure size 720x432 with 1 Axes>"
      ]
     },
     "metadata": {
      "needs_background": "light"
     },
     "output_type": "display_data"
    }
   ],
   "source": [
    "plt.figure(figsize=(10,6))\n",
    "plt.grid(True)\n",
    "plt.xlabel('Dates')\n",
    "plt.ylabel('Closing Prices')\n",
    "plt.plot(train_data['Date'],train_data['Price'].astype(float), 'green', label='Train data')\n",
    "plt.plot(test_data['Date'],test_data['Price'].astype(float), 'blue', label='Test data')\n",
    "plt.legend()"
   ]
  },
  {
   "cell_type": "code",
   "execution_count": 26,
   "metadata": {},
   "outputs": [],
   "source": [
    "from pmdarima.arima import ARIMA"
   ]
  },
  {
   "cell_type": "code",
   "execution_count": 28,
   "metadata": {},
   "outputs": [],
   "source": [
    "from pmdarima.arima import auto_arima"
   ]
  },
  {
   "cell_type": "code",
   "execution_count": 32,
   "metadata": {},
   "outputs": [
    {
     "name": "stdout",
     "output_type": "stream",
     "text": [
      "Performing stepwise search to minimize aic\n",
      " ARIMA(0,1,0)(0,0,0)[0] intercept   : AIC=1499.638, Time=0.05 sec\n",
      " ARIMA(1,1,0)(0,0,0)[0] intercept   : AIC=1501.228, Time=0.05 sec\n",
      " ARIMA(0,1,1)(0,0,0)[0] intercept   : AIC=1501.180, Time=0.05 sec\n",
      " ARIMA(0,1,0)(0,0,0)[0]             : AIC=1497.685, Time=0.01 sec\n",
      " ARIMA(1,1,1)(0,0,0)[0] intercept   : AIC=1502.372, Time=0.13 sec\n",
      "\n",
      "Best model:  ARIMA(0,1,0)(0,0,0)[0]          \n",
      "Total fit time: 0.316 seconds\n"
     ]
    }
   ],
   "source": [
    "model_ARIMA = auto_arima(train_data['Price'], start_p=0, start_q=0,test='adf',max_p=3, max_q=3,\n",
    "                             m=1,d=None,seasonal=False,start_P=0,D=0,trace=True,error_action='ignore', \n",
    "                             suppress_warnings=True,stepwise=True)"
   ]
  },
  {
   "cell_type": "code",
   "execution_count": 33,
   "metadata": {},
   "outputs": [
    {
     "name": "stdout",
     "output_type": "stream",
     "text": [
      "                               SARIMAX Results                                \n",
      "==============================================================================\n",
      "Dep. Variable:                      y   No. Observations:                  250\n",
      "Model:               SARIMAX(0, 1, 0)   Log Likelihood                -747.842\n",
      "Date:                Fri, 10 Jun 2022   AIC                           1497.685\n",
      "Time:                        23:29:55   BIC                           1501.202\n",
      "Sample:                             0   HQIC                          1499.101\n",
      "                                - 250                                         \n",
      "Covariance Type:                  opg                                         \n",
      "==============================================================================\n",
      "                 coef    std err          z      P>|z|      [0.025      0.975]\n",
      "------------------------------------------------------------------------------\n",
      "sigma2        23.7810      1.267     18.772      0.000      21.298      26.264\n",
      "===================================================================================\n",
      "Ljung-Box (L1) (Q):                   0.42   Jarque-Bera (JB):               142.35\n",
      "Prob(Q):                              0.52   Prob(JB):                         0.00\n",
      "Heteroskedasticity (H):               2.00   Skew:                             0.23\n",
      "Prob(H) (two-sided):                  0.00   Kurtosis:                         6.68\n",
      "===================================================================================\n",
      "\n",
      "Warnings:\n",
      "[1] Covariance matrix calculated using the outer product of gradients (complex-step).\n"
     ]
    }
   ],
   "source": [
    "print(model_ARIMA.summary())"
   ]
  },
  {
   "cell_type": "code",
   "execution_count": 34,
   "metadata": {},
   "outputs": [
    {
     "data": {
      "image/png": "[encoded data removed]",
      "text/plain": [
       "<Figure size 1080x576 with 4 Axes>"
      ]
     },
     "metadata": {
      "needs_background": "light"
     },
     "output_type": "display_data"
    }
   ],
   "source": [
    "model_ARIMA.plot_diagnostics(figsize=(15,8))\n",
    "plt.show()"
   ]
  },
  {
   "cell_type": "code",
   "execution_count": null,
   "metadata": {},
   "outputs": [],
   "source": []
  },
  {
   "cell_type": "markdown",
   "metadata": {},
   "source": [
    "### LSTM"
   ]
  },
  {
   "cell_type": "code",
   "execution_count": 18,
   "metadata": {},
   "outputs": [],
   "source": [
    "#scaling values to (0,1)\n",
    "from sklearn.preprocessing import MinMaxScaler\n",
    "scaler = MinMaxScaler(feature_range=(0,1))\n",
    "data_price = scaler.fit_transform(np.array(data_price).reshape(-1,1))"
   ]
  },
  {
   "cell_type": "code",
   "execution_count": 19,
   "metadata": {},
   "outputs": [
    {
     "data": {
      "text/plain": [
       "(311, 1)"
      ]
     },
     "execution_count": 19,
     "metadata": {},
     "output_type": "execute_result"
    }
   ],
   "source": [
    "data_price.shape"
   ]
  },
  {
   "cell_type": "code",
   "execution_count": 21,
   "metadata": {},
   "outputs": [
    {
     "data": {
      "text/plain": [
       "array([[0.98084517],\n",
       "       [0.99957994],\n",
       "       [1.        ],\n",
       "       [0.98252541],\n",
       "       [0.94421574]])"
      ]
     },
     "execution_count": 21,
     "metadata": {},
     "output_type": "execute_result"
    }
   ],
   "source": [
    "data_price[:5]"
   ]
  },
  {
   "cell_type": "code",
   "execution_count": 22,
   "metadata": {},
   "outputs": [
    {
     "data": {
      "text/plain": [
       "2020    250\n",
       "2021     61\n",
       "Name: Year, dtype: int64"
      ]
     },
     "execution_count": 22,
     "metadata": {},
     "output_type": "execute_result"
    }
   ],
   "source": [
    "data.Year.value_counts()"
   ]
  },
  {
   "cell_type": "code",
   "execution_count": 25,
   "metadata": {},
   "outputs": [],
   "source": [
    "X = data.loc[data['Year']==2020]"
   ]
  },
  {
   "cell_type": "code",
   "execution_count": 28,
   "metadata": {},
   "outputs": [],
   "source": [
    "Y = data.loc[data['Year']==2021]"
   ]
  },
  {
   "cell_type": "code",
   "execution_count": 29,
   "metadata": {},
   "outputs": [
    {
     "data": {
      "text/html": [
       "<div>\n",
       "<style scoped>\n",
       "    .dataframe tbody tr th:only-of-type {\n",
       "        vertical-align: middle;\n",
       "    }\n",
       "\n",
       "    .dataframe tbody tr th {\n",
       "        vertical-align: top;\n",
       "    }\n",
       "\n",
       "    .dataframe thead th {\n",
       "        text-align: right;\n",
       "    }\n",
       "</style>\n",
       "<table border=\"1\" class=\"dataframe\">\n",
       "  <thead>\n",
       "    <tr style=\"text-align: right;\">\n",
       "      <th></th>\n",
       "      <th>Date</th>\n",
       "      <th>Price</th>\n",
       "      <th>Open</th>\n",
       "      <th>High</th>\n",
       "      <th>Low</th>\n",
       "      <th>Vol.</th>\n",
       "      <th>Change %</th>\n",
       "      <th>Year</th>\n",
       "      <th>Month</th>\n",
       "      <th>Week</th>\n",
       "      <th>Day</th>\n",
       "      <th>Dayofweek</th>\n",
       "    </tr>\n",
       "  </thead>\n",
       "  <tbody>\n",
       "    <tr>\n",
       "      <th>0</th>\n",
       "      <td>2021-03-31</td>\n",
       "      <td>291.02</td>\n",
       "      <td>294</td>\n",
       "      <td>294.42</td>\n",
       "      <td>290.26</td>\n",
       "      <td>47.00M</td>\n",
       "      <td>-0.76%</td>\n",
       "      <td>2021</td>\n",
       "      <td>3</td>\n",
       "      <td>13</td>\n",
       "      <td>31</td>\n",
       "      <td>2</td>\n",
       "    </tr>\n",
       "    <tr>\n",
       "      <th>1</th>\n",
       "      <td>2021-03-30</td>\n",
       "      <td>293.25</td>\n",
       "      <td>294.86</td>\n",
       "      <td>295.72</td>\n",
       "      <td>291.5</td>\n",
       "      <td>38.81M</td>\n",
       "      <td>-0.02%</td>\n",
       "      <td>2021</td>\n",
       "      <td>3</td>\n",
       "      <td>13</td>\n",
       "      <td>30</td>\n",
       "      <td>1</td>\n",
       "    </tr>\n",
       "    <tr>\n",
       "      <th>2</th>\n",
       "      <td>2021-03-29</td>\n",
       "      <td>293.3</td>\n",
       "      <td>289.72</td>\n",
       "      <td>294.09</td>\n",
       "      <td>289.26</td>\n",
       "      <td>43.68M</td>\n",
       "      <td>0.71%</td>\n",
       "      <td>2021</td>\n",
       "      <td>3</td>\n",
       "      <td>13</td>\n",
       "      <td>29</td>\n",
       "      <td>0</td>\n",
       "    </tr>\n",
       "    <tr>\n",
       "      <th>3</th>\n",
       "      <td>2021-03-26</td>\n",
       "      <td>291.22</td>\n",
       "      <td>288.63</td>\n",
       "      <td>292.75</td>\n",
       "      <td>288.32</td>\n",
       "      <td>56.07M</td>\n",
       "      <td>1.59%</td>\n",
       "      <td>2021</td>\n",
       "      <td>3</td>\n",
       "      <td>12</td>\n",
       "      <td>26</td>\n",
       "      <td>4</td>\n",
       "    </tr>\n",
       "    <tr>\n",
       "      <th>4</th>\n",
       "      <td>2021-03-25</td>\n",
       "      <td>286.66</td>\n",
       "      <td>286.5</td>\n",
       "      <td>287.03</td>\n",
       "      <td>283.85</td>\n",
       "      <td>35.22M</td>\n",
       "      <td>0.30%</td>\n",
       "      <td>2021</td>\n",
       "      <td>3</td>\n",
       "      <td>12</td>\n",
       "      <td>25</td>\n",
       "      <td>3</td>\n",
       "    </tr>\n",
       "    <tr>\n",
       "      <th>...</th>\n",
       "      <td>...</td>\n",
       "      <td>...</td>\n",
       "      <td>...</td>\n",
       "      <td>...</td>\n",
       "      <td>...</td>\n",
       "      <td>...</td>\n",
       "      <td>...</td>\n",
       "      <td>...</td>\n",
       "      <td>...</td>\n",
       "      <td>...</td>\n",
       "      <td>...</td>\n",
       "      <td>...</td>\n",
       "    </tr>\n",
       "    <tr>\n",
       "      <th>56</th>\n",
       "      <td>2021-01-11</td>\n",
       "      <td>289.49</td>\n",
       "      <td>282.86</td>\n",
       "      <td>292.95</td>\n",
       "      <td>279.48</td>\n",
       "      <td>112.35M</td>\n",
       "      <td>2.06%</td>\n",
       "      <td>2021</td>\n",
       "      <td>1</td>\n",
       "      <td>2</td>\n",
       "      <td>11</td>\n",
       "      <td>0</td>\n",
       "    </tr>\n",
       "    <tr>\n",
       "      <th>57</th>\n",
       "      <td>2021-01-08</td>\n",
       "      <td>283.64</td>\n",
       "      <td>275.11</td>\n",
       "      <td>283.99</td>\n",
       "      <td>275.11</td>\n",
       "      <td>88.93M</td>\n",
       "      <td>3.92%</td>\n",
       "      <td>2021</td>\n",
       "      <td>1</td>\n",
       "      <td>1</td>\n",
       "      <td>8</td>\n",
       "      <td>4</td>\n",
       "    </tr>\n",
       "    <tr>\n",
       "      <th>58</th>\n",
       "      <td>2021-01-06</td>\n",
       "      <td>272.93</td>\n",
       "      <td>275.94</td>\n",
       "      <td>275.94</td>\n",
       "      <td>271.62</td>\n",
       "      <td>40.95M</td>\n",
       "      <td>-0.82%</td>\n",
       "      <td>2021</td>\n",
       "      <td>1</td>\n",
       "      <td>1</td>\n",
       "      <td>6</td>\n",
       "      <td>2</td>\n",
       "    </tr>\n",
       "    <tr>\n",
       "      <th>59</th>\n",
       "      <td>2021-01-05</td>\n",
       "      <td>275.2</td>\n",
       "      <td>272.69</td>\n",
       "      <td>275.7</td>\n",
       "      <td>270.28</td>\n",
       "      <td>45.58M</td>\n",
       "      <td>1.18%</td>\n",
       "      <td>2021</td>\n",
       "      <td>1</td>\n",
       "      <td>1</td>\n",
       "      <td>5</td>\n",
       "      <td>1</td>\n",
       "    </tr>\n",
       "    <tr>\n",
       "      <th>60</th>\n",
       "      <td>2021-01-04</td>\n",
       "      <td>272</td>\n",
       "      <td>274.67</td>\n",
       "      <td>276.6</td>\n",
       "      <td>270.61</td>\n",
       "      <td>48.92M</td>\n",
       "      <td>0.13%</td>\n",
       "      <td>2021</td>\n",
       "      <td>1</td>\n",
       "      <td>1</td>\n",
       "      <td>4</td>\n",
       "      <td>0</td>\n",
       "    </tr>\n",
       "  </tbody>\n",
       "</table>\n",
       "<p>61 rows × 12 columns</p>\n",
       "</div>"
      ],
      "text/plain": [
       "         Date   Price    Open    High     Low     Vol. Change %  Year  Month  \\\n",
       "0  2021-03-31  291.02     294  294.42  290.26   47.00M   -0.76%  2021      3   \n",
       "1  2021-03-30  293.25  294.86  295.72   291.5   38.81M   -0.02%  2021      3   \n",
       "2  2021-03-29   293.3  289.72  294.09  289.26   43.68M    0.71%  2021      3   \n",
       "3  2021-03-26  291.22  288.63  292.75  288.32   56.07M    1.59%  2021      3   \n",
       "4  2021-03-25  286.66   286.5  287.03  283.85   35.22M    0.30%  2021      3   \n",
       "..        ...     ...     ...     ...     ...      ...      ...   ...    ...   \n",
       "56 2021-01-11  289.49  282.86  292.95  279.48  112.35M    2.06%  2021      1   \n",
       "57 2021-01-08  283.64  275.11  283.99  275.11   88.93M    3.92%  2021      1   \n",
       "58 2021-01-06  272.93  275.94  275.94  271.62   40.95M   -0.82%  2021      1   \n",
       "59 2021-01-05   275.2  272.69   275.7  270.28   45.58M    1.18%  2021      1   \n",
       "60 2021-01-04     272  274.67   276.6  270.61   48.92M    0.13%  2021      1   \n",
       "\n",
       "    Week  Day  Dayofweek  \n",
       "0     13   31          2  \n",
       "1     13   30          1  \n",
       "2     13   29          0  \n",
       "3     12   26          4  \n",
       "4     12   25          3  \n",
       "..   ...  ...        ...  \n",
       "56     2   11          0  \n",
       "57     1    8          4  \n",
       "58     1    6          2  \n",
       "59     1    5          1  \n",
       "60     1    4          0  \n",
       "\n",
       "[61 rows x 12 columns]"
      ]
     },
     "execution_count": 29,
     "metadata": {},
     "output_type": "execute_result"
    }
   ],
   "source": [
    "Y"
   ]
  },
  {
   "cell_type": "code",
   "execution_count": null,
   "metadata": {},
   "outputs": [],
   "source": []
  }
 ],
 "metadata": {
  "kernelspec": {
   "display_name": "Python 3",
   "language": "python",
   "name": "python3"
  },
  "language_info": {
   "codemirror_mode": {
    "name": "ipython",
    "version": 3
   },
   "file_extension": ".py",
   "mimetype": "text/x-python",
   "name": "python",
   "nbconvert_exporter": "python",
   "pygments_lexer": "ipython3",
   "version": "3.7.4"
  }
 },
 "nbformat": 4,
 "nbformat_minor": 2
}
