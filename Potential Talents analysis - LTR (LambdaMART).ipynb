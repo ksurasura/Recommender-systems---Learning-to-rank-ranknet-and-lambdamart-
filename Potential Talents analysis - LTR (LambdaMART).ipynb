{
 "cells": [
  {
   "cell_type": "code",
   "execution_count": 1,
   "metadata": {},
   "outputs": [],
   "source": [
    "import pandas as pd"
   ]
  },
  {
   "cell_type": "code",
   "execution_count": 2,
   "metadata": {},
   "outputs": [],
   "source": [
    "data = pd.read_csv(\"potential-talents - Aspiring human resources - seeking human resources.csv\")"
   ]
  },
  {
   "cell_type": "code",
   "execution_count": 3,
   "metadata": {},
   "outputs": [
    {
     "data": {
      "text/plain": [
       "(104, 5)"
      ]
     },
     "execution_count": 3,
     "metadata": {},
     "output_type": "execute_result"
    }
   ],
   "source": [
    "data.shape"
   ]
  },
  {
   "cell_type": "code",
   "execution_count": 4,
   "metadata": {},
   "outputs": [
    {
     "data": {
      "text/html": [
       "<div>\n",
       "<style scoped>\n",
       "    .dataframe tbody tr th:only-of-type {\n",
       "        vertical-align: middle;\n",
       "    }\n",
       "\n",
       "    .dataframe tbody tr th {\n",
       "        vertical-align: top;\n",
       "    }\n",
       "\n",
       "    .dataframe thead th {\n",
       "        text-align: right;\n",
       "    }\n",
       "</style>\n",
       "<table border=\"1\" class=\"dataframe\">\n",
       "  <thead>\n",
       "    <tr style=\"text-align: right;\">\n",
       "      <th></th>\n",
       "      <th>id</th>\n",
       "      <th>job_title</th>\n",
       "      <th>location</th>\n",
       "      <th>connection</th>\n",
       "      <th>fit</th>\n",
       "    </tr>\n",
       "  </thead>\n",
       "  <tbody>\n",
       "    <tr>\n",
       "      <th>0</th>\n",
       "      <td>1</td>\n",
       "      <td>2019 C.T. Bauer College of Business Graduate (...</td>\n",
       "      <td>Houston, Texas</td>\n",
       "      <td>85</td>\n",
       "      <td>NaN</td>\n",
       "    </tr>\n",
       "    <tr>\n",
       "      <th>1</th>\n",
       "      <td>2</td>\n",
       "      <td>Native English Teacher at EPIK (English Progra...</td>\n",
       "      <td>Kanada</td>\n",
       "      <td>500+</td>\n",
       "      <td>NaN</td>\n",
       "    </tr>\n",
       "    <tr>\n",
       "      <th>2</th>\n",
       "      <td>3</td>\n",
       "      <td>Aspiring Human Resources Professional</td>\n",
       "      <td>Raleigh-Durham, North Carolina Area</td>\n",
       "      <td>44</td>\n",
       "      <td>NaN</td>\n",
       "    </tr>\n",
       "    <tr>\n",
       "      <th>3</th>\n",
       "      <td>4</td>\n",
       "      <td>People Development Coordinator at Ryan</td>\n",
       "      <td>Denton, Texas</td>\n",
       "      <td>500+</td>\n",
       "      <td>NaN</td>\n",
       "    </tr>\n",
       "    <tr>\n",
       "      <th>4</th>\n",
       "      <td>5</td>\n",
       "      <td>Advisory Board Member at Celal Bayar University</td>\n",
       "      <td>İzmir, Türkiye</td>\n",
       "      <td>500+</td>\n",
       "      <td>NaN</td>\n",
       "    </tr>\n",
       "  </tbody>\n",
       "</table>\n",
       "</div>"
      ],
      "text/plain": [
       "   id                                          job_title  \\\n",
       "0   1  2019 C.T. Bauer College of Business Graduate (...   \n",
       "1   2  Native English Teacher at EPIK (English Progra...   \n",
       "2   3              Aspiring Human Resources Professional   \n",
       "3   4             People Development Coordinator at Ryan   \n",
       "4   5    Advisory Board Member at Celal Bayar University   \n",
       "\n",
       "                              location connection  fit  \n",
       "0                       Houston, Texas         85  NaN  \n",
       "1                               Kanada      500+   NaN  \n",
       "2  Raleigh-Durham, North Carolina Area         44  NaN  \n",
       "3                        Denton, Texas      500+   NaN  \n",
       "4                       İzmir, Türkiye      500+   NaN  "
      ]
     },
     "execution_count": 4,
     "metadata": {},
     "output_type": "execute_result"
    }
   ],
   "source": [
    "data.head()"
   ]
  },
  {
   "cell_type": "code",
   "execution_count": 5,
   "metadata": {},
   "outputs": [
    {
     "data": {
      "text/html": [
       "<div>\n",
       "<style scoped>\n",
       "    .dataframe tbody tr th:only-of-type {\n",
       "        vertical-align: middle;\n",
       "    }\n",
       "\n",
       "    .dataframe tbody tr th {\n",
       "        vertical-align: top;\n",
       "    }\n",
       "\n",
       "    .dataframe thead th {\n",
       "        text-align: right;\n",
       "    }\n",
       "</style>\n",
       "<table border=\"1\" class=\"dataframe\">\n",
       "  <thead>\n",
       "    <tr style=\"text-align: right;\">\n",
       "      <th></th>\n",
       "      <th>id</th>\n",
       "      <th>fit</th>\n",
       "    </tr>\n",
       "  </thead>\n",
       "  <tbody>\n",
       "    <tr>\n",
       "      <th>count</th>\n",
       "      <td>104.000000</td>\n",
       "      <td>0.0</td>\n",
       "    </tr>\n",
       "    <tr>\n",
       "      <th>mean</th>\n",
       "      <td>52.500000</td>\n",
       "      <td>NaN</td>\n",
       "    </tr>\n",
       "    <tr>\n",
       "      <th>std</th>\n",
       "      <td>30.166206</td>\n",
       "      <td>NaN</td>\n",
       "    </tr>\n",
       "    <tr>\n",
       "      <th>min</th>\n",
       "      <td>1.000000</td>\n",
       "      <td>NaN</td>\n",
       "    </tr>\n",
       "    <tr>\n",
       "      <th>25%</th>\n",
       "      <td>26.750000</td>\n",
       "      <td>NaN</td>\n",
       "    </tr>\n",
       "    <tr>\n",
       "      <th>50%</th>\n",
       "      <td>52.500000</td>\n",
       "      <td>NaN</td>\n",
       "    </tr>\n",
       "    <tr>\n",
       "      <th>75%</th>\n",
       "      <td>78.250000</td>\n",
       "      <td>NaN</td>\n",
       "    </tr>\n",
       "    <tr>\n",
       "      <th>max</th>\n",
       "      <td>104.000000</td>\n",
       "      <td>NaN</td>\n",
       "    </tr>\n",
       "  </tbody>\n",
       "</table>\n",
       "</div>"
      ],
      "text/plain": [
       "               id  fit\n",
       "count  104.000000  0.0\n",
       "mean    52.500000  NaN\n",
       "std     30.166206  NaN\n",
       "min      1.000000  NaN\n",
       "25%     26.750000  NaN\n",
       "50%     52.500000  NaN\n",
       "75%     78.250000  NaN\n",
       "max    104.000000  NaN"
      ]
     },
     "execution_count": 5,
     "metadata": {},
     "output_type": "execute_result"
    }
   ],
   "source": [
    "data.describe()"
   ]
  },
  {
   "cell_type": "code",
   "execution_count": 6,
   "metadata": {},
   "outputs": [
    {
     "name": "stdout",
     "output_type": "stream",
     "text": [
      "<class 'pandas.core.frame.DataFrame'>\n",
      "RangeIndex: 104 entries, 0 to 103\n",
      "Data columns (total 5 columns):\n",
      " #   Column      Non-Null Count  Dtype  \n",
      "---  ------      --------------  -----  \n",
      " 0   id          104 non-null    int64  \n",
      " 1   job_title   104 non-null    object \n",
      " 2   location    104 non-null    object \n",
      " 3   connection  104 non-null    object \n",
      " 4   fit         0 non-null      float64\n",
      "dtypes: float64(1), int64(1), object(3)\n",
      "memory usage: 4.2+ KB\n"
     ]
    }
   ],
   "source": [
    "data.info()"
   ]
  },
  {
   "cell_type": "code",
   "execution_count": 7,
   "metadata": {},
   "outputs": [],
   "source": [
    "#replacing '500+ ' with 500\n",
    "data.connection.replace({'500+ ':500}, inplace=True)"
   ]
  },
  {
   "cell_type": "code",
   "execution_count": null,
   "metadata": {},
   "outputs": [],
   "source": []
  },
  {
   "cell_type": "code",
   "execution_count": null,
   "metadata": {},
   "outputs": [],
   "source": []
  },
  {
   "cell_type": "code",
   "execution_count": 8,
   "metadata": {},
   "outputs": [],
   "source": [
    "from sklearn.feature_extraction.text import TfidfVectorizer\n",
    "tfidf = TfidfVectorizer(stop_words='english')"
   ]
  },
  {
   "cell_type": "code",
   "execution_count": 9,
   "metadata": {},
   "outputs": [],
   "source": [
    "tfidf_jobtitle_matrix = tfidf.fit_transform((data['job_title']))"
   ]
  },
  {
   "cell_type": "code",
   "execution_count": 11,
   "metadata": {},
   "outputs": [
    {
     "name": "stdout",
     "output_type": "stream",
     "text": [
      "Enter job keywords: Aspiring human resources\n"
     ]
    }
   ],
   "source": [
    "search_keyword = input(\"Enter job keywords: \")"
   ]
  },
  {
   "cell_type": "code",
   "execution_count": 12,
   "metadata": {},
   "outputs": [],
   "source": [
    "keyword_list = [search_keyword]\n",
    "user_keyword = pd.DataFrame(keyword_list, columns = ['job_keyword'])"
   ]
  },
  {
   "cell_type": "code",
   "execution_count": 13,
   "metadata": {},
   "outputs": [
    {
     "data": {
      "text/html": [
       "<div>\n",
       "<style scoped>\n",
       "    .dataframe tbody tr th:only-of-type {\n",
       "        vertical-align: middle;\n",
       "    }\n",
       "\n",
       "    .dataframe tbody tr th {\n",
       "        vertical-align: top;\n",
       "    }\n",
       "\n",
       "    .dataframe thead th {\n",
       "        text-align: right;\n",
       "    }\n",
       "</style>\n",
       "<table border=\"1\" class=\"dataframe\">\n",
       "  <thead>\n",
       "    <tr style=\"text-align: right;\">\n",
       "      <th></th>\n",
       "      <th>job_keyword</th>\n",
       "    </tr>\n",
       "  </thead>\n",
       "  <tbody>\n",
       "    <tr>\n",
       "      <th>0</th>\n",
       "      <td>Aspiring human resources</td>\n",
       "    </tr>\n",
       "  </tbody>\n",
       "</table>\n",
       "</div>"
      ],
      "text/plain": [
       "                job_keyword\n",
       "0  Aspiring human resources"
      ]
     },
     "execution_count": 13,
     "metadata": {},
     "output_type": "execute_result"
    }
   ],
   "source": [
    "user_keyword.head()"
   ]
  },
  {
   "cell_type": "code",
   "execution_count": 14,
   "metadata": {},
   "outputs": [],
   "source": [
    "user_keyword_tfidf = tfidf.transform(user_keyword['job_keyword'])"
   ]
  },
  {
   "cell_type": "code",
   "execution_count": 15,
   "metadata": {},
   "outputs": [],
   "source": [
    "from sklearn.metrics.pairwise import cosine_similarity\n",
    "cos_similarity_tfidf = map(lambda x: cosine_similarity(user_keyword_tfidf, x), tfidf_jobtitle_matrix)\n",
    "#result = list(cos_similarity_tfidf)"
   ]
  },
  {
   "cell_type": "code",
   "execution_count": 16,
   "metadata": {},
   "outputs": [
    {
     "data": {
      "text/plain": [
       "map"
      ]
     },
     "execution_count": 16,
     "metadata": {},
     "output_type": "execute_result"
    }
   ],
   "source": [
    "type(cos_similarity_tfidf)"
   ]
  },
  {
   "cell_type": "code",
   "execution_count": 17,
   "metadata": {},
   "outputs": [],
   "source": [
    "result = list(cos_similarity_tfidf)"
   ]
  },
  {
   "cell_type": "code",
   "execution_count": 131,
   "metadata": {},
   "outputs": [
    {
     "data": {
      "text/plain": [
       "[array([[0.28375909]]),\n",
       " array([[0.]]),\n",
       " array([[0.753591]]),\n",
       " array([[0.]]),\n",
       " array([[0.]]),\n",
       " array([[0.69567872]]),\n",
       " array([[0.4361722]]),\n",
       " array([[0.]]),\n",
       " array([[0.4361722]]),\n",
       " array([[0.21138856]]),\n",
       " array([[0.]]),\n",
       " array([[0.]]),\n",
       " array([[0.19430422]]),\n",
       " array([[0.28375909]]),\n",
       " array([[0.28375909]]),\n",
       " array([[0.]]),\n",
       " array([[0.753591]]),\n",
       " array([[0.]]),\n",
       " array([[0.28375909]]),\n",
       " array([[0.]]),\n",
       " array([[0.753591]]),\n",
       " array([[0.]]),\n",
       " array([[0.]]),\n",
       " array([[0.69567872]]),\n",
       " array([[0.4361722]]),\n",
       " array([[0.]]),\n",
       " array([[0.39564317]]),\n",
       " array([[0.2878165]]),\n",
       " array([[0.39564317]]),\n",
       " array([[0.2878165]]),\n",
       " array([[0.28375909]]),\n",
       " array([[0.]]),\n",
       " array([[0.753591]]),\n",
       " array([[0.]]),\n",
       " array([[0.]]),\n",
       " array([[0.69567872]]),\n",
       " array([[0.4361722]]),\n",
       " array([[0.]]),\n",
       " array([[0.4361722]]),\n",
       " array([[0.21138856]]),\n",
       " array([[0.]]),\n",
       " array([[0.]]),\n",
       " array([[0.19430422]]),\n",
       " array([[0.28375909]]),\n",
       " array([[0.]]),\n",
       " array([[0.753591]]),\n",
       " array([[0.]]),\n",
       " array([[0.]]),\n",
       " array([[0.69567872]]),\n",
       " array([[0.4361722]]),\n",
       " array([[0.]]),\n",
       " array([[0.4361722]]),\n",
       " array([[0.21138856]]),\n",
       " array([[0.]]),\n",
       " array([[0.]]),\n",
       " array([[0.19430422]]),\n",
       " array([[0.28375909]]),\n",
       " array([[0.753591]]),\n",
       " array([[0.]]),\n",
       " array([[0.69567872]]),\n",
       " array([[0.]]),\n",
       " array([[0.21138856]]),\n",
       " array([[0.]]),\n",
       " array([[0.]]),\n",
       " array([[0.19430422]]),\n",
       " array([[0.34799962]]),\n",
       " array([[0.20673821]]),\n",
       " array([[0.25016373]]),\n",
       " array([[0.14622958]]),\n",
       " array([[0.11259174]]),\n",
       " array([[0.25299409]]),\n",
       " array([[0.37472449]]),\n",
       " array([[0.57679398]]),\n",
       " array([[0.46015863]]),\n",
       " array([[0.10859318]]),\n",
       " array([[0.21816311]]),\n",
       " array([[0.10824288]]),\n",
       " array([[0.25299409]]),\n",
       " array([[0.29767933]]),\n",
       " array([[0.]]),\n",
       " array([[0.15410443]]),\n",
       " array([[0.2847913]]),\n",
       " array([[0.]]),\n",
       " array([[0.15134215]]),\n",
       " array([[0.]]),\n",
       " array([[0.]]),\n",
       " array([[0.]]),\n",
       " array([[0.25753129]]),\n",
       " array([[0.22617284]]),\n",
       " array([[0.]]),\n",
       " array([[0.]]),\n",
       " array([[0.]]),\n",
       " array([[0.]]),\n",
       " array([[0.15345474]]),\n",
       " array([[0.]]),\n",
       " array([[0.]]),\n",
       " array([[0.753591]]),\n",
       " array([[0.]]),\n",
       " array([[0.27912389]]),\n",
       " array([[0.31406807]]),\n",
       " array([[0.25299409]]),\n",
       " array([[0.]]),\n",
       " array([[0.]]),\n",
       " array([[0.]])]"
      ]
     },
     "execution_count": 131,
     "metadata": {},
     "output_type": "execute_result"
    }
   ],
   "source": [
    "result"
   ]
  },
  {
   "cell_type": "code",
   "execution_count": 18,
   "metadata": {},
   "outputs": [
    {
     "data": {
      "text/plain": [
       "0.28375909395128085"
      ]
     },
     "execution_count": 18,
     "metadata": {},
     "output_type": "execute_result"
    }
   ],
   "source": [
    "result[0][0][0]"
   ]
  },
  {
   "cell_type": "code",
   "execution_count": 19,
   "metadata": {},
   "outputs": [
    {
     "data": {
      "text/plain": [
       "0.7535909978974564"
      ]
     },
     "execution_count": 19,
     "metadata": {},
     "output_type": "execute_result"
    }
   ],
   "source": [
    "result[2][0][0]"
   ]
  },
  {
   "cell_type": "code",
   "execution_count": 20,
   "metadata": {},
   "outputs": [
    {
     "name": "stderr",
     "output_type": "stream",
     "text": [
      "/opt/anaconda3/lib/python3.7/site-packages/ipykernel_launcher.py:2: SettingWithCopyWarning: \n",
      "A value is trying to be set on a copy of a slice from a DataFrame\n",
      "\n",
      "See the caveats in the documentation: https://pandas.pydata.org/pandas-docs/stable/user_guide/indexing.html#returning-a-view-versus-a-copy\n",
      "  \n"
     ]
    }
   ],
   "source": [
    "for i in range(len(result)):\n",
    "    data['fit'][i] = result[i][0][0]\n"
   ]
  },
  {
   "cell_type": "code",
   "execution_count": 21,
   "metadata": {},
   "outputs": [],
   "source": [
    "#data.drop(columns='result', inplace=True)"
   ]
  },
  {
   "cell_type": "code",
   "execution_count": 22,
   "metadata": {},
   "outputs": [],
   "source": [
    "#data.head()"
   ]
  },
  {
   "cell_type": "code",
   "execution_count": 23,
   "metadata": {},
   "outputs": [
    {
     "data": {
      "text/html": [
       "<div>\n",
       "<style scoped>\n",
       "    .dataframe tbody tr th:only-of-type {\n",
       "        vertical-align: middle;\n",
       "    }\n",
       "\n",
       "    .dataframe tbody tr th {\n",
       "        vertical-align: top;\n",
       "    }\n",
       "\n",
       "    .dataframe thead th {\n",
       "        text-align: right;\n",
       "    }\n",
       "</style>\n",
       "<table border=\"1\" class=\"dataframe\">\n",
       "  <thead>\n",
       "    <tr style=\"text-align: right;\">\n",
       "      <th></th>\n",
       "      <th>id</th>\n",
       "      <th>job_title</th>\n",
       "      <th>location</th>\n",
       "      <th>connection</th>\n",
       "      <th>fit</th>\n",
       "    </tr>\n",
       "  </thead>\n",
       "  <tbody>\n",
       "    <tr>\n",
       "      <th>2</th>\n",
       "      <td>3</td>\n",
       "      <td>Aspiring Human Resources Professional</td>\n",
       "      <td>Raleigh-Durham, North Carolina Area</td>\n",
       "      <td>44</td>\n",
       "      <td>0.753591</td>\n",
       "    </tr>\n",
       "    <tr>\n",
       "      <th>20</th>\n",
       "      <td>21</td>\n",
       "      <td>Aspiring Human Resources Professional</td>\n",
       "      <td>Raleigh-Durham, North Carolina Area</td>\n",
       "      <td>44</td>\n",
       "      <td>0.753591</td>\n",
       "    </tr>\n",
       "    <tr>\n",
       "      <th>57</th>\n",
       "      <td>58</td>\n",
       "      <td>Aspiring Human Resources Professional</td>\n",
       "      <td>Raleigh-Durham, North Carolina Area</td>\n",
       "      <td>44</td>\n",
       "      <td>0.753591</td>\n",
       "    </tr>\n",
       "    <tr>\n",
       "      <th>45</th>\n",
       "      <td>46</td>\n",
       "      <td>Aspiring Human Resources Professional</td>\n",
       "      <td>Raleigh-Durham, North Carolina Area</td>\n",
       "      <td>44</td>\n",
       "      <td>0.753591</td>\n",
       "    </tr>\n",
       "    <tr>\n",
       "      <th>32</th>\n",
       "      <td>33</td>\n",
       "      <td>Aspiring Human Resources Professional</td>\n",
       "      <td>Raleigh-Durham, North Carolina Area</td>\n",
       "      <td>44</td>\n",
       "      <td>0.753591</td>\n",
       "    </tr>\n",
       "    <tr>\n",
       "      <th>96</th>\n",
       "      <td>97</td>\n",
       "      <td>Aspiring Human Resources Professional</td>\n",
       "      <td>Kokomo, Indiana Area</td>\n",
       "      <td>71</td>\n",
       "      <td>0.753591</td>\n",
       "    </tr>\n",
       "    <tr>\n",
       "      <th>16</th>\n",
       "      <td>17</td>\n",
       "      <td>Aspiring Human Resources Professional</td>\n",
       "      <td>Raleigh-Durham, North Carolina Area</td>\n",
       "      <td>44</td>\n",
       "      <td>0.753591</td>\n",
       "    </tr>\n",
       "    <tr>\n",
       "      <th>23</th>\n",
       "      <td>24</td>\n",
       "      <td>Aspiring Human Resources Specialist</td>\n",
       "      <td>Greater New York City Area</td>\n",
       "      <td>1</td>\n",
       "      <td>0.695679</td>\n",
       "    </tr>\n",
       "    <tr>\n",
       "      <th>35</th>\n",
       "      <td>36</td>\n",
       "      <td>Aspiring Human Resources Specialist</td>\n",
       "      <td>Greater New York City Area</td>\n",
       "      <td>1</td>\n",
       "      <td>0.695679</td>\n",
       "    </tr>\n",
       "    <tr>\n",
       "      <th>5</th>\n",
       "      <td>6</td>\n",
       "      <td>Aspiring Human Resources Specialist</td>\n",
       "      <td>Greater New York City Area</td>\n",
       "      <td>1</td>\n",
       "      <td>0.695679</td>\n",
       "    </tr>\n",
       "    <tr>\n",
       "      <th>48</th>\n",
       "      <td>49</td>\n",
       "      <td>Aspiring Human Resources Specialist</td>\n",
       "      <td>Greater New York City Area</td>\n",
       "      <td>1</td>\n",
       "      <td>0.695679</td>\n",
       "    </tr>\n",
       "    <tr>\n",
       "      <th>59</th>\n",
       "      <td>60</td>\n",
       "      <td>Aspiring Human Resources Specialist</td>\n",
       "      <td>Greater New York City Area</td>\n",
       "      <td>1</td>\n",
       "      <td>0.695679</td>\n",
       "    </tr>\n",
       "    <tr>\n",
       "      <th>72</th>\n",
       "      <td>73</td>\n",
       "      <td>Aspiring Human Resources Manager, seeking inte...</td>\n",
       "      <td>Houston, Texas Area</td>\n",
       "      <td>7</td>\n",
       "      <td>0.576794</td>\n",
       "    </tr>\n",
       "    <tr>\n",
       "      <th>73</th>\n",
       "      <td>74</td>\n",
       "      <td>Human Resources Professional</td>\n",
       "      <td>Greater Boston Area</td>\n",
       "      <td>16</td>\n",
       "      <td>0.460159</td>\n",
       "    </tr>\n",
       "    <tr>\n",
       "      <th>24</th>\n",
       "      <td>25</td>\n",
       "      <td>Student at Humber College and Aspiring Human R...</td>\n",
       "      <td>Kanada</td>\n",
       "      <td>61</td>\n",
       "      <td>0.436172</td>\n",
       "    </tr>\n",
       "    <tr>\n",
       "      <th>38</th>\n",
       "      <td>39</td>\n",
       "      <td>Student at Humber College and Aspiring Human R...</td>\n",
       "      <td>Kanada</td>\n",
       "      <td>61</td>\n",
       "      <td>0.436172</td>\n",
       "    </tr>\n",
       "    <tr>\n",
       "      <th>8</th>\n",
       "      <td>9</td>\n",
       "      <td>Student at Humber College and Aspiring Human R...</td>\n",
       "      <td>Kanada</td>\n",
       "      <td>61</td>\n",
       "      <td>0.436172</td>\n",
       "    </tr>\n",
       "    <tr>\n",
       "      <th>49</th>\n",
       "      <td>50</td>\n",
       "      <td>Student at Humber College and Aspiring Human R...</td>\n",
       "      <td>Kanada</td>\n",
       "      <td>61</td>\n",
       "      <td>0.436172</td>\n",
       "    </tr>\n",
       "    <tr>\n",
       "      <th>51</th>\n",
       "      <td>52</td>\n",
       "      <td>Student at Humber College and Aspiring Human R...</td>\n",
       "      <td>Kanada</td>\n",
       "      <td>61</td>\n",
       "      <td>0.436172</td>\n",
       "    </tr>\n",
       "    <tr>\n",
       "      <th>6</th>\n",
       "      <td>7</td>\n",
       "      <td>Student at Humber College and Aspiring Human R...</td>\n",
       "      <td>Kanada</td>\n",
       "      <td>61</td>\n",
       "      <td>0.436172</td>\n",
       "    </tr>\n",
       "    <tr>\n",
       "      <th>36</th>\n",
       "      <td>37</td>\n",
       "      <td>Student at Humber College and Aspiring Human R...</td>\n",
       "      <td>Kanada</td>\n",
       "      <td>61</td>\n",
       "      <td>0.436172</td>\n",
       "    </tr>\n",
       "  </tbody>\n",
       "</table>\n",
       "</div>"
      ],
      "text/plain": [
       "    id                                          job_title  \\\n",
       "2    3              Aspiring Human Resources Professional   \n",
       "20  21              Aspiring Human Resources Professional   \n",
       "57  58              Aspiring Human Resources Professional   \n",
       "45  46              Aspiring Human Resources Professional   \n",
       "32  33              Aspiring Human Resources Professional   \n",
       "96  97              Aspiring Human Resources Professional   \n",
       "16  17              Aspiring Human Resources Professional   \n",
       "23  24                Aspiring Human Resources Specialist   \n",
       "35  36                Aspiring Human Resources Specialist   \n",
       "5    6                Aspiring Human Resources Specialist   \n",
       "48  49                Aspiring Human Resources Specialist   \n",
       "59  60                Aspiring Human Resources Specialist   \n",
       "72  73  Aspiring Human Resources Manager, seeking inte...   \n",
       "73  74                       Human Resources Professional   \n",
       "24  25  Student at Humber College and Aspiring Human R...   \n",
       "38  39  Student at Humber College and Aspiring Human R...   \n",
       "8    9  Student at Humber College and Aspiring Human R...   \n",
       "49  50  Student at Humber College and Aspiring Human R...   \n",
       "51  52  Student at Humber College and Aspiring Human R...   \n",
       "6    7  Student at Humber College and Aspiring Human R...   \n",
       "36  37  Student at Humber College and Aspiring Human R...   \n",
       "\n",
       "                               location connection       fit  \n",
       "2   Raleigh-Durham, North Carolina Area         44  0.753591  \n",
       "20  Raleigh-Durham, North Carolina Area         44  0.753591  \n",
       "57  Raleigh-Durham, North Carolina Area         44  0.753591  \n",
       "45  Raleigh-Durham, North Carolina Area         44  0.753591  \n",
       "32  Raleigh-Durham, North Carolina Area         44  0.753591  \n",
       "96                 Kokomo, Indiana Area         71  0.753591  \n",
       "16  Raleigh-Durham, North Carolina Area         44  0.753591  \n",
       "23           Greater New York City Area          1  0.695679  \n",
       "35           Greater New York City Area          1  0.695679  \n",
       "5            Greater New York City Area          1  0.695679  \n",
       "48           Greater New York City Area          1  0.695679  \n",
       "59           Greater New York City Area          1  0.695679  \n",
       "72                  Houston, Texas Area          7  0.576794  \n",
       "73                  Greater Boston Area         16  0.460159  \n",
       "24                               Kanada         61  0.436172  \n",
       "38                               Kanada         61  0.436172  \n",
       "8                                Kanada         61  0.436172  \n",
       "49                               Kanada         61  0.436172  \n",
       "51                               Kanada         61  0.436172  \n",
       "6                                Kanada         61  0.436172  \n",
       "36                               Kanada         61  0.436172  "
      ]
     },
     "execution_count": 23,
     "metadata": {},
     "output_type": "execute_result"
    }
   ],
   "source": [
    "data.loc[data['fit'] >= 0.4].sort_values(by = 'fit', ascending=False)"
   ]
  },
  {
   "cell_type": "code",
   "execution_count": 1,
   "metadata": {},
   "outputs": [],
   "source": [
    "#convert job_title to tf-idf, location to tf-idf and connection 500+ with 500"
   ]
  },
  {
   "cell_type": "code",
   "execution_count": 24,
   "metadata": {},
   "outputs": [
    {
     "data": {
      "text/html": [
       "<div>\n",
       "<style scoped>\n",
       "    .dataframe tbody tr th:only-of-type {\n",
       "        vertical-align: middle;\n",
       "    }\n",
       "\n",
       "    .dataframe tbody tr th {\n",
       "        vertical-align: top;\n",
       "    }\n",
       "\n",
       "    .dataframe thead th {\n",
       "        text-align: right;\n",
       "    }\n",
       "</style>\n",
       "<table border=\"1\" class=\"dataframe\">\n",
       "  <thead>\n",
       "    <tr style=\"text-align: right;\">\n",
       "      <th></th>\n",
       "      <th>id</th>\n",
       "      <th>job_title</th>\n",
       "      <th>location</th>\n",
       "      <th>connection</th>\n",
       "      <th>fit</th>\n",
       "    </tr>\n",
       "  </thead>\n",
       "  <tbody>\n",
       "    <tr>\n",
       "      <th>0</th>\n",
       "      <td>1</td>\n",
       "      <td>2019 C.T. Bauer College of Business Graduate (...</td>\n",
       "      <td>Houston, Texas</td>\n",
       "      <td>85</td>\n",
       "      <td>0.283759</td>\n",
       "    </tr>\n",
       "    <tr>\n",
       "      <th>1</th>\n",
       "      <td>2</td>\n",
       "      <td>Native English Teacher at EPIK (English Progra...</td>\n",
       "      <td>Kanada</td>\n",
       "      <td>500</td>\n",
       "      <td>0.000000</td>\n",
       "    </tr>\n",
       "    <tr>\n",
       "      <th>2</th>\n",
       "      <td>3</td>\n",
       "      <td>Aspiring Human Resources Professional</td>\n",
       "      <td>Raleigh-Durham, North Carolina Area</td>\n",
       "      <td>44</td>\n",
       "      <td>0.753591</td>\n",
       "    </tr>\n",
       "    <tr>\n",
       "      <th>3</th>\n",
       "      <td>4</td>\n",
       "      <td>People Development Coordinator at Ryan</td>\n",
       "      <td>Denton, Texas</td>\n",
       "      <td>500</td>\n",
       "      <td>0.000000</td>\n",
       "    </tr>\n",
       "    <tr>\n",
       "      <th>4</th>\n",
       "      <td>5</td>\n",
       "      <td>Advisory Board Member at Celal Bayar University</td>\n",
       "      <td>İzmir, Türkiye</td>\n",
       "      <td>500</td>\n",
       "      <td>0.000000</td>\n",
       "    </tr>\n",
       "  </tbody>\n",
       "</table>\n",
       "</div>"
      ],
      "text/plain": [
       "   id                                          job_title  \\\n",
       "0   1  2019 C.T. Bauer College of Business Graduate (...   \n",
       "1   2  Native English Teacher at EPIK (English Progra...   \n",
       "2   3              Aspiring Human Resources Professional   \n",
       "3   4             People Development Coordinator at Ryan   \n",
       "4   5    Advisory Board Member at Celal Bayar University   \n",
       "\n",
       "                              location connection       fit  \n",
       "0                       Houston, Texas         85  0.283759  \n",
       "1                               Kanada        500  0.000000  \n",
       "2  Raleigh-Durham, North Carolina Area         44  0.753591  \n",
       "3                        Denton, Texas        500  0.000000  \n",
       "4                       İzmir, Türkiye        500  0.000000  "
      ]
     },
     "execution_count": 24,
     "metadata": {},
     "output_type": "execute_result"
    }
   ],
   "source": [
    "data.head()"
   ]
  },
  {
   "cell_type": "code",
   "execution_count": 25,
   "metadata": {},
   "outputs": [
    {
     "data": {
      "text/plain": [
       "(104, 181)"
      ]
     },
     "execution_count": 25,
     "metadata": {},
     "output_type": "execute_result"
    }
   ],
   "source": [
    "tfidf_jobtitle_matrix.shape"
   ]
  },
  {
   "cell_type": "code",
   "execution_count": 26,
   "metadata": {},
   "outputs": [],
   "source": [
    "tfidf_location_matrix = tfidf.fit_transform((data['location']))"
   ]
  },
  {
   "cell_type": "code",
   "execution_count": 27,
   "metadata": {},
   "outputs": [
    {
     "data": {
      "text/plain": [
       "(104, 71)"
      ]
     },
     "execution_count": 27,
     "metadata": {},
     "output_type": "execute_result"
    }
   ],
   "source": [
    "tfidf_location_matrix.shape"
   ]
  },
  {
   "cell_type": "code",
   "execution_count": 28,
   "metadata": {},
   "outputs": [],
   "source": [
    "df_jobtitle = pd.DataFrame(tfidf_jobtitle_matrix.toarray())\n",
    "df_location = pd.DataFrame(tfidf_location_matrix.toarray())"
   ]
  },
  {
   "cell_type": "code",
   "execution_count": null,
   "metadata": {},
   "outputs": [],
   "source": []
  },
  {
   "cell_type": "code",
   "execution_count": 29,
   "metadata": {},
   "outputs": [],
   "source": [
    "data_processed = pd.concat([data, df_jobtitle, df_location], axis = 1)"
   ]
  },
  {
   "cell_type": "code",
   "execution_count": 30,
   "metadata": {},
   "outputs": [
    {
     "data": {
      "text/plain": [
       "(104, 257)"
      ]
     },
     "execution_count": 30,
     "metadata": {},
     "output_type": "execute_result"
    }
   ],
   "source": [
    "data_processed.shape"
   ]
  },
  {
   "cell_type": "code",
   "execution_count": 31,
   "metadata": {},
   "outputs": [],
   "source": [
    "data_processed.drop(['job_title', 'location'], axis=1, inplace=True)"
   ]
  },
  {
   "cell_type": "code",
   "execution_count": 32,
   "metadata": {},
   "outputs": [
    {
     "data": {
      "text/plain": [
       "(104, 255)"
      ]
     },
     "execution_count": 32,
     "metadata": {},
     "output_type": "execute_result"
    }
   ],
   "source": [
    "data_processed.shape"
   ]
  },
  {
   "cell_type": "code",
   "execution_count": 33,
   "metadata": {},
   "outputs": [
    {
     "data": {
      "text/html": [
       "<div>\n",
       "<style scoped>\n",
       "    .dataframe tbody tr th:only-of-type {\n",
       "        vertical-align: middle;\n",
       "    }\n",
       "\n",
       "    .dataframe tbody tr th {\n",
       "        vertical-align: top;\n",
       "    }\n",
       "\n",
       "    .dataframe thead th {\n",
       "        text-align: right;\n",
       "    }\n",
       "</style>\n",
       "<table border=\"1\" class=\"dataframe\">\n",
       "  <thead>\n",
       "    <tr style=\"text-align: right;\">\n",
       "      <th></th>\n",
       "      <th>id</th>\n",
       "      <th>connection</th>\n",
       "      <th>fit</th>\n",
       "      <th>0</th>\n",
       "      <th>1</th>\n",
       "      <th>2</th>\n",
       "      <th>3</th>\n",
       "      <th>4</th>\n",
       "      <th>5</th>\n",
       "      <th>6</th>\n",
       "      <th>...</th>\n",
       "      <th>61</th>\n",
       "      <th>62</th>\n",
       "      <th>63</th>\n",
       "      <th>64</th>\n",
       "      <th>65</th>\n",
       "      <th>66</th>\n",
       "      <th>67</th>\n",
       "      <th>68</th>\n",
       "      <th>69</th>\n",
       "      <th>70</th>\n",
       "    </tr>\n",
       "  </thead>\n",
       "  <tbody>\n",
       "    <tr>\n",
       "      <th>0</th>\n",
       "      <td>1</td>\n",
       "      <td>85</td>\n",
       "      <td>0.283759</td>\n",
       "      <td>0.33906</td>\n",
       "      <td>0.0</td>\n",
       "      <td>0.0</td>\n",
       "      <td>0.0</td>\n",
       "      <td>0.0</td>\n",
       "      <td>0.0</td>\n",
       "      <td>0.0</td>\n",
       "      <td>...</td>\n",
       "      <td>0.0</td>\n",
       "      <td>0.0</td>\n",
       "      <td>0.645479</td>\n",
       "      <td>0.0</td>\n",
       "      <td>0.000000</td>\n",
       "      <td>0.0</td>\n",
       "      <td>0.0</td>\n",
       "      <td>0.0</td>\n",
       "      <td>0.0</td>\n",
       "      <td>0.000000</td>\n",
       "    </tr>\n",
       "    <tr>\n",
       "      <th>1</th>\n",
       "      <td>2</td>\n",
       "      <td>500</td>\n",
       "      <td>0.000000</td>\n",
       "      <td>0.00000</td>\n",
       "      <td>0.0</td>\n",
       "      <td>0.0</td>\n",
       "      <td>0.0</td>\n",
       "      <td>0.0</td>\n",
       "      <td>0.0</td>\n",
       "      <td>0.0</td>\n",
       "      <td>...</td>\n",
       "      <td>0.0</td>\n",
       "      <td>0.0</td>\n",
       "      <td>0.000000</td>\n",
       "      <td>0.0</td>\n",
       "      <td>0.000000</td>\n",
       "      <td>0.0</td>\n",
       "      <td>0.0</td>\n",
       "      <td>0.0</td>\n",
       "      <td>0.0</td>\n",
       "      <td>0.000000</td>\n",
       "    </tr>\n",
       "    <tr>\n",
       "      <th>2</th>\n",
       "      <td>3</td>\n",
       "      <td>44</td>\n",
       "      <td>0.753591</td>\n",
       "      <td>0.00000</td>\n",
       "      <td>0.0</td>\n",
       "      <td>0.0</td>\n",
       "      <td>0.0</td>\n",
       "      <td>0.0</td>\n",
       "      <td>0.0</td>\n",
       "      <td>0.0</td>\n",
       "      <td>...</td>\n",
       "      <td>0.0</td>\n",
       "      <td>0.0</td>\n",
       "      <td>0.000000</td>\n",
       "      <td>0.0</td>\n",
       "      <td>0.000000</td>\n",
       "      <td>0.0</td>\n",
       "      <td>0.0</td>\n",
       "      <td>0.0</td>\n",
       "      <td>0.0</td>\n",
       "      <td>0.000000</td>\n",
       "    </tr>\n",
       "    <tr>\n",
       "      <th>3</th>\n",
       "      <td>4</td>\n",
       "      <td>500</td>\n",
       "      <td>0.000000</td>\n",
       "      <td>0.00000</td>\n",
       "      <td>0.0</td>\n",
       "      <td>0.0</td>\n",
       "      <td>0.0</td>\n",
       "      <td>0.0</td>\n",
       "      <td>0.0</td>\n",
       "      <td>0.0</td>\n",
       "      <td>...</td>\n",
       "      <td>0.0</td>\n",
       "      <td>0.0</td>\n",
       "      <td>0.548921</td>\n",
       "      <td>0.0</td>\n",
       "      <td>0.000000</td>\n",
       "      <td>0.0</td>\n",
       "      <td>0.0</td>\n",
       "      <td>0.0</td>\n",
       "      <td>0.0</td>\n",
       "      <td>0.000000</td>\n",
       "    </tr>\n",
       "    <tr>\n",
       "      <th>4</th>\n",
       "      <td>5</td>\n",
       "      <td>500</td>\n",
       "      <td>0.000000</td>\n",
       "      <td>0.00000</td>\n",
       "      <td>0.0</td>\n",
       "      <td>0.0</td>\n",
       "      <td>0.0</td>\n",
       "      <td>0.0</td>\n",
       "      <td>0.0</td>\n",
       "      <td>0.0</td>\n",
       "      <td>...</td>\n",
       "      <td>0.0</td>\n",
       "      <td>0.0</td>\n",
       "      <td>0.000000</td>\n",
       "      <td>0.0</td>\n",
       "      <td>0.707107</td>\n",
       "      <td>0.0</td>\n",
       "      <td>0.0</td>\n",
       "      <td>0.0</td>\n",
       "      <td>0.0</td>\n",
       "      <td>0.707107</td>\n",
       "    </tr>\n",
       "  </tbody>\n",
       "</table>\n",
       "<p>5 rows × 255 columns</p>\n",
       "</div>"
      ],
      "text/plain": [
       "   id connection       fit        0    1    2    3    4    5    6  ...   61  \\\n",
       "0   1         85  0.283759  0.33906  0.0  0.0  0.0  0.0  0.0  0.0  ...  0.0   \n",
       "1   2        500  0.000000  0.00000  0.0  0.0  0.0  0.0  0.0  0.0  ...  0.0   \n",
       "2   3         44  0.753591  0.00000  0.0  0.0  0.0  0.0  0.0  0.0  ...  0.0   \n",
       "3   4        500  0.000000  0.00000  0.0  0.0  0.0  0.0  0.0  0.0  ...  0.0   \n",
       "4   5        500  0.000000  0.00000  0.0  0.0  0.0  0.0  0.0  0.0  ...  0.0   \n",
       "\n",
       "    62        63   64        65   66   67   68   69        70  \n",
       "0  0.0  0.645479  0.0  0.000000  0.0  0.0  0.0  0.0  0.000000  \n",
       "1  0.0  0.000000  0.0  0.000000  0.0  0.0  0.0  0.0  0.000000  \n",
       "2  0.0  0.000000  0.0  0.000000  0.0  0.0  0.0  0.0  0.000000  \n",
       "3  0.0  0.548921  0.0  0.000000  0.0  0.0  0.0  0.0  0.000000  \n",
       "4  0.0  0.000000  0.0  0.707107  0.0  0.0  0.0  0.0  0.707107  \n",
       "\n",
       "[5 rows x 255 columns]"
      ]
     },
     "execution_count": 33,
     "metadata": {},
     "output_type": "execute_result"
    }
   ],
   "source": [
    "data_processed.head()"
   ]
  },
  {
   "cell_type": "markdown",
   "metadata": {},
   "source": [
    "### Word2Vec implementation"
   ]
  },
  {
   "cell_type": "code",
   "execution_count": 34,
   "metadata": {},
   "outputs": [],
   "source": [
    "import numpy\n",
    "import gensim"
   ]
  },
  {
   "cell_type": "code",
   "execution_count": 35,
   "metadata": {},
   "outputs": [],
   "source": [
    "import gensim.downloader as api"
   ]
  },
  {
   "cell_type": "code",
   "execution_count": 38,
   "metadata": {},
   "outputs": [
    {
     "name": "stdout",
     "output_type": "stream",
     "text": [
      "[=================================================-] 99.8% 1659.8/1662.8MB downloaded\n"
     ]
    }
   ],
   "source": [
    "# load w2v model\n",
    "corpus = api.load('word2vec-google-news-300')\n",
    "#word2vec_model = gensim.load(\"word2vec-google-news-300\")"
   ]
  },
  {
   "cell_type": "code",
   "execution_count": 39,
   "metadata": {},
   "outputs": [],
   "source": [
    "def cosine_similarity(vec1, vec2):\n",
    "    cosine_similarity = numpy.dot(vec1, vec2) / (numpy.linalg.norm(vec1) * numpy.linalg.norm(vec2))\n",
    "    return cosine_similarity"
   ]
  },
  {
   "cell_type": "code",
   "execution_count": 62,
   "metadata": {},
   "outputs": [],
   "source": [
    "search_term_embedding = []\n",
    "search_word = search_keyword.split()\n",
    "for term in search_word:\n",
    "#    print(corpus[term])\n",
    "    search_term_embedding.append(corpus[term])"
   ]
  },
  {
   "cell_type": "code",
   "execution_count": 43,
   "metadata": {},
   "outputs": [],
   "source": [
    "#averaged search term embedding\n",
    "search_term_embedding = numpy.mean(search_term_embedding)  "
   ]
  },
  {
   "cell_type": "code",
   "execution_count": 56,
   "metadata": {},
   "outputs": [
    {
     "data": {
      "text/plain": [
       "-0.006466749"
      ]
     },
     "execution_count": 56,
     "metadata": {},
     "output_type": "execute_result"
    }
   ],
   "source": [
    "search_term_embedding"
   ]
  },
  {
   "cell_type": "code",
   "execution_count": 77,
   "metadata": {},
   "outputs": [],
   "source": [
    "import re\n",
    "\n",
    "def remove_sym_specialchar(text):\n",
    "#    pattern = r'[^a-zA-Z0-9\\s]'\n",
    "#    text = re.sub(pattern,'', text)\n",
    "    text_nonum = re.sub(r'\\d+', '', text)\n",
    "    return text_nonum"
   ]
  },
  {
   "cell_type": "code",
   "execution_count": 78,
   "metadata": {},
   "outputs": [],
   "source": [
    "data['job_title'] = data.job_title.apply(remove_sym_specialchar)"
   ]
  },
  {
   "cell_type": "code",
   "execution_count": 79,
   "metadata": {},
   "outputs": [
    {
     "data": {
      "text/plain": [
       "' CT Bauer College of Business Graduate Magna Cum Laude and aspiring Human Resources professional'"
      ]
     },
     "execution_count": 79,
     "metadata": {},
     "output_type": "execute_result"
    }
   ],
   "source": [
    "data['job_title'][0]"
   ]
  },
  {
   "cell_type": "code",
   "execution_count": 138,
   "metadata": {},
   "outputs": [],
   "source": [
    "#calculate vector for the sentence by add individual word vectors using numpy.mean\n",
    "\n",
    "jobtitle_embeddings = []\n",
    "    \n",
    "for text in data['job_title']:\n",
    "    jobtitle_embedding = []\n",
    "    for word in text.split():\n",
    "        if word not in corpus:\n",
    "            jobtitle_embedding.append(0)\n",
    "        else:   \n",
    "            jobtitle_embedding.append(corpus[word])\n",
    "\n",
    "    jobtitle_embedding = numpy.mean(jobtitle_embedding)\n",
    "#average candidate job title embedding to represent the sentence\n",
    "\n",
    "    jobtitle_embeddings.append(jobtitle_embedding)"
   ]
  },
  {
   "cell_type": "code",
   "execution_count": 141,
   "metadata": {},
   "outputs": [
    {
     "data": {
      "text/plain": [
       "104"
      ]
     },
     "execution_count": 141,
     "metadata": {},
     "output_type": "execute_result"
    }
   ],
   "source": [
    "len(jobtitle_embeddings)"
   ]
  },
  {
   "cell_type": "code",
   "execution_count": 137,
   "metadata": {},
   "outputs": [
    {
     "data": {
      "text/plain": [
       "numpy.float32"
      ]
     },
     "execution_count": 137,
     "metadata": {},
     "output_type": "execute_result"
    }
   ],
   "source": [
    "type(jobtitle_embedding)"
   ]
  },
  {
   "cell_type": "code",
   "execution_count": 142,
   "metadata": {},
   "outputs": [],
   "source": [
    "cosine_similirity_scores = []\n",
    "\n",
    "#cos_similarity_lam = map(lambda x: cosine_similarity(search_term_embedding, x), jobtitle_embeddings)\n",
    "\n",
    "for jobtitle_embedding in jobtitle_embeddings:\n",
    "    score = cosine_similarity(search_term_embedding, jobtitle_embedding)\n",
    "    cosine_similirity_scores.append(score)"
   ]
  },
  {
   "cell_type": "code",
   "execution_count": 143,
   "metadata": {},
   "outputs": [
    {
     "data": {
      "text/plain": [
       "list"
      ]
     },
     "execution_count": 143,
     "metadata": {},
     "output_type": "execute_result"
    }
   ],
   "source": [
    "type(cosine_similirity_scores)"
   ]
  },
  {
   "cell_type": "code",
   "execution_count": 144,
   "metadata": {},
   "outputs": [
    {
     "data": {
      "text/plain": [
       "104"
      ]
     },
     "execution_count": 144,
     "metadata": {},
     "output_type": "execute_result"
    }
   ],
   "source": [
    "len(cosine_similirity_scores)"
   ]
  },
  {
   "cell_type": "code",
   "execution_count": 145,
   "metadata": {},
   "outputs": [
    {
     "data": {
      "text/plain": [
       "array([0.2513946 , 0.09600574, 0.08090651], dtype=float32)"
      ]
     },
     "execution_count": 145,
     "metadata": {},
     "output_type": "execute_result"
    }
   ],
   "source": [
    "cosine_similirity_scores[0]"
   ]
  },
  {
   "cell_type": "code",
   "execution_count": 146,
   "metadata": {},
   "outputs": [
    {
     "data": {
      "text/plain": [
       "array([[ 3.89722511e-02, -4.77363467e-02,  3.49631440e-03,\n",
       "         3.56157869e-02, -1.76214240e-02, -5.48222102e-02,\n",
       "        -4.77363467e-02, -4.69904654e-02,  5.81786707e-02,\n",
       "         1.92297285e-03, -5.14657497e-02, -1.73417199e-02,\n",
       "        -1.18408510e-02, -2.13508271e-02,  3.74804884e-02,\n",
       "        -1.26799671e-02, -5.48222102e-02, -8.24197829e-02,\n",
       "         2.17237659e-02, -1.94861256e-02,  2.62922850e-02,\n",
       "        -1.68755446e-02,  9.46335774e-03,  4.02775407e-02,\n",
       "         6.19080737e-02,  4.77363467e-02, -1.50108431e-02,\n",
       "         2.92758066e-02, -6.75021783e-02,  3.21660936e-03,\n",
       "        -3.99046019e-02,  3.13269757e-02,  4.45663556e-02,\n",
       "         8.68950635e-02,  3.87857817e-02, -1.92996562e-02,\n",
       "        -1.40784923e-02,  2.13508271e-02, -1.79011300e-02,\n",
       "         3.69210802e-02,  3.75271076e-03,  7.83174410e-02,\n",
       "         8.39115493e-03,  5.71064698e-03,  1.92064196e-02,\n",
       "        -2.75975764e-02,  3.37510891e-02, -7.12315738e-02,\n",
       "        -9.18365270e-03, -2.55464036e-02,  1.04423255e-01,\n",
       "        -8.13009664e-02, -3.28187384e-02, -1.27732018e-02,\n",
       "        -9.97615047e-03,  6.06027804e-03, -4.06504832e-02,\n",
       "         2.31222939e-02,  4.77363467e-02, -4.92281057e-02,\n",
       "        -4.62445877e-02,  3.39375585e-02,  4.92281057e-02,\n",
       "         3.46834399e-02, -3.31916772e-02,  1.23070264e-02,\n",
       "        -7.45880455e-02, -6.06027804e-03, -8.05550814e-02,\n",
       "         1.80875994e-02,  2.79705152e-02,  1.46845204e-03,\n",
       "        -8.95056501e-03, -3.56624066e-03,  4.51257639e-02,\n",
       "        -2.49869917e-02, -4.95311215e-05, -3.85993123e-02,\n",
       "         1.62228998e-02, -1.69687793e-02, -1.22137917e-02,\n",
       "        -4.45663556e-02,  5.07198684e-02,  3.67346108e-02,\n",
       "         3.30052078e-02,  3.82263735e-02, -9.74306278e-03,\n",
       "        -3.96248978e-03, -6.19080737e-02,  2.08846517e-02,\n",
       "         9.88291577e-03,  6.26539513e-02,  2.21899431e-02,\n",
       "         7.19774589e-02, -1.74349546e-02,  1.04306708e-03,\n",
       "        -3.13269757e-02, -4.25151847e-02,  2.01387703e-02,\n",
       "         1.02931499e-01, -1.30529068e-02,  5.37033901e-02,\n",
       "        -1.79011300e-02,  5.89245521e-02, -9.64982808e-03,\n",
       "        -4.56851758e-02, -2.17237659e-02,  4.73634042e-02,\n",
       "        -1.21578507e-01, -2.05117110e-02, -3.89722511e-02,\n",
       "        -1.94861256e-02,  3.03946268e-02, -4.53122333e-02,\n",
       "        -2.98352148e-02,  4.81092893e-02,  5.33304513e-02,\n",
       "         1.99523009e-02,  1.86470114e-02,  6.22810163e-02,\n",
       "        -1.64093692e-02,  4.06504832e-02,  2.10711211e-02,\n",
       "        -1.79011300e-02, -7.01127574e-02, -3.20728570e-02,\n",
       "         5.85516132e-02,  2.06049457e-02, -3.71075496e-02,\n",
       "        -5.89245521e-02,  1.14212940e-02,  3.63616720e-02,\n",
       "         4.36340049e-02, -1.43581983e-02,  3.22593264e-02,\n",
       "         8.39115493e-03,  2.75975764e-02,  4.47528213e-02,\n",
       "        -6.43321872e-03, -7.41218682e-03,  3.63616720e-02,\n",
       "         8.09280202e-02,  6.00433722e-02,  2.14440618e-02,\n",
       "        -3.41240279e-02,  8.99718236e-03, -4.30745967e-02,\n",
       "         2.11643558e-02, -4.23287116e-02,  9.06244665e-02,\n",
       "        -7.80843489e-04,  6.82480559e-02, -3.58022600e-02,\n",
       "         3.52428481e-02, -4.23287116e-02,  3.16999182e-02,\n",
       "         1.12348245e-02,  2.90893354e-02, -9.61486425e-04,\n",
       "         4.40069437e-02, -3.85993123e-02,  6.96349307e-04,\n",
       "         3.52428481e-02,  4.17693034e-02, -3.16999182e-02,\n",
       "        -2.36817021e-02,  7.59865670e-03,  2.20034719e-02,\n",
       "        -2.17237659e-02, -1.79943647e-02,  8.65221247e-02,\n",
       "         4.89484007e-03, -4.00910713e-03,  3.39375585e-02,\n",
       "        -5.03469259e-02, -1.70620140e-02, -3.33315320e-03,\n",
       "         6.04163148e-02,  4.88551669e-02, -5.80388214e-03,\n",
       "         4.10234230e-03,  3.61751989e-02, -1.47311380e-02,\n",
       "        -1.92996562e-02,  3.99046019e-02, -1.94861256e-02,\n",
       "        -8.46574232e-02,  4.32610624e-02, -4.77363467e-02,\n",
       "        -2.96487473e-02,  4.12565097e-03, -2.79705152e-02,\n",
       "         2.35884674e-02,  4.92281057e-02,  7.08586425e-02,\n",
       "         1.92064196e-02, -7.34692216e-02,  1.11415889e-02,\n",
       "         1.41717279e-02,  4.12098914e-02, -4.71769348e-02,\n",
       "         1.76214240e-02,  1.11415889e-02,  1.26741405e-04,\n",
       "         4.77829669e-03, -1.37055526e-02,  2.48005241e-02,\n",
       "         7.01127574e-02,  5.68733830e-03,  3.07675656e-02,\n",
       "         4.52189986e-03,  4.03241580e-03, -6.33998364e-02,\n",
       "        -4.19557746e-03,  8.25130194e-03, -6.85277628e-03,\n",
       "         1.70153962e-03,  1.15611469e-02, -8.72680098e-02,\n",
       "         5.89245521e-02,  1.34258475e-02,  6.26539513e-02,\n",
       "         2.77840458e-02, -3.97181325e-02, -3.63616720e-02,\n",
       "         6.94601145e-03, -8.11144989e-03,  3.87857817e-02,\n",
       "         2.01387703e-02,  4.32610624e-02, -1.38920229e-02,\n",
       "         4.88551669e-02,  2.75975764e-02, -2.04184763e-02,\n",
       "        -8.98785964e-02, -4.92281057e-02, -4.84822243e-02,\n",
       "        -2.11643558e-02,  7.27233440e-02, -9.92020965e-02,\n",
       "        -4.56851758e-02, -9.32350568e-03, -1.34258475e-02,\n",
       "         7.55203934e-03,  1.95793598e-03,  8.43777228e-03,\n",
       "        -1.81808360e-02, -2.61058137e-02, -4.04640101e-02,\n",
       "         3.35646197e-02, -8.95056427e-02, -1.18874693e-02,\n",
       "        -2.81569846e-02, -7.98092037e-02, -5.19785425e-03,\n",
       "        -4.47528213e-02, -1.49176074e-02,  1.92996562e-02,\n",
       "         2.90893354e-02, -1.48243736e-02,  3.80399004e-02,\n",
       "        -1.66890733e-02,  7.68256783e-02, -5.96704297e-02,\n",
       "        -6.22810163e-02, -1.33326128e-02,  4.13963608e-02,\n",
       "        -9.21162292e-02,  4.61513503e-03,  2.85299253e-02,\n",
       "        -3.54293212e-02, -2.21899431e-02, -4.13963608e-02,\n",
       "        -2.72712531e-03,  2.55464036e-02, -5.74327931e-02,\n",
       "         4.30745967e-02,  2.44742003e-03,  4.71769348e-02,\n",
       "        -9.77103338e-02, -1.17476163e-02, -3.24457996e-02,\n",
       "        -9.50997509e-03, -2.66652256e-02, -9.78968013e-03,\n",
       "         1.35190822e-02,  7.83174410e-02, -3.78534310e-02,\n",
       "        -1.46379033e-02, -5.51951528e-02, -1.73417199e-02,\n",
       "         2.05117115e-03,  3.18863876e-02,  1.52905490e-02,\n",
       "         3.74804884e-02,  7.75715634e-02,  5.59410267e-03,\n",
       "         1.98590662e-02,  5.03469259e-02, -2.04184763e-02],\n",
       "       [-1.06754135e-02, -1.76214240e-02, -2.06049457e-02,\n",
       "        -5.40763289e-02,  4.64310572e-02, -3.63616692e-03,\n",
       "        -7.79445022e-02,  6.06027804e-03,  9.13703442e-03,\n",
       "        -1.21205561e-02,  1.78078935e-02,  8.53100698e-03,\n",
       "         4.60581146e-02,  3.02081574e-02,  1.11415889e-02,\n",
       "        -4.81092893e-02,  6.20013103e-03, -1.91131867e-02,\n",
       "         8.71747732e-03, -2.59193424e-02,  3.95316631e-02,\n",
       "         7.12315738e-02, -8.39115493e-03, -8.11144989e-03,\n",
       "        -1.32393772e-02,  4.62445877e-02,  5.25845699e-02,\n",
       "        -3.72940227e-02, -4.32610624e-02,  3.63616720e-02,\n",
       "         4.49392982e-02,  1.06287962e-02,  2.38681734e-02,\n",
       "         1.67823099e-02,  4.45663556e-02, -1.83673054e-02,\n",
       "         9.23027005e-03, -8.67085997e-03, -1.87402442e-02,\n",
       "        -1.10017359e-02,  7.97159690e-03, -3.85993123e-02,\n",
       "         1.72484852e-02, -5.25845699e-02,  1.21205561e-02,\n",
       "        -9.41674039e-03, -5.59410267e-03, -4.92281057e-02,\n",
       "        -2.53599342e-02, -1.41717279e-02, -1.26799671e-02,\n",
       "         2.62922850e-02,  3.31916772e-02, -3.61751989e-02,\n",
       "         3.59887294e-02,  8.29791930e-03, -4.03241580e-03,\n",
       "         5.78057356e-02, -3.37510891e-02, -6.19080737e-02,\n",
       "         2.43576569e-03, -2.80870614e-03, -3.59887294e-02,\n",
       "        -1.83673054e-02,  1.55702541e-02,  1.26799671e-02,\n",
       "        -1.85537748e-02, -4.38204743e-02,  5.63139692e-02,\n",
       "         2.08846517e-02, -1.24934958e-02,  1.41717279e-02,\n",
       "         6.52645365e-04,  1.31461425e-02,  1.88334808e-02,\n",
       "         2.17237659e-02, -1.96725950e-02, -2.66885338e-03,\n",
       "         1.35190822e-02,  3.47300572e-03, -1.24002621e-02,\n",
       "         6.24674791e-03, -2.00455356e-02,  1.37987882e-02,\n",
       "         3.19330045e-03,  1.18408510e-02,  5.39015164e-04,\n",
       "        -3.07675656e-02,  1.00693852e-02, -2.49869917e-02,\n",
       "        -2.79705152e-02, -5.38432458e-03,  1.05821779e-02,\n",
       "        -9.67313652e-04,  7.50542153e-03,  4.45197336e-03,\n",
       "        -2.22831778e-02, -1.81808360e-02, -1.73417199e-02,\n",
       "         1.18874693e-02,  2.36817021e-02, -4.66175284e-03,\n",
       "        -3.63616720e-02,  1.04889432e-02, -3.22593264e-02,\n",
       "         3.70609341e-03,  1.31461425e-02, -8.25130194e-03,\n",
       "        -1.91131867e-02, -3.26322671e-03,  3.58022600e-02,\n",
       "         1.03723991e-03, -8.53100698e-03, -2.79705152e-02,\n",
       "         2.27260432e-04, -1.66890733e-02,  1.66890733e-02,\n",
       "         4.26550349e-03, -3.00216861e-02, -2.83434559e-02,\n",
       "         3.37510891e-02,  4.71769348e-02,  5.18386848e-02,\n",
       "        -1.74349546e-02,  5.18386848e-02,  8.01821426e-03,\n",
       "        -2.89028678e-02,  1.88800984e-03, -4.10234220e-02,\n",
       "        -7.37139606e-04,  2.07914170e-02,  1.92064196e-02,\n",
       "         7.27233440e-02, -1.52905490e-02, -1.68755446e-02,\n",
       "         3.93451899e-02, -1.04889432e-02, -1.31461425e-02,\n",
       "        -2.68516950e-02,  2.74111051e-02, -1.83673054e-02,\n",
       "         6.61968859e-03,  2.72246338e-02, -4.66175284e-03,\n",
       "         1.20273223e-02, -1.96725950e-02,  5.96704334e-03,\n",
       "        -4.92281057e-02, -4.96476656e-03,  9.46335774e-03,\n",
       "        -1.27732018e-02,  1.12348245e-02,  2.98352148e-02,\n",
       "        -5.92974946e-02,  6.24674791e-03,  3.35646197e-02,\n",
       "         1.09551186e-02,  6.52645379e-02, -3.87857817e-02,\n",
       "         2.49869917e-02,  1.92996562e-02,  5.92974946e-02,\n",
       "        -4.66175232e-04, -1.15611469e-02,  3.52428481e-02,\n",
       "        -2.54065520e-03, -1.39852576e-02,  1.91131867e-02,\n",
       "        -3.61285848e-03,  1.61296632e-02, -7.69189140e-03,\n",
       "        -2.12575924e-02, -2.05117110e-02, -9.88291577e-03,\n",
       "        -5.74327931e-02, -7.41218682e-03,  2.34952327e-02,\n",
       "         1.01160025e-02,  3.43104973e-02,  4.17693034e-02,\n",
       "         1.46379033e-02, -2.07914170e-02, -2.40546446e-02,\n",
       "         5.59410304e-02,  5.29575087e-02, -3.65947583e-03,\n",
       "         3.67346108e-02,  7.03924615e-03, -3.21660936e-03,\n",
       "        -6.04163148e-02,  3.03946268e-02, -2.30290573e-02,\n",
       "         3.05810980e-02, -1.99523009e-02,  2.85299253e-02,\n",
       "         1.28664374e-02, -2.01387703e-02,  3.44969705e-02,\n",
       "         1.42649626e-02,  3.84128392e-02, -2.81569846e-02,\n",
       "        -3.16999177e-03,  2.68516950e-02,  5.33770677e-03,\n",
       "         3.05810980e-02,  8.11144989e-03,  2.30290573e-02,\n",
       "         1.35190822e-02,  6.71292394e-02,  4.99739833e-02,\n",
       "         6.67562932e-02, -5.90003074e-05,  2.77840458e-02,\n",
       "         1.70620140e-02,  6.66630641e-03, -1.30529068e-02,\n",
       "        -4.75498773e-02,  1.51040787e-02,  5.71064698e-03,\n",
       "        -7.13248132e-03, -4.56851758e-02, -1.73417199e-02,\n",
       "        -3.58022600e-02,  5.37033901e-02, -1.04889432e-02,\n",
       "         2.81569846e-02, -1.57567244e-02, -1.35190822e-02,\n",
       "        -1.54770184e-02, -1.66890733e-02, -6.86209947e-02,\n",
       "        -2.09778864e-02, -1.58790950e-04, -1.11415889e-02,\n",
       "         2.79705152e-02,  3.84128392e-02,  6.75954111e-03,\n",
       "        -2.16305312e-02, -1.72484852e-02,  2.21899431e-02,\n",
       "        -5.70598505e-02,  9.26523353e-04,  8.06483161e-03,\n",
       "         2.83434559e-02, -2.55464036e-02,  7.31895166e-03,\n",
       "        -1.21205561e-02, -3.35646197e-02,  1.21205561e-02,\n",
       "         3.00216861e-02, -3.42638814e-03, -1.26450032e-03,\n",
       "         3.33315320e-03, -1.09085012e-02, -7.13248132e-03,\n",
       "         8.76409486e-02,  4.94145788e-03, -2.19102371e-02,\n",
       "        -9.09041800e-03, -7.45880371e-03, -1.66890733e-02,\n",
       "         1.38920229e-02,  2.18170024e-02, -1.09085012e-02,\n",
       "         2.24929559e-03, -7.31895166e-03, -1.26741405e-04,\n",
       "         2.33087616e-04,  2.64787544e-02, -2.10711211e-02,\n",
       "         1.92996562e-02, -1.33326128e-02,  3.16999182e-02,\n",
       "         3.82263735e-02,  2.38681734e-02,  1.32393772e-02,\n",
       "         2.94622760e-02, -2.09778864e-02, -6.24674791e-03,\n",
       "        -9.23027005e-03,  1.79943647e-02, -1.71552487e-02,\n",
       "        -2.19102371e-02,  8.90394673e-03,  1.20273223e-02,\n",
       "        -2.86697783e-03,  2.96487473e-02,  2.30290573e-02,\n",
       "        -4.27016541e-02, -3.80399004e-02,  4.04640101e-02,\n",
       "         1.24934958e-02,  5.96704297e-02, -1.66890733e-02,\n",
       "         4.25151847e-02, -2.34952327e-02, -9.09041730e-04,\n",
       "         1.36123169e-02, -3.09540369e-02, -1.74349546e-02],\n",
       "       [ 9.18365270e-03,  3.98579845e-03, -4.88551669e-02,\n",
       "        -3.56624066e-03, -6.43321872e-03, -7.27233384e-03,\n",
       "        -8.01821426e-03,  3.03946268e-02,  1.40784923e-02,\n",
       "         5.33304513e-02,  1.24002621e-02, -2.58581586e-05,\n",
       "         2.51734629e-02, -6.63833544e-02,  2.19102371e-02,\n",
       "         2.07914170e-02,  5.70598505e-02, -3.37510891e-02,\n",
       "        -1.22371002e-03,  2.03252416e-02,  1.89267155e-02,\n",
       "         4.92281057e-02, -2.24696491e-02, -1.95793603e-02,\n",
       "        -3.63616720e-02, -3.89722511e-02,  5.78057347e-03,\n",
       "        -1.24002621e-02,  3.58022600e-02,  4.92281057e-02,\n",
       "        -1.22137917e-02, -9.97615047e-03,  1.37055526e-02,\n",
       "         1.53837828e-02,  1.95793603e-02, -3.72940209e-04,\n",
       "         1.04423258e-02, -5.81786707e-02, -5.18386848e-02,\n",
       "        -2.03252416e-02, -1.19340867e-02, -2.81569846e-02,\n",
       "        -3.67346108e-02,  6.85277628e-03, -5.65237482e-04,\n",
       "         3.39375585e-02,  4.25151847e-02, -4.88551669e-02,\n",
       "         2.72246338e-02,  5.21533540e-04, -1.33326128e-02,\n",
       "         6.11621961e-02,  4.96476656e-03,  9.09041800e-03,\n",
       "         5.10928072e-02,  8.57762434e-03,  3.07675656e-02,\n",
       "         5.63139692e-02, -2.49403762e-03, -1.27732018e-02,\n",
       "         2.57328749e-02,  2.13508271e-02, -2.11643558e-02,\n",
       "         1.22137917e-02,  5.92974946e-02,  1.45446677e-02,\n",
       "         4.21888614e-03,  1.96725950e-02,  4.51257639e-02,\n",
       "        -1.97658315e-02, -4.63261676e-04,  4.84822243e-02,\n",
       "        -2.16305312e-02,  3.07675661e-03, -4.43798862e-02,\n",
       "         1.79011300e-02, -8.43777228e-03,  3.10006551e-03,\n",
       "         4.84822271e-03, -1.06287962e-02, -3.59887294e-02,\n",
       "        -8.57762471e-02, -2.23764107e-02, -4.66175228e-02,\n",
       "         1.08152656e-02,  4.59182635e-03,  2.03252416e-02,\n",
       "        -5.10928072e-02, -3.52428481e-02, -1.91131867e-02,\n",
       "        -3.61751989e-02,  2.87163965e-02, -5.33770677e-03,\n",
       "         1.61296632e-02, -1.04889432e-02,  3.03946268e-02,\n",
       "         3.11405081e-02, -4.43798862e-02, -4.41934168e-02,\n",
       "        -2.03252416e-02,  3.75271076e-03,  2.05117110e-02,\n",
       "        -2.13508271e-02, -1.42649626e-02,  2.87163965e-02,\n",
       "         2.38681734e-02,  1.78078935e-02,  3.39375585e-02,\n",
       "        -5.92974946e-02, -8.48438963e-03,  5.45425061e-03,\n",
       "         1.29596712e-02, -1.00693852e-02, -5.75726433e-03,\n",
       "         1.92996562e-02, -2.38681734e-02,  1.49176084e-03,\n",
       "         4.10234220e-02, -3.48699093e-02, -2.15372983e-02,\n",
       "         7.04856962e-02, -1.64093692e-02, -1.04423258e-02,\n",
       "        -3.39375585e-02,  2.31222939e-02, -1.15611469e-02,\n",
       "         4.04640101e-02,  2.00455356e-03, -9.04379971e-03,\n",
       "         1.51040787e-02,  2.03252416e-02,  2.51734629e-02,\n",
       "         1.45446677e-02, -2.42411122e-02, -4.82491404e-03,\n",
       "         5.70598505e-02, -4.98807523e-03,  1.49176074e-02,\n",
       "        -4.02775407e-02, -9.64982808e-03, -1.57567244e-02,\n",
       "         2.09778864e-02, -3.28653562e-03,  5.96704334e-03,\n",
       "        -1.73650286e-03,  4.91814874e-03, -1.17476163e-02,\n",
       "        -3.78534310e-02, -2.59193424e-02, -1.31461425e-02,\n",
       "        -1.81808360e-02, -3.71075496e-02, -7.03924615e-03,\n",
       "        -3.84128392e-02, -9.24891755e-02,  3.68278450e-03,\n",
       "        -1.99523009e-02,  1.11882053e-02,  6.48915991e-02,\n",
       "         6.78751171e-02, -2.42411122e-02,  9.64982808e-03,\n",
       "         1.68988528e-03, -2.64787544e-02, -6.06027804e-03,\n",
       "        -7.03924615e-03,  3.44969705e-02,  3.05810980e-02,\n",
       "        -3.43104973e-02,  1.54770184e-02,  6.70126930e-04,\n",
       "        -2.79705152e-02,  1.00227678e-02,  3.23991780e-03,\n",
       "        -3.63616720e-02,  3.54293212e-02, -5.85049996e-03,\n",
       "         1.97658315e-02,  4.92281057e-02,  1.13280583e-02,\n",
       "         9.27688740e-03, -1.79011300e-02, -1.29596712e-02,\n",
       "         2.20034719e-02,  5.07198684e-02,  3.31916772e-02,\n",
       "         1.51040787e-02, -3.50563787e-02, -7.64527470e-02,\n",
       "        -3.84128392e-02,  7.49609768e-02,  5.74327931e-02,\n",
       "         3.22593264e-02, -2.68516950e-02,  6.30268976e-02,\n",
       "        -1.41717279e-02,  1.31461425e-02,  3.15134488e-02,\n",
       "        -3.71075496e-02,  6.60104156e-02,  5.03469259e-02,\n",
       "        -2.96487473e-02, -2.51734629e-02,  1.47311380e-02,\n",
       "         7.69189140e-03, -1.96725950e-02,  9.83629748e-03,\n",
       "         3.95316631e-02,  4.45663556e-02, -3.20728570e-02,\n",
       "         3.48699093e-02,  8.48438963e-03,  2.20034719e-02,\n",
       "        -1.44514339e-02, -4.34475318e-02, -2.77840458e-02,\n",
       "        -4.51257639e-02, -3.86925461e-03,  1.21205561e-02,\n",
       "        -2.01387703e-02, -2.06981804e-02,  1.71552487e-02,\n",
       "        -1.32393772e-02, -5.96704297e-02,  2.87163965e-02,\n",
       "         1.73417199e-02, -1.16077643e-02,  7.97159690e-03,\n",
       "        -5.68733830e-03, -1.05355605e-02,  3.72940227e-02,\n",
       "        -1.68755446e-02,  2.05117110e-02,  5.96704297e-02,\n",
       "         1.32393772e-02, -5.36101521e-04,  1.20273223e-02,\n",
       "        -8.25130194e-03, -2.74111051e-02,  2.51734629e-02,\n",
       "         1.86470114e-02, -4.36340049e-02, -2.00455356e-02,\n",
       "        -7.87836220e-03, -1.43581983e-02,  3.16999182e-02,\n",
       "        -4.45663556e-02,  1.01160025e-02,  6.24674791e-03,\n",
       "         6.80615846e-03,  3.33781466e-02, -9.23027005e-03,\n",
       "         2.61058137e-02, -2.66652256e-02, -2.74111051e-02,\n",
       "         2.90893354e-02,  3.07675661e-03,  2.31222939e-02,\n",
       "         9.37012210e-03, -2.72246338e-02, -1.99523009e-02,\n",
       "         6.45186529e-02, -1.00693852e-02, -6.04163148e-02,\n",
       "        -4.28881217e-03, -5.03469259e-02, -2.84366915e-03,\n",
       "        -2.90893354e-02,  5.18386848e-02, -8.85733031e-03,\n",
       "         4.19557728e-02, -2.57328749e-02, -3.12337396e-03,\n",
       "        -3.33781466e-02,  1.62228998e-02, -3.50563787e-02,\n",
       "         4.96476656e-03, -1.28664374e-02,  1.61296632e-02,\n",
       "         1.63161345e-02,  4.27016541e-02,  2.96487473e-02,\n",
       "        -3.52428481e-02, -2.01387703e-02,  4.17693034e-02,\n",
       "        -2.49869917e-02, -5.03469259e-03, -3.30052078e-02,\n",
       "        -6.22810163e-02, -1.31461425e-02,  3.48699093e-02,\n",
       "         1.73417199e-02,  3.35646197e-02, -7.69189140e-03,\n",
       "        -2.19102371e-02,  1.30529068e-02, -3.37510891e-02,\n",
       "         3.56157869e-02,  7.69189140e-03,  3.91587196e-03]], dtype=float32)"
      ]
     },
     "execution_count": 146,
     "metadata": {},
     "output_type": "execute_result"
    }
   ],
   "source": [
    "cosine_similirity_scores[1]"
   ]
  },
  {
   "cell_type": "code",
   "execution_count": null,
   "metadata": {},
   "outputs": [],
   "source": []
  }
 ],
 "metadata": {
  "kernelspec": {
   "display_name": "Python 3",
   "language": "python",
   "name": "python3"
  },
  "language_info": {
   "codemirror_mode": {
    "name": "ipython",
    "version": 3
   },
   "file_extension": ".py",
   "mimetype": "text/x-python",
   "name": "python",
   "nbconvert_exporter": "python",
   "pygments_lexer": "ipython3",
   "version": "3.7.4"
  }
 },
 "nbformat": 4,
 "nbformat_minor": 2
}
